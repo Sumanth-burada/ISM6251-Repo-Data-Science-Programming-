{
 "cells": [
  {
   "attachments": {},
   "cell_type": "markdown",
   "id": "5ad941fe",
   "metadata": {},
   "source": [
    "# Predicting Tomorrow's tesla stock price"
   ]
  },
  {
   "attachments": {},
   "cell_type": "markdown",
   "id": "113bfd45",
   "metadata": {},
   "source": [
    "Our objective is to predict tomorrow's temperature given 100 number of previous days temperatures. "
   ]
  },
  {
   "cell_type": "code",
   "execution_count": 1,
   "id": "ed7890fa",
   "metadata": {},
   "outputs": [],
   "source": [
    "import tensorflow as tf\n",
    "from tensorflow import keras\n",
    "from sklearn.metrics import mean_squared_error\n",
    "\n",
    "\n",
    "# Common imports\n",
    "import numpy as np\n",
    "import os\n",
    "import datetime as dt\n",
    "# to make this notebook's output stable across runs\n",
    "np.random.seed(42)\n",
    "# To plot pretty figures\n",
    "%matplotlib inline\n",
    "import matplotlib as mpl\n",
    "import matplotlib.pyplot as plt\n",
    "mpl.rc('axes', labelsize=14)\n",
    "mpl.rc('xtick', labelsize=12)\n",
    "mpl.rc('ytick', labelsize=12)\n",
    "import pandas as pd\n",
    "import seaborn as sns\n",
    "\n",
    "\n"
   ]
  },
  {
   "cell_type": "code",
   "execution_count": 9,
   "id": "c5e329a7",
   "metadata": {},
   "outputs": [],
   "source": [
    "Tesla = pd.read_csv(\"C:/Users/suman/DspData/Tesla.csv\")"
   ]
  },
  {
   "cell_type": "code",
   "execution_count": 10,
   "id": "872a7130",
   "metadata": {},
   "outputs": [
    {
     "data": {
      "text/html": [
       "<div>\n",
       "<style scoped>\n",
       "    .dataframe tbody tr th:only-of-type {\n",
       "        vertical-align: middle;\n",
       "    }\n",
       "\n",
       "    .dataframe tbody tr th {\n",
       "        vertical-align: top;\n",
       "    }\n",
       "\n",
       "    .dataframe thead th {\n",
       "        text-align: right;\n",
       "    }\n",
       "</style>\n",
       "<table border=\"1\" class=\"dataframe\">\n",
       "  <thead>\n",
       "    <tr style=\"text-align: right;\">\n",
       "      <th></th>\n",
       "      <th>Date</th>\n",
       "      <th>Open</th>\n",
       "      <th>High</th>\n",
       "      <th>Low</th>\n",
       "      <th>Close</th>\n",
       "      <th>Adj Close</th>\n",
       "      <th>Volume</th>\n",
       "    </tr>\n",
       "  </thead>\n",
       "  <tbody>\n",
       "    <tr>\n",
       "      <th>0</th>\n",
       "      <td>11/28/2022</td>\n",
       "      <td>179.960007</td>\n",
       "      <td>188.500000</td>\n",
       "      <td>179.000000</td>\n",
       "      <td>182.919998</td>\n",
       "      <td>182.919998</td>\n",
       "      <td>92905200</td>\n",
       "    </tr>\n",
       "    <tr>\n",
       "      <th>1</th>\n",
       "      <td>11/29/2022</td>\n",
       "      <td>184.990005</td>\n",
       "      <td>186.380005</td>\n",
       "      <td>178.750000</td>\n",
       "      <td>180.830002</td>\n",
       "      <td>180.830002</td>\n",
       "      <td>83357100</td>\n",
       "    </tr>\n",
       "    <tr>\n",
       "      <th>2</th>\n",
       "      <td>11/30/2022</td>\n",
       "      <td>182.429993</td>\n",
       "      <td>194.759995</td>\n",
       "      <td>180.630005</td>\n",
       "      <td>194.699997</td>\n",
       "      <td>194.699997</td>\n",
       "      <td>109186400</td>\n",
       "    </tr>\n",
       "    <tr>\n",
       "      <th>3</th>\n",
       "      <td>12/1/2022</td>\n",
       "      <td>197.080002</td>\n",
       "      <td>198.919998</td>\n",
       "      <td>191.800003</td>\n",
       "      <td>194.699997</td>\n",
       "      <td>194.699997</td>\n",
       "      <td>80046200</td>\n",
       "    </tr>\n",
       "    <tr>\n",
       "      <th>4</th>\n",
       "      <td>12/2/2022</td>\n",
       "      <td>191.779999</td>\n",
       "      <td>196.250000</td>\n",
       "      <td>191.110001</td>\n",
       "      <td>194.860001</td>\n",
       "      <td>194.860001</td>\n",
       "      <td>73645900</td>\n",
       "    </tr>\n",
       "    <tr>\n",
       "      <th>...</th>\n",
       "      <td>...</td>\n",
       "      <td>...</td>\n",
       "      <td>...</td>\n",
       "      <td>...</td>\n",
       "      <td>...</td>\n",
       "      <td>...</td>\n",
       "      <td>...</td>\n",
       "    </tr>\n",
       "    <tr>\n",
       "      <th>95</th>\n",
       "      <td>4/17/2023</td>\n",
       "      <td>186.320007</td>\n",
       "      <td>189.690002</td>\n",
       "      <td>182.690002</td>\n",
       "      <td>187.039993</td>\n",
       "      <td>187.039993</td>\n",
       "      <td>116662200</td>\n",
       "    </tr>\n",
       "    <tr>\n",
       "      <th>96</th>\n",
       "      <td>4/18/2023</td>\n",
       "      <td>187.149994</td>\n",
       "      <td>187.690002</td>\n",
       "      <td>183.580002</td>\n",
       "      <td>184.309998</td>\n",
       "      <td>184.309998</td>\n",
       "      <td>92067000</td>\n",
       "    </tr>\n",
       "    <tr>\n",
       "      <th>97</th>\n",
       "      <td>4/19/2023</td>\n",
       "      <td>179.100006</td>\n",
       "      <td>183.500000</td>\n",
       "      <td>177.649994</td>\n",
       "      <td>180.589996</td>\n",
       "      <td>180.589996</td>\n",
       "      <td>125732700</td>\n",
       "    </tr>\n",
       "    <tr>\n",
       "      <th>98</th>\n",
       "      <td>4/20/2023</td>\n",
       "      <td>166.169998</td>\n",
       "      <td>169.699997</td>\n",
       "      <td>160.559998</td>\n",
       "      <td>162.990005</td>\n",
       "      <td>162.990005</td>\n",
       "      <td>210970800</td>\n",
       "    </tr>\n",
       "    <tr>\n",
       "      <th>99</th>\n",
       "      <td>4/21/2023</td>\n",
       "      <td>164.800003</td>\n",
       "      <td>166.000000</td>\n",
       "      <td>161.320007</td>\n",
       "      <td>165.080002</td>\n",
       "      <td>165.080002</td>\n",
       "      <td>123352300</td>\n",
       "    </tr>\n",
       "  </tbody>\n",
       "</table>\n",
       "<p>100 rows × 7 columns</p>\n",
       "</div>"
      ],
      "text/plain": [
       "          Date        Open        High         Low       Close   Adj Close   \n",
       "0   11/28/2022  179.960007  188.500000  179.000000  182.919998  182.919998  \\\n",
       "1   11/29/2022  184.990005  186.380005  178.750000  180.830002  180.830002   \n",
       "2   11/30/2022  182.429993  194.759995  180.630005  194.699997  194.699997   \n",
       "3    12/1/2022  197.080002  198.919998  191.800003  194.699997  194.699997   \n",
       "4    12/2/2022  191.779999  196.250000  191.110001  194.860001  194.860001   \n",
       "..         ...         ...         ...         ...         ...         ...   \n",
       "95   4/17/2023  186.320007  189.690002  182.690002  187.039993  187.039993   \n",
       "96   4/18/2023  187.149994  187.690002  183.580002  184.309998  184.309998   \n",
       "97   4/19/2023  179.100006  183.500000  177.649994  180.589996  180.589996   \n",
       "98   4/20/2023  166.169998  169.699997  160.559998  162.990005  162.990005   \n",
       "99   4/21/2023  164.800003  166.000000  161.320007  165.080002  165.080002   \n",
       "\n",
       "       Volume  \n",
       "0    92905200  \n",
       "1    83357100  \n",
       "2   109186400  \n",
       "3    80046200  \n",
       "4    73645900  \n",
       "..        ...  \n",
       "95  116662200  \n",
       "96   92067000  \n",
       "97  125732700  \n",
       "98  210970800  \n",
       "99  123352300  \n",
       "\n",
       "[100 rows x 7 columns]"
      ]
     },
     "execution_count": 10,
     "metadata": {},
     "output_type": "execute_result"
    }
   ],
   "source": [
    "Tesla"
   ]
  },
  {
   "cell_type": "code",
   "execution_count": 11,
   "id": "85e6deb0",
   "metadata": {},
   "outputs": [
    {
     "name": "stdout",
     "output_type": "stream",
     "text": [
      "<class 'pandas.core.frame.DataFrame'>\n",
      "RangeIndex: 100 entries, 0 to 99\n",
      "Data columns (total 7 columns):\n",
      " #   Column     Non-Null Count  Dtype  \n",
      "---  ------     --------------  -----  \n",
      " 0   Date       100 non-null    object \n",
      " 1   Open       100 non-null    float64\n",
      " 2   High       100 non-null    float64\n",
      " 3   Low        100 non-null    float64\n",
      " 4   Close      100 non-null    float64\n",
      " 5   Adj Close  100 non-null    float64\n",
      " 6   Volume     100 non-null    int64  \n",
      "dtypes: float64(5), int64(1), object(1)\n",
      "memory usage: 5.6+ KB\n"
     ]
    }
   ],
   "source": [
    "Tesla.info()"
   ]
  },
  {
   "cell_type": "code",
   "execution_count": 12,
   "id": "1c792dc2",
   "metadata": {},
   "outputs": [],
   "source": [
    "#Drop the columns Date we don't need\n",
    "\n",
    "Tesla =Tesla[Tesla.columns.difference(['Open', 'High', 'Low', 'Adj Close', 'Volume'])].reset_index()"
   ]
  },
  {
   "cell_type": "code",
   "execution_count": 13,
   "id": "b362ded5",
   "metadata": {},
   "outputs": [
    {
     "name": "stdout",
     "output_type": "stream",
     "text": [
      "<class 'pandas.core.frame.DataFrame'>\n",
      "RangeIndex: 100 entries, 0 to 99\n",
      "Data columns (total 3 columns):\n",
      " #   Column  Non-Null Count  Dtype  \n",
      "---  ------  --------------  -----  \n",
      " 0   index   100 non-null    int64  \n",
      " 1   Close   100 non-null    float64\n",
      " 2   Date    100 non-null    object \n",
      "dtypes: float64(1), int64(1), object(1)\n",
      "memory usage: 2.5+ KB\n"
     ]
    }
   ],
   "source": [
    "Tesla.info()"
   ]
  },
  {
   "cell_type": "code",
   "execution_count": 14,
   "id": "cad248b3",
   "metadata": {},
   "outputs": [
    {
     "data": {
      "image/png": "[encoded data removed]",
      "text/plain": [
       "<Figure size 640x480 with 1 Axes>"
      ]
     },
     "metadata": {},
     "output_type": "display_data"
    }
   ],
   "source": [
    "#Plot close\n",
    "\n",
    "plt.plot(Tesla['Close'])\n",
    "plt.show()"
   ]
  },
  {
   "cell_type": "markdown",
   "id": "05167f3f",
   "metadata": {},
   "source": [
    "# RESHAPE the data set!"
   ]
  },
  {
   "cell_type": "code",
   "execution_count": 15,
   "id": "89a1a682",
   "metadata": {
    "scrolled": true
   },
   "outputs": [
    {
     "name": "stdout",
     "output_type": "stream",
     "text": [
      "<class 'pandas.core.frame.DataFrame'>\n",
      "RangeIndex: 100 entries, 0 to 99\n",
      "Data columns (total 3 columns):\n",
      " #   Column  Non-Null Count  Dtype  \n",
      "---  ------  --------------  -----  \n",
      " 0   index   100 non-null    int64  \n",
      " 1   Close   100 non-null    float64\n",
      " 2   Date    100 non-null    object \n",
      "dtypes: float64(1), int64(1), object(1)\n",
      "memory usage: 2.5+ KB\n"
     ]
    }
   ],
   "source": [
    "Tesla.info()"
   ]
  },
  {
   "cell_type": "code",
   "execution_count": 16,
   "id": "568646b8",
   "metadata": {},
   "outputs": [],
   "source": [
    "Tesla = Tesla.drop(['index'], axis=1)"
   ]
  },
  {
   "cell_type": "code",
   "execution_count": 17,
   "id": "4d681aac",
   "metadata": {},
   "outputs": [
    {
     "data": {
      "text/plain": [
       "(100, 2)"
      ]
     },
     "execution_count": 17,
     "metadata": {},
     "output_type": "execute_result"
    }
   ],
   "source": [
    "Tesla.shape"
   ]
  },
  {
   "cell_type": "code",
   "execution_count": 18,
   "id": "b8776dad",
   "metadata": {},
   "outputs": [
    {
     "data": {
      "text/html": [
       "<div>\n",
       "<style scoped>\n",
       "    .dataframe tbody tr th:only-of-type {\n",
       "        vertical-align: middle;\n",
       "    }\n",
       "\n",
       "    .dataframe tbody tr th {\n",
       "        vertical-align: top;\n",
       "    }\n",
       "\n",
       "    .dataframe thead th {\n",
       "        text-align: right;\n",
       "    }\n",
       "</style>\n",
       "<table border=\"1\" class=\"dataframe\">\n",
       "  <thead>\n",
       "    <tr style=\"text-align: right;\">\n",
       "      <th></th>\n",
       "      <th>Close</th>\n",
       "    </tr>\n",
       "    <tr>\n",
       "      <th>Date</th>\n",
       "      <th></th>\n",
       "    </tr>\n",
       "  </thead>\n",
       "  <tbody>\n",
       "    <tr>\n",
       "      <th>1/10/2023</th>\n",
       "      <td>1</td>\n",
       "    </tr>\n",
       "    <tr>\n",
       "      <th>1/11/2023</th>\n",
       "      <td>1</td>\n",
       "    </tr>\n",
       "    <tr>\n",
       "      <th>1/12/2023</th>\n",
       "      <td>1</td>\n",
       "    </tr>\n",
       "    <tr>\n",
       "      <th>1/13/2023</th>\n",
       "      <td>1</td>\n",
       "    </tr>\n",
       "    <tr>\n",
       "      <th>1/17/2023</th>\n",
       "      <td>1</td>\n",
       "    </tr>\n",
       "    <tr>\n",
       "      <th>...</th>\n",
       "      <td>...</td>\n",
       "    </tr>\n",
       "    <tr>\n",
       "      <th>4/21/2023</th>\n",
       "      <td>1</td>\n",
       "    </tr>\n",
       "    <tr>\n",
       "      <th>4/3/2023</th>\n",
       "      <td>1</td>\n",
       "    </tr>\n",
       "    <tr>\n",
       "      <th>4/4/2023</th>\n",
       "      <td>1</td>\n",
       "    </tr>\n",
       "    <tr>\n",
       "      <th>4/5/2023</th>\n",
       "      <td>1</td>\n",
       "    </tr>\n",
       "    <tr>\n",
       "      <th>4/6/2023</th>\n",
       "      <td>1</td>\n",
       "    </tr>\n",
       "  </tbody>\n",
       "</table>\n",
       "<p>100 rows × 1 columns</p>\n",
       "</div>"
      ],
      "text/plain": [
       "           Close\n",
       "Date            \n",
       "1/10/2023      1\n",
       "1/11/2023      1\n",
       "1/12/2023      1\n",
       "1/13/2023      1\n",
       "1/17/2023      1\n",
       "...          ...\n",
       "4/21/2023      1\n",
       "4/3/2023       1\n",
       "4/4/2023       1\n",
       "4/5/2023       1\n",
       "4/6/2023       1\n",
       "\n",
       "[100 rows x 1 columns]"
      ]
     },
     "execution_count": 18,
     "metadata": {},
     "output_type": "execute_result"
    }
   ],
   "source": [
    "Tesla.groupby(['Date']).count()"
   ]
  },
  {
   "cell_type": "code",
   "execution_count": 20,
   "id": "9cf85b06",
   "metadata": {},
   "outputs": [
    {
     "data": {
      "text/html": [
       "<div>\n",
       "<style scoped>\n",
       "    .dataframe tbody tr th:only-of-type {\n",
       "        vertical-align: middle;\n",
       "    }\n",
       "\n",
       "    .dataframe tbody tr th {\n",
       "        vertical-align: top;\n",
       "    }\n",
       "\n",
       "    .dataframe thead th {\n",
       "        text-align: right;\n",
       "    }\n",
       "</style>\n",
       "<table border=\"1\" class=\"dataframe\">\n",
       "  <thead>\n",
       "    <tr style=\"text-align: right;\">\n",
       "      <th></th>\n",
       "      <th>Close</th>\n",
       "      <th>Date</th>\n",
       "    </tr>\n",
       "  </thead>\n",
       "  <tbody>\n",
       "    <tr>\n",
       "      <th>0</th>\n",
       "      <td>182.919998</td>\n",
       "      <td>11/28/2022</td>\n",
       "    </tr>\n",
       "    <tr>\n",
       "      <th>1</th>\n",
       "      <td>180.830002</td>\n",
       "      <td>11/29/2022</td>\n",
       "    </tr>\n",
       "    <tr>\n",
       "      <th>2</th>\n",
       "      <td>194.699997</td>\n",
       "      <td>11/30/2022</td>\n",
       "    </tr>\n",
       "    <tr>\n",
       "      <th>3</th>\n",
       "      <td>194.699997</td>\n",
       "      <td>12/1/2022</td>\n",
       "    </tr>\n",
       "    <tr>\n",
       "      <th>4</th>\n",
       "      <td>194.860001</td>\n",
       "      <td>12/2/2022</td>\n",
       "    </tr>\n",
       "  </tbody>\n",
       "</table>\n",
       "</div>"
      ],
      "text/plain": [
       "        Close        Date\n",
       "0  182.919998  11/28/2022\n",
       "1  180.830002  11/29/2022\n",
       "2  194.699997  11/30/2022\n",
       "3  194.699997   12/1/2022\n",
       "4  194.860001   12/2/2022"
      ]
     },
     "execution_count": 20,
     "metadata": {},
     "output_type": "execute_result"
    }
   ],
   "source": [
    "Tesla.head(5)"
   ]
  },
  {
   "cell_type": "code",
   "execution_count": 95,
   "id": "343c3511",
   "metadata": {},
   "outputs": [
    {
     "data": {
      "text/html": [
       "<pre style=\"white-space:pre;overflow-x:auto;line-height:normal;font-family:Menlo,'DejaVu Sans Mono',consolas,'Courier New',monospace\">Using categorical units to plot a list of strings that are all parsable as floats or dates. If these strings should be plotted as numbers, cast to the appropriate data type before plotting.\n",
       "</pre>\n"
      ],
      "text/plain": [
       "Using categorical units to plot a list of strings that are all parsable as floats or dates. If these strings should be plotted as numbers, cast to the appropriate data type before plotting.\n"
      ]
     },
     "metadata": {},
     "output_type": "display_data"
    },
    {
     "data": {
      "text/html": [
       "<pre style=\"white-space:pre;overflow-x:auto;line-height:normal;font-family:Menlo,'DejaVu Sans Mono',consolas,'Courier New',monospace\">Using categorical units to plot a list of strings that are all parsable as floats or dates. If these strings should be plotted as numbers, cast to the appropriate data type before plotting.\n",
       "</pre>\n"
      ],
      "text/plain": [
       "Using categorical units to plot a list of strings that are all parsable as floats or dates. If these strings should be plotted as numbers, cast to the appropriate data type before plotting.\n"
      ]
     },
     "metadata": {},
     "output_type": "display_data"
    },
    {
     "data": {
      "text/plain": [
       "<Axes: xlabel='Date', ylabel='Close'>"
      ]
     },
     "execution_count": 95,
     "metadata": {},
     "output_type": "execute_result"
    },
    {
     "data": {
      "image/png": "[encoded data removed]",
      "text/plain": [
       "<Figure size 640x480 with 1 Axes>"
      ]
     },
     "metadata": {},
     "output_type": "display_data"
    }
   ],
   "source": [
    "plt.figure\n",
    "sns.lineplot(x='Date',y='Close',data=Tesla)"
   ]
  },
  {
   "cell_type": "code",
   "execution_count": 21,
   "id": "2c1fd870",
   "metadata": {},
   "outputs": [
    {
     "data": {
      "text/html": [
       "<div>\n",
       "<style scoped>\n",
       "    .dataframe tbody tr th:only-of-type {\n",
       "        vertical-align: middle;\n",
       "    }\n",
       "\n",
       "    .dataframe tbody tr th {\n",
       "        vertical-align: top;\n",
       "    }\n",
       "\n",
       "    .dataframe thead th {\n",
       "        text-align: right;\n",
       "    }\n",
       "</style>\n",
       "<table border=\"1\" class=\"dataframe\">\n",
       "  <thead>\n",
       "    <tr style=\"text-align: right;\">\n",
       "      <th></th>\n",
       "      <th>Close</th>\n",
       "      <th>Date</th>\n",
       "    </tr>\n",
       "  </thead>\n",
       "  <tbody>\n",
       "    <tr>\n",
       "      <th>0</th>\n",
       "      <td>182.919998</td>\n",
       "      <td>11/28/2022</td>\n",
       "    </tr>\n",
       "    <tr>\n",
       "      <th>1</th>\n",
       "      <td>180.830002</td>\n",
       "      <td>11/29/2022</td>\n",
       "    </tr>\n",
       "    <tr>\n",
       "      <th>2</th>\n",
       "      <td>194.699997</td>\n",
       "      <td>11/30/2022</td>\n",
       "    </tr>\n",
       "    <tr>\n",
       "      <th>3</th>\n",
       "      <td>194.699997</td>\n",
       "      <td>12/1/2022</td>\n",
       "    </tr>\n",
       "    <tr>\n",
       "      <th>4</th>\n",
       "      <td>194.860001</td>\n",
       "      <td>12/2/2022</td>\n",
       "    </tr>\n",
       "    <tr>\n",
       "      <th>5</th>\n",
       "      <td>182.449997</td>\n",
       "      <td>12/5/2022</td>\n",
       "    </tr>\n",
       "    <tr>\n",
       "      <th>6</th>\n",
       "      <td>179.820007</td>\n",
       "      <td>12/6/2022</td>\n",
       "    </tr>\n",
       "    <tr>\n",
       "      <th>7</th>\n",
       "      <td>174.039993</td>\n",
       "      <td>12/7/2022</td>\n",
       "    </tr>\n",
       "    <tr>\n",
       "      <th>8</th>\n",
       "      <td>173.440002</td>\n",
       "      <td>12/8/2022</td>\n",
       "    </tr>\n",
       "    <tr>\n",
       "      <th>9</th>\n",
       "      <td>179.050003</td>\n",
       "      <td>12/9/2022</td>\n",
       "    </tr>\n",
       "    <tr>\n",
       "      <th>10</th>\n",
       "      <td>167.820007</td>\n",
       "      <td>12/12/2022</td>\n",
       "    </tr>\n",
       "    <tr>\n",
       "      <th>11</th>\n",
       "      <td>160.949997</td>\n",
       "      <td>12/13/2022</td>\n",
       "    </tr>\n",
       "  </tbody>\n",
       "</table>\n",
       "</div>"
      ],
      "text/plain": [
       "         Close        Date\n",
       "0   182.919998  11/28/2022\n",
       "1   180.830002  11/29/2022\n",
       "2   194.699997  11/30/2022\n",
       "3   194.699997   12/1/2022\n",
       "4   194.860001   12/2/2022\n",
       "5   182.449997   12/5/2022\n",
       "6   179.820007   12/6/2022\n",
       "7   174.039993   12/7/2022\n",
       "8   173.440002   12/8/2022\n",
       "9   179.050003   12/9/2022\n",
       "10  167.820007  12/12/2022\n",
       "11  160.949997  12/13/2022"
      ]
     },
     "execution_count": 21,
     "metadata": {},
     "output_type": "execute_result"
    }
   ],
   "source": [
    "Tesla.head(12)"
   ]
  },
  {
   "cell_type": "code",
   "execution_count": 22,
   "id": "0edd34f7",
   "metadata": {},
   "outputs": [
    {
     "data": {
      "text/plain": [
       "array([[182.919998, 180.830002, 194.699997, 194.699997, 194.860001,\n",
       "        182.449997, 179.820007, 174.039993, 173.440002, 179.050003],\n",
       "       [167.820007, 160.949997, 156.800003, 157.669998, 150.229996,\n",
       "        149.869995, 137.800003, 137.570007, 125.349998, 123.150002],\n",
       "       [109.099998, 112.709999, 121.82    , 123.18    , 108.099998,\n",
       "        113.639999, 110.339996, 113.059998, 119.769997, 118.849998],\n",
       "       [123.220001, 123.559998, 122.400002, 131.490005, 128.779999,\n",
       "        127.169998, 133.419998, 143.75    , 143.889999, 144.429993],\n",
       "       [160.270004, 177.899994, 166.660004, 173.220001, 181.410004,\n",
       "        188.270004, 189.979996, 194.759995, 196.809998, 201.289993],\n",
       "       [207.320007, 196.889999, 194.639999, 209.25    , 214.240005,\n",
       "        202.039993, 208.309998, 197.369995, 200.860001, 202.070007],\n",
       "       [196.880005, 207.630005, 205.710007, 202.770004, 190.899994,\n",
       "        197.789993, 193.809998, 187.710007, 182.      , 172.919998],\n",
       "       [173.440002, 174.479996, 183.259995, 180.449997, 184.130005,\n",
       "        180.130005, 183.25    , 197.580002, 191.149994, 192.220001],\n",
       "       [190.410004, 191.809998, 189.190002, 193.880005, 195.279999,\n",
       "        207.460007, 194.770004, 192.580002, 185.520004, 185.059998],\n",
       "       [184.509995, 186.789993, 180.539993, 185.899994, 185.      ,\n",
       "        187.039993, 184.309998, 180.589996, 162.990005, 165.080002]])"
      ]
     },
     "execution_count": 22,
     "metadata": {},
     "output_type": "execute_result"
    }
   ],
   "source": [
    "# Re-organize the data set by day and hours\n",
    "\n",
    "temp = np.array(Tesla['Close']).reshape(10,10)\n",
    "\n",
    "temp"
   ]
  },
  {
   "cell_type": "code",
   "execution_count": 23,
   "id": "c5aa0c02",
   "metadata": {},
   "outputs": [
    {
     "data": {
      "text/plain": [
       "(100, 2)"
      ]
     },
     "execution_count": 23,
     "metadata": {},
     "output_type": "execute_result"
    }
   ],
   "source": [
    "Tesla.shape"
   ]
  },
  {
   "cell_type": "code",
   "execution_count": 24,
   "id": "815441ff",
   "metadata": {},
   "outputs": [
    {
     "data": {
      "text/html": [
       "<div>\n",
       "<style scoped>\n",
       "    .dataframe tbody tr th:only-of-type {\n",
       "        vertical-align: middle;\n",
       "    }\n",
       "\n",
       "    .dataframe tbody tr th {\n",
       "        vertical-align: top;\n",
       "    }\n",
       "\n",
       "    .dataframe thead th {\n",
       "        text-align: right;\n",
       "    }\n",
       "</style>\n",
       "<table border=\"1\" class=\"dataframe\">\n",
       "  <thead>\n",
       "    <tr style=\"text-align: right;\">\n",
       "      <th></th>\n",
       "      <th>0</th>\n",
       "      <th>1</th>\n",
       "      <th>2</th>\n",
       "      <th>3</th>\n",
       "      <th>4</th>\n",
       "      <th>5</th>\n",
       "      <th>6</th>\n",
       "      <th>7</th>\n",
       "      <th>8</th>\n",
       "      <th>9</th>\n",
       "    </tr>\n",
       "  </thead>\n",
       "  <tbody>\n",
       "    <tr>\n",
       "      <th>0</th>\n",
       "      <td>182.919998</td>\n",
       "      <td>180.830002</td>\n",
       "      <td>194.699997</td>\n",
       "      <td>194.699997</td>\n",
       "      <td>194.860001</td>\n",
       "      <td>182.449997</td>\n",
       "      <td>179.820007</td>\n",
       "      <td>174.039993</td>\n",
       "      <td>173.440002</td>\n",
       "      <td>179.050003</td>\n",
       "    </tr>\n",
       "    <tr>\n",
       "      <th>1</th>\n",
       "      <td>167.820007</td>\n",
       "      <td>160.949997</td>\n",
       "      <td>156.800003</td>\n",
       "      <td>157.669998</td>\n",
       "      <td>150.229996</td>\n",
       "      <td>149.869995</td>\n",
       "      <td>137.800003</td>\n",
       "      <td>137.570007</td>\n",
       "      <td>125.349998</td>\n",
       "      <td>123.150002</td>\n",
       "    </tr>\n",
       "    <tr>\n",
       "      <th>2</th>\n",
       "      <td>109.099998</td>\n",
       "      <td>112.709999</td>\n",
       "      <td>121.820000</td>\n",
       "      <td>123.180000</td>\n",
       "      <td>108.099998</td>\n",
       "      <td>113.639999</td>\n",
       "      <td>110.339996</td>\n",
       "      <td>113.059998</td>\n",
       "      <td>119.769997</td>\n",
       "      <td>118.849998</td>\n",
       "    </tr>\n",
       "    <tr>\n",
       "      <th>3</th>\n",
       "      <td>123.220001</td>\n",
       "      <td>123.559998</td>\n",
       "      <td>122.400002</td>\n",
       "      <td>131.490005</td>\n",
       "      <td>128.779999</td>\n",
       "      <td>127.169998</td>\n",
       "      <td>133.419998</td>\n",
       "      <td>143.750000</td>\n",
       "      <td>143.889999</td>\n",
       "      <td>144.429993</td>\n",
       "    </tr>\n",
       "    <tr>\n",
       "      <th>4</th>\n",
       "      <td>160.270004</td>\n",
       "      <td>177.899994</td>\n",
       "      <td>166.660004</td>\n",
       "      <td>173.220001</td>\n",
       "      <td>181.410004</td>\n",
       "      <td>188.270004</td>\n",
       "      <td>189.979996</td>\n",
       "      <td>194.759995</td>\n",
       "      <td>196.809998</td>\n",
       "      <td>201.289993</td>\n",
       "    </tr>\n",
       "    <tr>\n",
       "      <th>5</th>\n",
       "      <td>207.320007</td>\n",
       "      <td>196.889999</td>\n",
       "      <td>194.639999</td>\n",
       "      <td>209.250000</td>\n",
       "      <td>214.240005</td>\n",
       "      <td>202.039993</td>\n",
       "      <td>208.309998</td>\n",
       "      <td>197.369995</td>\n",
       "      <td>200.860001</td>\n",
       "      <td>202.070007</td>\n",
       "    </tr>\n",
       "    <tr>\n",
       "      <th>6</th>\n",
       "      <td>196.880005</td>\n",
       "      <td>207.630005</td>\n",
       "      <td>205.710007</td>\n",
       "      <td>202.770004</td>\n",
       "      <td>190.899994</td>\n",
       "      <td>197.789993</td>\n",
       "      <td>193.809998</td>\n",
       "      <td>187.710007</td>\n",
       "      <td>182.000000</td>\n",
       "      <td>172.919998</td>\n",
       "    </tr>\n",
       "    <tr>\n",
       "      <th>7</th>\n",
       "      <td>173.440002</td>\n",
       "      <td>174.479996</td>\n",
       "      <td>183.259995</td>\n",
       "      <td>180.449997</td>\n",
       "      <td>184.130005</td>\n",
       "      <td>180.130005</td>\n",
       "      <td>183.250000</td>\n",
       "      <td>197.580002</td>\n",
       "      <td>191.149994</td>\n",
       "      <td>192.220001</td>\n",
       "    </tr>\n",
       "    <tr>\n",
       "      <th>8</th>\n",
       "      <td>190.410004</td>\n",
       "      <td>191.809998</td>\n",
       "      <td>189.190002</td>\n",
       "      <td>193.880005</td>\n",
       "      <td>195.279999</td>\n",
       "      <td>207.460007</td>\n",
       "      <td>194.770004</td>\n",
       "      <td>192.580002</td>\n",
       "      <td>185.520004</td>\n",
       "      <td>185.059998</td>\n",
       "    </tr>\n",
       "    <tr>\n",
       "      <th>9</th>\n",
       "      <td>184.509995</td>\n",
       "      <td>186.789993</td>\n",
       "      <td>180.539993</td>\n",
       "      <td>185.899994</td>\n",
       "      <td>185.000000</td>\n",
       "      <td>187.039993</td>\n",
       "      <td>184.309998</td>\n",
       "      <td>180.589996</td>\n",
       "      <td>162.990005</td>\n",
       "      <td>165.080002</td>\n",
       "    </tr>\n",
       "  </tbody>\n",
       "</table>\n",
       "</div>"
      ],
      "text/plain": [
       "            0           1           2           3           4           5   \n",
       "0  182.919998  180.830002  194.699997  194.699997  194.860001  182.449997  \\\n",
       "1  167.820007  160.949997  156.800003  157.669998  150.229996  149.869995   \n",
       "2  109.099998  112.709999  121.820000  123.180000  108.099998  113.639999   \n",
       "3  123.220001  123.559998  122.400002  131.490005  128.779999  127.169998   \n",
       "4  160.270004  177.899994  166.660004  173.220001  181.410004  188.270004   \n",
       "5  207.320007  196.889999  194.639999  209.250000  214.240005  202.039993   \n",
       "6  196.880005  207.630005  205.710007  202.770004  190.899994  197.789993   \n",
       "7  173.440002  174.479996  183.259995  180.449997  184.130005  180.130005   \n",
       "8  190.410004  191.809998  189.190002  193.880005  195.279999  207.460007   \n",
       "9  184.509995  186.789993  180.539993  185.899994  185.000000  187.039993   \n",
       "\n",
       "            6           7           8           9  \n",
       "0  179.820007  174.039993  173.440002  179.050003  \n",
       "1  137.800003  137.570007  125.349998  123.150002  \n",
       "2  110.339996  113.059998  119.769997  118.849998  \n",
       "3  133.419998  143.750000  143.889999  144.429993  \n",
       "4  189.979996  194.759995  196.809998  201.289993  \n",
       "5  208.309998  197.369995  200.860001  202.070007  \n",
       "6  193.809998  187.710007  182.000000  172.919998  \n",
       "7  183.250000  197.580002  191.149994  192.220001  \n",
       "8  194.770004  192.580002  185.520004  185.059998  \n",
       "9  184.309998  180.589996  162.990005  165.080002  "
      ]
     },
     "execution_count": 24,
     "metadata": {},
     "output_type": "execute_result"
    }
   ],
   "source": [
    "# Convert to dataframe\n",
    "\n",
    "temp_df = pd.DataFrame(temp, columns=np.arange(0,10,1))\n",
    "\n",
    "temp_df"
   ]
  },
  {
   "cell_type": "markdown",
   "id": "de399b2a",
   "metadata": {},
   "source": [
    "### Reshaping for Standardization"
   ]
  },
  {
   "cell_type": "code",
   "execution_count": 25,
   "id": "e97b58af",
   "metadata": {},
   "outputs": [
    {
     "data": {
      "text/plain": [
       "(100, 1)"
      ]
     },
     "execution_count": 25,
     "metadata": {},
     "output_type": "execute_result"
    }
   ],
   "source": [
    "# Let's create a single sequence (i.e., feature) for standardization\n",
    "\n",
    "temp_1feature = np.array(temp_df).ravel().reshape(-1,1)\n",
    "\n",
    "temp_1feature.shape"
   ]
  },
  {
   "cell_type": "code",
   "execution_count": 26,
   "id": "f17d2bef",
   "metadata": {},
   "outputs": [
    {
     "data": {
      "text/plain": [
       "array([[182.919998],\n",
       "       [180.830002],\n",
       "       [194.699997],\n",
       "       [194.699997],\n",
       "       [194.860001],\n",
       "       [182.449997],\n",
       "       [179.820007],\n",
       "       [174.039993],\n",
       "       [173.440002],\n",
       "       [179.050003],\n",
       "       [167.820007],\n",
       "       [160.949997],\n",
       "       [156.800003],\n",
       "       [157.669998],\n",
       "       [150.229996],\n",
       "       [149.869995],\n",
       "       [137.800003],\n",
       "       [137.570007],\n",
       "       [125.349998],\n",
       "       [123.150002],\n",
       "       [109.099998],\n",
       "       [112.709999],\n",
       "       [121.82    ],\n",
       "       [123.18    ],\n",
       "       [108.099998],\n",
       "       [113.639999],\n",
       "       [110.339996],\n",
       "       [113.059998],\n",
       "       [119.769997],\n",
       "       [118.849998],\n",
       "       [123.220001],\n",
       "       [123.559998],\n",
       "       [122.400002],\n",
       "       [131.490005],\n",
       "       [128.779999],\n",
       "       [127.169998],\n",
       "       [133.419998],\n",
       "       [143.75    ],\n",
       "       [143.889999],\n",
       "       [144.429993],\n",
       "       [160.270004],\n",
       "       [177.899994],\n",
       "       [166.660004],\n",
       "       [173.220001],\n",
       "       [181.410004],\n",
       "       [188.270004],\n",
       "       [189.979996],\n",
       "       [194.759995],\n",
       "       [196.809998],\n",
       "       [201.289993],\n",
       "       [207.320007],\n",
       "       [196.889999],\n",
       "       [194.639999],\n",
       "       [209.25    ],\n",
       "       [214.240005],\n",
       "       [202.039993],\n",
       "       [208.309998],\n",
       "       [197.369995],\n",
       "       [200.860001],\n",
       "       [202.070007],\n",
       "       [196.880005],\n",
       "       [207.630005],\n",
       "       [205.710007],\n",
       "       [202.770004],\n",
       "       [190.899994],\n",
       "       [197.789993],\n",
       "       [193.809998],\n",
       "       [187.710007],\n",
       "       [182.      ],\n",
       "       [172.919998],\n",
       "       [173.440002],\n",
       "       [174.479996],\n",
       "       [183.259995],\n",
       "       [180.449997],\n",
       "       [184.130005],\n",
       "       [180.130005],\n",
       "       [183.25    ],\n",
       "       [197.580002],\n",
       "       [191.149994],\n",
       "       [192.220001],\n",
       "       [190.410004],\n",
       "       [191.809998],\n",
       "       [189.190002],\n",
       "       [193.880005],\n",
       "       [195.279999],\n",
       "       [207.460007],\n",
       "       [194.770004],\n",
       "       [192.580002],\n",
       "       [185.520004],\n",
       "       [185.059998],\n",
       "       [184.509995],\n",
       "       [186.789993],\n",
       "       [180.539993],\n",
       "       [185.899994],\n",
       "       [185.      ],\n",
       "       [187.039993],\n",
       "       [184.309998],\n",
       "       [180.589996],\n",
       "       [162.990005],\n",
       "       [165.080002]])"
      ]
     },
     "execution_count": 26,
     "metadata": {},
     "output_type": "execute_result"
    }
   ],
   "source": [
    "temp_1feature"
   ]
  },
  {
   "cell_type": "markdown",
   "id": "5c37bfc1",
   "metadata": {},
   "source": [
    "## Standardize the values"
   ]
  },
  {
   "cell_type": "code",
   "execution_count": 27,
   "id": "a4cdff85",
   "metadata": {},
   "outputs": [],
   "source": [
    "# Next, standardize\n",
    "\n",
    "from sklearn.preprocessing import StandardScaler\n",
    "\n",
    "scaler = StandardScaler()\n",
    "\n",
    "temp_std = scaler.fit_transform(temp_1feature)"
   ]
  },
  {
   "cell_type": "code",
   "execution_count": 28,
   "id": "d1e9cda1",
   "metadata": {},
   "outputs": [
    {
     "data": {
      "text/plain": [
       "(10, 10)"
      ]
     },
     "execution_count": 28,
     "metadata": {},
     "output_type": "execute_result"
    }
   ],
   "source": [
    "temp_reshaped = temp_std.reshape(10,10)\n",
    "\n",
    "temp_reshaped.shape"
   ]
  },
  {
   "cell_type": "code",
   "execution_count": 29,
   "id": "c497c536",
   "metadata": {},
   "outputs": [
    {
     "data": {
      "text/html": [
       "<div>\n",
       "<style scoped>\n",
       "    .dataframe tbody tr th:only-of-type {\n",
       "        vertical-align: middle;\n",
       "    }\n",
       "\n",
       "    .dataframe tbody tr th {\n",
       "        vertical-align: top;\n",
       "    }\n",
       "\n",
       "    .dataframe thead th {\n",
       "        text-align: right;\n",
       "    }\n",
       "</style>\n",
       "<table border=\"1\" class=\"dataframe\">\n",
       "  <thead>\n",
       "    <tr style=\"text-align: right;\">\n",
       "      <th></th>\n",
       "      <th>0</th>\n",
       "      <th>1</th>\n",
       "      <th>2</th>\n",
       "      <th>3</th>\n",
       "      <th>4</th>\n",
       "      <th>5</th>\n",
       "      <th>6</th>\n",
       "      <th>7</th>\n",
       "      <th>8</th>\n",
       "      <th>9</th>\n",
       "    </tr>\n",
       "  </thead>\n",
       "  <tbody>\n",
       "    <tr>\n",
       "      <th>0</th>\n",
       "      <td>0.389370</td>\n",
       "      <td>0.318286</td>\n",
       "      <td>0.790026</td>\n",
       "      <td>0.790026</td>\n",
       "      <td>0.795468</td>\n",
       "      <td>0.373385</td>\n",
       "      <td>0.283935</td>\n",
       "      <td>0.087348</td>\n",
       "      <td>0.066942</td>\n",
       "      <td>0.257746</td>\n",
       "    </tr>\n",
       "    <tr>\n",
       "      <th>1</th>\n",
       "      <td>-0.124203</td>\n",
       "      <td>-0.357862</td>\n",
       "      <td>-0.499010</td>\n",
       "      <td>-0.469420</td>\n",
       "      <td>-0.722466</td>\n",
       "      <td>-0.734710</td>\n",
       "      <td>-1.145228</td>\n",
       "      <td>-1.153051</td>\n",
       "      <td>-1.568672</td>\n",
       "      <td>-1.643497</td>\n",
       "    </tr>\n",
       "    <tr>\n",
       "      <th>2</th>\n",
       "      <td>-2.121359</td>\n",
       "      <td>-1.998577</td>\n",
       "      <td>-1.688732</td>\n",
       "      <td>-1.642477</td>\n",
       "      <td>-2.155370</td>\n",
       "      <td>-1.966946</td>\n",
       "      <td>-2.079184</td>\n",
       "      <td>-1.986673</td>\n",
       "      <td>-1.758456</td>\n",
       "      <td>-1.789746</td>\n",
       "    </tr>\n",
       "    <tr>\n",
       "      <th>3</th>\n",
       "      <td>-1.641116</td>\n",
       "      <td>-1.629552</td>\n",
       "      <td>-1.669005</td>\n",
       "      <td>-1.359841</td>\n",
       "      <td>-1.452012</td>\n",
       "      <td>-1.506771</td>\n",
       "      <td>-1.294199</td>\n",
       "      <td>-0.942860</td>\n",
       "      <td>-0.938098</td>\n",
       "      <td>-0.919732</td>\n",
       "    </tr>\n",
       "    <tr>\n",
       "      <th>4</th>\n",
       "      <td>-0.380990</td>\n",
       "      <td>0.218633</td>\n",
       "      <td>-0.163656</td>\n",
       "      <td>0.059459</td>\n",
       "      <td>0.338013</td>\n",
       "      <td>0.571332</td>\n",
       "      <td>0.629492</td>\n",
       "      <td>0.792066</td>\n",
       "      <td>0.861790</td>\n",
       "      <td>1.014161</td>\n",
       "    </tr>\n",
       "    <tr>\n",
       "      <th>5</th>\n",
       "      <td>1.219251</td>\n",
       "      <td>0.864511</td>\n",
       "      <td>0.787985</td>\n",
       "      <td>1.284893</td>\n",
       "      <td>1.454611</td>\n",
       "      <td>1.039670</td>\n",
       "      <td>1.252922</td>\n",
       "      <td>0.880836</td>\n",
       "      <td>0.999537</td>\n",
       "      <td>1.040691</td>\n",
       "    </tr>\n",
       "    <tr>\n",
       "      <th>6</th>\n",
       "      <td>0.864171</td>\n",
       "      <td>1.229795</td>\n",
       "      <td>1.164493</td>\n",
       "      <td>1.064499</td>\n",
       "      <td>0.660782</td>\n",
       "      <td>0.895121</td>\n",
       "      <td>0.759756</td>\n",
       "      <td>0.552286</td>\n",
       "      <td>0.358080</td>\n",
       "      <td>0.049255</td>\n",
       "    </tr>\n",
       "    <tr>\n",
       "      <th>7</th>\n",
       "      <td>0.066942</td>\n",
       "      <td>0.102313</td>\n",
       "      <td>0.400934</td>\n",
       "      <td>0.305362</td>\n",
       "      <td>0.430525</td>\n",
       "      <td>0.294479</td>\n",
       "      <td>0.400594</td>\n",
       "      <td>0.887979</td>\n",
       "      <td>0.669285</td>\n",
       "      <td>0.705677</td>\n",
       "    </tr>\n",
       "    <tr>\n",
       "      <th>8</th>\n",
       "      <td>0.644117</td>\n",
       "      <td>0.691733</td>\n",
       "      <td>0.602623</td>\n",
       "      <td>0.762137</td>\n",
       "      <td>0.809753</td>\n",
       "      <td>1.224013</td>\n",
       "      <td>0.792407</td>\n",
       "      <td>0.717922</td>\n",
       "      <td>0.477800</td>\n",
       "      <td>0.462155</td>\n",
       "    </tr>\n",
       "    <tr>\n",
       "      <th>9</th>\n",
       "      <td>0.443449</td>\n",
       "      <td>0.520995</td>\n",
       "      <td>0.308423</td>\n",
       "      <td>0.490725</td>\n",
       "      <td>0.460114</td>\n",
       "      <td>0.529498</td>\n",
       "      <td>0.436646</td>\n",
       "      <td>0.310124</td>\n",
       "      <td>-0.288479</td>\n",
       "      <td>-0.217395</td>\n",
       "    </tr>\n",
       "  </tbody>\n",
       "</table>\n",
       "</div>"
      ],
      "text/plain": [
       "          0         1         2         3         4         5         6   \n",
       "0  0.389370  0.318286  0.790026  0.790026  0.795468  0.373385  0.283935  \\\n",
       "1 -0.124203 -0.357862 -0.499010 -0.469420 -0.722466 -0.734710 -1.145228   \n",
       "2 -2.121359 -1.998577 -1.688732 -1.642477 -2.155370 -1.966946 -2.079184   \n",
       "3 -1.641116 -1.629552 -1.669005 -1.359841 -1.452012 -1.506771 -1.294199   \n",
       "4 -0.380990  0.218633 -0.163656  0.059459  0.338013  0.571332  0.629492   \n",
       "5  1.219251  0.864511  0.787985  1.284893  1.454611  1.039670  1.252922   \n",
       "6  0.864171  1.229795  1.164493  1.064499  0.660782  0.895121  0.759756   \n",
       "7  0.066942  0.102313  0.400934  0.305362  0.430525  0.294479  0.400594   \n",
       "8  0.644117  0.691733  0.602623  0.762137  0.809753  1.224013  0.792407   \n",
       "9  0.443449  0.520995  0.308423  0.490725  0.460114  0.529498  0.436646   \n",
       "\n",
       "          7         8         9  \n",
       "0  0.087348  0.066942  0.257746  \n",
       "1 -1.153051 -1.568672 -1.643497  \n",
       "2 -1.986673 -1.758456 -1.789746  \n",
       "3 -0.942860 -0.938098 -0.919732  \n",
       "4  0.792066  0.861790  1.014161  \n",
       "5  0.880836  0.999537  1.040691  \n",
       "6  0.552286  0.358080  0.049255  \n",
       "7  0.887979  0.669285  0.705677  \n",
       "8  0.717922  0.477800  0.462155  \n",
       "9  0.310124 -0.288479 -0.217395  "
      ]
     },
     "execution_count": 29,
     "metadata": {},
     "output_type": "execute_result"
    }
   ],
   "source": [
    "#Pandas version of the reshaped data\n",
    "\n",
    "pd.DataFrame(temp_reshaped)"
   ]
  },
  {
   "cell_type": "markdown",
   "id": "1c1d9f1e",
   "metadata": {},
   "source": [
    "### Data Split"
   ]
  },
  {
   "cell_type": "code",
   "execution_count": 30,
   "id": "ce8c1567",
   "metadata": {},
   "outputs": [],
   "source": [
    "from sklearn.model_selection import train_test_split\n",
    "\n",
    "train, test = train_test_split(temp_reshaped, test_size=0.3)"
   ]
  },
  {
   "cell_type": "code",
   "execution_count": 31,
   "id": "8a81a939",
   "metadata": {},
   "outputs": [
    {
     "data": {
      "text/plain": [
       "(7, 10)"
      ]
     },
     "execution_count": 31,
     "metadata": {},
     "output_type": "execute_result"
    }
   ],
   "source": [
    "train.shape"
   ]
  },
  {
   "cell_type": "code",
   "execution_count": 32,
   "id": "311cfefe",
   "metadata": {},
   "outputs": [
    {
     "data": {
      "text/plain": [
       "(3, 10)"
      ]
     },
     "execution_count": 32,
     "metadata": {},
     "output_type": "execute_result"
    }
   ],
   "source": [
    "test.shape"
   ]
  },
  {
   "cell_type": "markdown",
   "id": "86b34a39",
   "metadata": {},
   "source": [
    "## Create Input and Target values"
   ]
  },
  {
   "cell_type": "code",
   "execution_count": 33,
   "id": "ece0727e",
   "metadata": {},
   "outputs": [
    {
     "data": {
      "text/html": [
       "<div>\n",
       "<style scoped>\n",
       "    .dataframe tbody tr th:only-of-type {\n",
       "        vertical-align: middle;\n",
       "    }\n",
       "\n",
       "    .dataframe tbody tr th {\n",
       "        vertical-align: top;\n",
       "    }\n",
       "\n",
       "    .dataframe thead th {\n",
       "        text-align: right;\n",
       "    }\n",
       "</style>\n",
       "<table border=\"1\" class=\"dataframe\">\n",
       "  <thead>\n",
       "    <tr style=\"text-align: right;\">\n",
       "      <th></th>\n",
       "      <th>0</th>\n",
       "      <th>1</th>\n",
       "      <th>2</th>\n",
       "      <th>3</th>\n",
       "      <th>4</th>\n",
       "      <th>5</th>\n",
       "      <th>6</th>\n",
       "      <th>7</th>\n",
       "      <th>8</th>\n",
       "    </tr>\n",
       "  </thead>\n",
       "  <tbody>\n",
       "    <tr>\n",
       "      <th>0</th>\n",
       "      <td>0.389370</td>\n",
       "      <td>0.318286</td>\n",
       "      <td>0.790026</td>\n",
       "      <td>0.790026</td>\n",
       "      <td>0.795468</td>\n",
       "      <td>0.373385</td>\n",
       "      <td>0.283935</td>\n",
       "      <td>0.087348</td>\n",
       "      <td>0.066942</td>\n",
       "    </tr>\n",
       "    <tr>\n",
       "      <th>1</th>\n",
       "      <td>0.066942</td>\n",
       "      <td>0.102313</td>\n",
       "      <td>0.400934</td>\n",
       "      <td>0.305362</td>\n",
       "      <td>0.430525</td>\n",
       "      <td>0.294479</td>\n",
       "      <td>0.400594</td>\n",
       "      <td>0.887979</td>\n",
       "      <td>0.669285</td>\n",
       "    </tr>\n",
       "    <tr>\n",
       "      <th>2</th>\n",
       "      <td>-2.121359</td>\n",
       "      <td>-1.998577</td>\n",
       "      <td>-1.688732</td>\n",
       "      <td>-1.642477</td>\n",
       "      <td>-2.155370</td>\n",
       "      <td>-1.966946</td>\n",
       "      <td>-2.079184</td>\n",
       "      <td>-1.986673</td>\n",
       "      <td>-1.758456</td>\n",
       "    </tr>\n",
       "    <tr>\n",
       "      <th>3</th>\n",
       "      <td>0.443449</td>\n",
       "      <td>0.520995</td>\n",
       "      <td>0.308423</td>\n",
       "      <td>0.490725</td>\n",
       "      <td>0.460114</td>\n",
       "      <td>0.529498</td>\n",
       "      <td>0.436646</td>\n",
       "      <td>0.310124</td>\n",
       "      <td>-0.288479</td>\n",
       "    </tr>\n",
       "    <tr>\n",
       "      <th>4</th>\n",
       "      <td>-0.380990</td>\n",
       "      <td>0.218633</td>\n",
       "      <td>-0.163656</td>\n",
       "      <td>0.059459</td>\n",
       "      <td>0.338013</td>\n",
       "      <td>0.571332</td>\n",
       "      <td>0.629492</td>\n",
       "      <td>0.792066</td>\n",
       "      <td>0.861790</td>\n",
       "    </tr>\n",
       "    <tr>\n",
       "      <th>5</th>\n",
       "      <td>-1.641116</td>\n",
       "      <td>-1.629552</td>\n",
       "      <td>-1.669005</td>\n",
       "      <td>-1.359841</td>\n",
       "      <td>-1.452012</td>\n",
       "      <td>-1.506771</td>\n",
       "      <td>-1.294199</td>\n",
       "      <td>-0.942860</td>\n",
       "      <td>-0.938098</td>\n",
       "    </tr>\n",
       "    <tr>\n",
       "      <th>6</th>\n",
       "      <td>0.864171</td>\n",
       "      <td>1.229795</td>\n",
       "      <td>1.164493</td>\n",
       "      <td>1.064499</td>\n",
       "      <td>0.660782</td>\n",
       "      <td>0.895121</td>\n",
       "      <td>0.759756</td>\n",
       "      <td>0.552286</td>\n",
       "      <td>0.358080</td>\n",
       "    </tr>\n",
       "  </tbody>\n",
       "</table>\n",
       "</div>"
      ],
      "text/plain": [
       "          0         1         2         3         4         5         6   \n",
       "0  0.389370  0.318286  0.790026  0.790026  0.795468  0.373385  0.283935  \\\n",
       "1  0.066942  0.102313  0.400934  0.305362  0.430525  0.294479  0.400594   \n",
       "2 -2.121359 -1.998577 -1.688732 -1.642477 -2.155370 -1.966946 -2.079184   \n",
       "3  0.443449  0.520995  0.308423  0.490725  0.460114  0.529498  0.436646   \n",
       "4 -0.380990  0.218633 -0.163656  0.059459  0.338013  0.571332  0.629492   \n",
       "5 -1.641116 -1.629552 -1.669005 -1.359841 -1.452012 -1.506771 -1.294199   \n",
       "6  0.864171  1.229795  1.164493  1.064499  0.660782  0.895121  0.759756   \n",
       "\n",
       "          7         8  \n",
       "0  0.087348  0.066942  \n",
       "1  0.887979  0.669285  \n",
       "2 -1.986673 -1.758456  \n",
       "3  0.310124 -0.288479  \n",
       "4  0.792066  0.861790  \n",
       "5 -0.942860 -0.938098  \n",
       "6  0.552286  0.358080  "
      ]
     },
     "execution_count": 33,
     "metadata": {},
     "output_type": "execute_result"
    }
   ],
   "source": [
    "train_inputs = train[:,:9]\n",
    "\n",
    "\n",
    "pd.DataFrame(train_inputs)"
   ]
  },
  {
   "cell_type": "markdown",
   "id": "c17cb2e9",
   "metadata": {},
   "source": [
    "#### Adding one more dimension  to make it ready for RNNs"
   ]
  },
  {
   "cell_type": "code",
   "execution_count": 34,
   "id": "e900067e",
   "metadata": {},
   "outputs": [
    {
     "data": {
      "text/plain": [
       "array([[ 0.38937039,  0.31828649,  0.79002582,  0.79002582,  0.79546779,\n",
       "         0.37338495,  0.28393505,  0.0873481 ,  0.06694151],\n",
       "       [ 0.06694151,  0.10231326,  0.4009342 ,  0.30536195,  0.43052454,\n",
       "         0.29447854,  0.40059425,  0.88797911,  0.66928489],\n",
       "       [-2.1213585 , -1.99857696, -1.68873216, -1.64247652, -2.15537   ,\n",
       "        -1.96694626, -2.07918431, -1.98667297, -1.75845584],\n",
       "       [ 0.44344857,  0.52099472,  0.30842285,  0.49072452,  0.46011438,\n",
       "         0.5294976 ,  0.43664637,  0.31012353, -0.28847856],\n",
       "       [-0.38098987,  0.21863253, -0.16365639,  0.05945895,  0.33801323,\n",
       "         0.57133211,  0.62949151,  0.79206644,  0.86179012],\n",
       "       [-1.64111603, -1.62955222, -1.66900542, -1.35984079, -1.45201216,\n",
       "        -1.50677071, -1.29419884, -0.94285998, -0.9380984 ],\n",
       "       [ 0.86417116,  1.22979478,  1.16449277,  1.06449886,  0.66078202,\n",
       "         0.89512122,  0.75975562,  0.55228578,  0.35807988]])"
      ]
     },
     "execution_count": 34,
     "metadata": {},
     "output_type": "execute_result"
    }
   ],
   "source": [
    "train_inputs"
   ]
  },
  {
   "cell_type": "code",
   "execution_count": 35,
   "id": "9aa6e976",
   "metadata": {},
   "outputs": [
    {
     "data": {
      "text/plain": [
       "(7, 9)"
      ]
     },
     "execution_count": 35,
     "metadata": {},
     "output_type": "execute_result"
    }
   ],
   "source": [
    "train_inputs.shape "
   ]
  },
  {
   "cell_type": "code",
   "execution_count": 36,
   "id": "99bf963d",
   "metadata": {},
   "outputs": [
    {
     "data": {
      "text/plain": [
       "(7, 9, 1)"
      ]
     },
     "execution_count": 36,
     "metadata": {},
     "output_type": "execute_result"
    }
   ],
   "source": [
    "#Create an additional dimension for train\n",
    "\n",
    "train_x = train_inputs[:,:,np.newaxis]\n",
    "\n",
    "train_x.shape "
   ]
  },
  {
   "cell_type": "code",
   "execution_count": 37,
   "id": "0945107e",
   "metadata": {},
   "outputs": [
    {
     "data": {
      "text/plain": [
       "array([[[ 0.38937039],\n",
       "        [ 0.31828649],\n",
       "        [ 0.79002582],\n",
       "        [ 0.79002582],\n",
       "        [ 0.79546779],\n",
       "        [ 0.37338495],\n",
       "        [ 0.28393505],\n",
       "        [ 0.0873481 ],\n",
       "        [ 0.06694151]],\n",
       "\n",
       "       [[ 0.06694151],\n",
       "        [ 0.10231326],\n",
       "        [ 0.4009342 ],\n",
       "        [ 0.30536195],\n",
       "        [ 0.43052454],\n",
       "        [ 0.29447854],\n",
       "        [ 0.40059425],\n",
       "        [ 0.88797911],\n",
       "        [ 0.66928489]],\n",
       "\n",
       "       [[-2.1213585 ],\n",
       "        [-1.99857696],\n",
       "        [-1.68873216],\n",
       "        [-1.64247652],\n",
       "        [-2.15537   ],\n",
       "        [-1.96694626],\n",
       "        [-2.07918431],\n",
       "        [-1.98667297],\n",
       "        [-1.75845584]],\n",
       "\n",
       "       [[ 0.44344857],\n",
       "        [ 0.52099472],\n",
       "        [ 0.30842285],\n",
       "        [ 0.49072452],\n",
       "        [ 0.46011438],\n",
       "        [ 0.5294976 ],\n",
       "        [ 0.43664637],\n",
       "        [ 0.31012353],\n",
       "        [-0.28847856]],\n",
       "\n",
       "       [[-0.38098987],\n",
       "        [ 0.21863253],\n",
       "        [-0.16365639],\n",
       "        [ 0.05945895],\n",
       "        [ 0.33801323],\n",
       "        [ 0.57133211],\n",
       "        [ 0.62949151],\n",
       "        [ 0.79206644],\n",
       "        [ 0.86179012]],\n",
       "\n",
       "       [[-1.64111603],\n",
       "        [-1.62955222],\n",
       "        [-1.66900542],\n",
       "        [-1.35984079],\n",
       "        [-1.45201216],\n",
       "        [-1.50677071],\n",
       "        [-1.29419884],\n",
       "        [-0.94285998],\n",
       "        [-0.9380984 ]],\n",
       "\n",
       "       [[ 0.86417116],\n",
       "        [ 1.22979478],\n",
       "        [ 1.16449277],\n",
       "        [ 1.06449886],\n",
       "        [ 0.66078202],\n",
       "        [ 0.89512122],\n",
       "        [ 0.75975562],\n",
       "        [ 0.55228578],\n",
       "        [ 0.35807988]]])"
      ]
     },
     "execution_count": 37,
     "metadata": {},
     "output_type": "execute_result"
    }
   ],
   "source": [
    "train_x"
   ]
  },
  {
   "cell_type": "markdown",
   "id": "a8af2333",
   "metadata": {},
   "source": [
    "### set the target"
   ]
  },
  {
   "cell_type": "code",
   "execution_count": 38,
   "id": "6007ebb2",
   "metadata": {},
   "outputs": [
    {
     "data": {
      "text/html": [
       "<div>\n",
       "<style scoped>\n",
       "    .dataframe tbody tr th:only-of-type {\n",
       "        vertical-align: middle;\n",
       "    }\n",
       "\n",
       "    .dataframe tbody tr th {\n",
       "        vertical-align: top;\n",
       "    }\n",
       "\n",
       "    .dataframe thead th {\n",
       "        text-align: right;\n",
       "    }\n",
       "</style>\n",
       "<table border=\"1\" class=\"dataframe\">\n",
       "  <thead>\n",
       "    <tr style=\"text-align: right;\">\n",
       "      <th></th>\n",
       "      <th>9</th>\n",
       "    </tr>\n",
       "  </thead>\n",
       "  <tbody>\n",
       "    <tr>\n",
       "      <th>0</th>\n",
       "      <td>0.257746</td>\n",
       "    </tr>\n",
       "    <tr>\n",
       "      <th>1</th>\n",
       "      <td>0.705677</td>\n",
       "    </tr>\n",
       "    <tr>\n",
       "      <th>2</th>\n",
       "      <td>-1.789746</td>\n",
       "    </tr>\n",
       "    <tr>\n",
       "      <th>3</th>\n",
       "      <td>-0.217395</td>\n",
       "    </tr>\n",
       "    <tr>\n",
       "      <th>4</th>\n",
       "      <td>1.014161</td>\n",
       "    </tr>\n",
       "    <tr>\n",
       "      <th>5</th>\n",
       "      <td>-0.919732</td>\n",
       "    </tr>\n",
       "    <tr>\n",
       "      <th>6</th>\n",
       "      <td>0.049255</td>\n",
       "    </tr>\n",
       "  </tbody>\n",
       "</table>\n",
       "</div>"
      ],
      "text/plain": [
       "          9\n",
       "0  0.257746\n",
       "1  0.705677\n",
       "2 -1.789746\n",
       "3 -0.217395\n",
       "4  1.014161\n",
       "5 -0.919732\n",
       "6  0.049255"
      ]
     },
     "execution_count": 38,
     "metadata": {},
     "output_type": "execute_result"
    }
   ],
   "source": [
    "train_target = train[:,-1]\n",
    "\n",
    "\n",
    "pd.DataFrame(train_target, columns=['9'])"
   ]
  },
  {
   "cell_type": "markdown",
   "id": "69a2fe02",
   "metadata": {},
   "source": [
    "### Repeat for test"
   ]
  },
  {
   "cell_type": "code",
   "execution_count": 39,
   "id": "3c0174fd",
   "metadata": {},
   "outputs": [
    {
     "data": {
      "text/plain": [
       "(3, 10)"
      ]
     },
     "execution_count": 39,
     "metadata": {},
     "output_type": "execute_result"
    }
   ],
   "source": [
    "test.shape"
   ]
  },
  {
   "cell_type": "code",
   "execution_count": 40,
   "id": "ae6dae0e",
   "metadata": {},
   "outputs": [],
   "source": [
    "# The first 9 columns (from 0 to 8) are inputs\n",
    "\n",
    "test_inputs = test[:,:9]"
   ]
  },
  {
   "cell_type": "code",
   "execution_count": 41,
   "id": "6cbbfd84",
   "metadata": {},
   "outputs": [
    {
     "data": {
      "text/plain": [
       "(3, 9, 1)"
      ]
     },
     "execution_count": 41,
     "metadata": {},
     "output_type": "execute_result"
    }
   ],
   "source": [
    "#Create an additional dimension for test\n",
    "\n",
    "test_x = test_inputs[...,np.newaxis]\n",
    "\n",
    "test_x.shape "
   ]
  },
  {
   "cell_type": "code",
   "execution_count": 42,
   "id": "2e10a2b8",
   "metadata": {},
   "outputs": [
    {
     "data": {
      "text/html": [
       "<div>\n",
       "<style scoped>\n",
       "    .dataframe tbody tr th:only-of-type {\n",
       "        vertical-align: middle;\n",
       "    }\n",
       "\n",
       "    .dataframe tbody tr th {\n",
       "        vertical-align: top;\n",
       "    }\n",
       "\n",
       "    .dataframe thead th {\n",
       "        text-align: right;\n",
       "    }\n",
       "</style>\n",
       "<table border=\"1\" class=\"dataframe\">\n",
       "  <thead>\n",
       "    <tr style=\"text-align: right;\">\n",
       "      <th></th>\n",
       "      <th>9</th>\n",
       "    </tr>\n",
       "  </thead>\n",
       "  <tbody>\n",
       "    <tr>\n",
       "      <th>0</th>\n",
       "      <td>0.462155</td>\n",
       "    </tr>\n",
       "    <tr>\n",
       "      <th>1</th>\n",
       "      <td>-1.643497</td>\n",
       "    </tr>\n",
       "    <tr>\n",
       "      <th>2</th>\n",
       "      <td>1.040691</td>\n",
       "    </tr>\n",
       "  </tbody>\n",
       "</table>\n",
       "</div>"
      ],
      "text/plain": [
       "          9\n",
       "0  0.462155\n",
       "1 -1.643497\n",
       "2  1.040691"
      ]
     },
     "execution_count": 42,
     "metadata": {},
     "output_type": "execute_result"
    }
   ],
   "source": [
    "# The last column (9) is TARGET\n",
    "\n",
    "test_target = test[:,-1]\n",
    "\n",
    "\n",
    "pd.DataFrame(test_target, columns=['9'])"
   ]
  },
  {
   "cell_type": "markdown",
   "id": "ed3bdb64",
   "metadata": {},
   "source": [
    "# A normal (cross-sectional) NN"
   ]
  },
  {
   "cell_type": "code",
   "execution_count": 43,
   "id": "fd356884",
   "metadata": {},
   "outputs": [
    {
     "name": "stdout",
     "output_type": "stream",
     "text": [
      "Epoch 1/100\n",
      "1/1 [==============================] - 0s 364ms/step - loss: 0.4245\n",
      "Epoch 2/100\n",
      "1/1 [==============================] - 0s 7ms/step - loss: 0.4040\n",
      "Epoch 3/100\n",
      "1/1 [==============================] - 0s 5ms/step - loss: 0.3858\n",
      "Epoch 4/100\n",
      "1/1 [==============================] - 0s 4ms/step - loss: 0.3699\n",
      "Epoch 5/100\n",
      "1/1 [==============================] - 0s 5ms/step - loss: 0.3562\n",
      "Epoch 6/100\n",
      "1/1 [==============================] - 0s 6ms/step - loss: 0.3442\n",
      "Epoch 7/100\n",
      "1/1 [==============================] - 0s 4ms/step - loss: 0.3339\n",
      "Epoch 8/100\n",
      "1/1 [==============================] - 0s 4ms/step - loss: 0.3247\n",
      "Epoch 9/100\n",
      "1/1 [==============================] - 0s 5ms/step - loss: 0.3162\n",
      "Epoch 10/100\n",
      "1/1 [==============================] - 0s 6ms/step - loss: 0.3082\n",
      "Epoch 11/100\n",
      "1/1 [==============================] - 0s 5ms/step - loss: 0.3004\n",
      "Epoch 12/100\n",
      "1/1 [==============================] - 0s 7ms/step - loss: 0.2929\n",
      "Epoch 13/100\n",
      "1/1 [==============================] - 0s 4ms/step - loss: 0.2853\n",
      "Epoch 14/100\n",
      "1/1 [==============================] - 0s 5ms/step - loss: 0.2777\n",
      "Epoch 15/100\n",
      "1/1 [==============================] - 0s 4ms/step - loss: 0.2702\n",
      "Epoch 16/100\n",
      "1/1 [==============================] - 0s 4ms/step - loss: 0.2632\n",
      "Epoch 17/100\n",
      "1/1 [==============================] - 0s 5ms/step - loss: 0.2564\n",
      "Epoch 18/100\n",
      "1/1 [==============================] - 0s 5ms/step - loss: 0.2504\n",
      "Epoch 19/100\n",
      "1/1 [==============================] - 0s 5ms/step - loss: 0.2447\n",
      "Epoch 20/100\n",
      "1/1 [==============================] - 0s 4ms/step - loss: 0.2392\n",
      "Epoch 21/100\n",
      "1/1 [==============================] - 0s 5ms/step - loss: 0.2339\n",
      "Epoch 22/100\n",
      "1/1 [==============================] - 0s 5ms/step - loss: 0.2288\n",
      "Epoch 23/100\n",
      "1/1 [==============================] - 0s 6ms/step - loss: 0.2239\n",
      "Epoch 24/100\n",
      "1/1 [==============================] - 0s 4ms/step - loss: 0.2192\n",
      "Epoch 25/100\n",
      "1/1 [==============================] - 0s 6ms/step - loss: 0.2146\n",
      "Epoch 26/100\n",
      "1/1 [==============================] - 0s 6ms/step - loss: 0.2102\n",
      "Epoch 27/100\n",
      "1/1 [==============================] - 0s 6ms/step - loss: 0.2058\n",
      "Epoch 28/100\n",
      "1/1 [==============================] - 0s 6ms/step - loss: 0.2015\n",
      "Epoch 29/100\n",
      "1/1 [==============================] - 0s 5ms/step - loss: 0.1973\n",
      "Epoch 30/100\n",
      "1/1 [==============================] - 0s 5ms/step - loss: 0.1931\n",
      "Epoch 31/100\n",
      "1/1 [==============================] - 0s 4ms/step - loss: 0.1890\n",
      "Epoch 32/100\n",
      "1/1 [==============================] - 0s 6ms/step - loss: 0.1848\n",
      "Epoch 33/100\n",
      "1/1 [==============================] - 0s 56ms/step - loss: 0.1808\n",
      "Epoch 34/100\n",
      "1/1 [==============================] - 0s 6ms/step - loss: 0.1768\n",
      "Epoch 35/100\n",
      "1/1 [==============================] - 0s 5ms/step - loss: 0.1730\n",
      "Epoch 36/100\n",
      "1/1 [==============================] - 0s 25ms/step - loss: 0.1692\n",
      "Epoch 37/100\n",
      "1/1 [==============================] - 0s 6ms/step - loss: 0.1655\n",
      "Epoch 38/100\n",
      "1/1 [==============================] - 0s 8ms/step - loss: 0.1618\n",
      "Epoch 39/100\n",
      "1/1 [==============================] - 0s 10ms/step - loss: 0.1582\n",
      "Epoch 40/100\n",
      "1/1 [==============================] - 0s 6ms/step - loss: 0.1545\n",
      "Epoch 41/100\n",
      "1/1 [==============================] - 0s 5ms/step - loss: 0.1509\n",
      "Epoch 42/100\n",
      "1/1 [==============================] - 0s 6ms/step - loss: 0.1473\n",
      "Epoch 43/100\n",
      "1/1 [==============================] - 0s 7ms/step - loss: 0.1437\n",
      "Epoch 44/100\n",
      "1/1 [==============================] - 0s 5ms/step - loss: 0.1402\n",
      "Epoch 45/100\n",
      "1/1 [==============================] - 0s 6ms/step - loss: 0.1368\n",
      "Epoch 46/100\n",
      "1/1 [==============================] - 0s 8ms/step - loss: 0.1337\n",
      "Epoch 47/100\n",
      "1/1 [==============================] - 0s 6ms/step - loss: 0.1307\n",
      "Epoch 48/100\n",
      "1/1 [==============================] - 0s 6ms/step - loss: 0.1276\n",
      "Epoch 49/100\n",
      "1/1 [==============================] - 0s 6ms/step - loss: 0.1246\n",
      "Epoch 50/100\n",
      "1/1 [==============================] - 0s 6ms/step - loss: 0.1215\n",
      "Epoch 51/100\n",
      "1/1 [==============================] - 0s 6ms/step - loss: 0.1186\n",
      "Epoch 52/100\n",
      "1/1 [==============================] - 0s 6ms/step - loss: 0.1156\n",
      "Epoch 53/100\n",
      "1/1 [==============================] - 0s 8ms/step - loss: 0.1127\n",
      "Epoch 54/100\n",
      "1/1 [==============================] - 0s 5ms/step - loss: 0.1098\n",
      "Epoch 55/100\n",
      "1/1 [==============================] - 0s 5ms/step - loss: 0.1070\n",
      "Epoch 56/100\n",
      "1/1 [==============================] - 0s 6ms/step - loss: 0.1042\n",
      "Epoch 57/100\n",
      "1/1 [==============================] - 0s 6ms/step - loss: 0.1015\n",
      "Epoch 58/100\n",
      "1/1 [==============================] - 0s 13ms/step - loss: 0.0987\n",
      "Epoch 59/100\n",
      "1/1 [==============================] - 0s 6ms/step - loss: 0.0961\n",
      "Epoch 60/100\n",
      "1/1 [==============================] - 0s 8ms/step - loss: 0.0934\n",
      "Epoch 61/100\n",
      "1/1 [==============================] - 0s 6ms/step - loss: 0.0908\n",
      "Epoch 62/100\n",
      "1/1 [==============================] - 0s 5ms/step - loss: 0.0883\n",
      "Epoch 63/100\n",
      "1/1 [==============================] - 0s 7ms/step - loss: 0.0859\n",
      "Epoch 64/100\n",
      "1/1 [==============================] - 0s 8ms/step - loss: 0.0834\n",
      "Epoch 65/100\n",
      "1/1 [==============================] - 0s 7ms/step - loss: 0.0811\n",
      "Epoch 66/100\n",
      "1/1 [==============================] - 0s 8ms/step - loss: 0.0787\n",
      "Epoch 67/100\n",
      "1/1 [==============================] - 0s 6ms/step - loss: 0.0764\n",
      "Epoch 68/100\n",
      "1/1 [==============================] - 0s 6ms/step - loss: 0.0742\n",
      "Epoch 69/100\n",
      "1/1 [==============================] - 0s 8ms/step - loss: 0.0720\n",
      "Epoch 70/100\n",
      "1/1 [==============================] - 0s 5ms/step - loss: 0.0698\n",
      "Epoch 71/100\n",
      "1/1 [==============================] - 0s 5ms/step - loss: 0.0677\n",
      "Epoch 72/100\n",
      "1/1 [==============================] - 0s 6ms/step - loss: 0.0656\n",
      "Epoch 73/100\n",
      "1/1 [==============================] - 0s 9ms/step - loss: 0.0636\n",
      "Epoch 74/100\n",
      "1/1 [==============================] - 0s 5ms/step - loss: 0.0616\n",
      "Epoch 75/100\n",
      "1/1 [==============================] - 0s 6ms/step - loss: 0.0597\n",
      "Epoch 76/100\n",
      "1/1 [==============================] - 0s 5ms/step - loss: 0.0578\n",
      "Epoch 77/100\n",
      "1/1 [==============================] - 0s 5ms/step - loss: 0.0560\n",
      "Epoch 78/100\n",
      "1/1 [==============================] - 0s 6ms/step - loss: 0.0542\n",
      "Epoch 79/100\n",
      "1/1 [==============================] - 0s 7ms/step - loss: 0.0524\n",
      "Epoch 80/100\n",
      "1/1 [==============================] - 0s 6ms/step - loss: 0.0507\n",
      "Epoch 81/100\n",
      "1/1 [==============================] - 0s 8ms/step - loss: 0.0490\n",
      "Epoch 82/100\n",
      "1/1 [==============================] - 0s 6ms/step - loss: 0.0473\n",
      "Epoch 83/100\n",
      "1/1 [==============================] - 0s 5ms/step - loss: 0.0457\n",
      "Epoch 84/100\n",
      "1/1 [==============================] - 0s 5ms/step - loss: 0.0441\n",
      "Epoch 85/100\n",
      "1/1 [==============================] - 0s 5ms/step - loss: 0.0426\n",
      "Epoch 86/100\n",
      "1/1 [==============================] - 0s 6ms/step - loss: 0.0411\n",
      "Epoch 87/100\n",
      "1/1 [==============================] - 0s 7ms/step - loss: 0.0396\n",
      "Epoch 88/100\n",
      "1/1 [==============================] - 0s 6ms/step - loss: 0.0382\n",
      "Epoch 89/100\n",
      "1/1 [==============================] - 0s 6ms/step - loss: 0.0368\n",
      "Epoch 90/100\n",
      "1/1 [==============================] - 0s 7ms/step - loss: 0.0355\n",
      "Epoch 91/100\n",
      "1/1 [==============================] - 0s 7ms/step - loss: 0.0342\n",
      "Epoch 92/100\n",
      "1/1 [==============================] - 0s 7ms/step - loss: 0.0329\n",
      "Epoch 93/100\n",
      "1/1 [==============================] - 0s 7ms/step - loss: 0.0316\n",
      "Epoch 94/100\n",
      "1/1 [==============================] - 0s 6ms/step - loss: 0.0305\n",
      "Epoch 95/100\n",
      "1/1 [==============================] - 0s 6ms/step - loss: 0.0294\n",
      "Epoch 96/100\n",
      "1/1 [==============================] - 0s 8ms/step - loss: 0.0284\n",
      "Epoch 97/100\n",
      "1/1 [==============================] - 0s 6ms/step - loss: 0.0273\n",
      "Epoch 98/100\n",
      "1/1 [==============================] - 0s 7ms/step - loss: 0.0263\n",
      "Epoch 99/100\n",
      "1/1 [==============================] - 0s 6ms/step - loss: 0.0253\n",
      "Epoch 100/100\n",
      "1/1 [==============================] - 0s 7ms/step - loss: 0.0244\n"
     ]
    }
   ],
   "source": [
    "model = keras.models.Sequential([\n",
    "    \n",
    "    keras.layers.Flatten(input_shape=[9, 1]),\n",
    "    keras.layers.Dense(23, activation='relu'),\n",
    "    keras.layers.Dense(1, activation=None)\n",
    "    \n",
    "])\n",
    "\n",
    "model.compile(loss=\"mse\", optimizer='Adam')\n",
    "\n",
    "history = model.fit(train_x, train_target, epochs=100)"
   ]
  },
  {
   "cell_type": "markdown",
   "id": "9b98ecd5",
   "metadata": {},
   "source": [
    "### Predictions"
   ]
  },
  {
   "cell_type": "code",
   "execution_count": 44,
   "id": "44bd3e6c",
   "metadata": {},
   "outputs": [
    {
     "name": "stdout",
     "output_type": "stream",
     "text": [
      "1/1 [==============================] - 0s 81ms/step\n"
     ]
    }
   ],
   "source": [
    "#Predict:\n",
    "y_pred = model.predict(test_x)"
   ]
  },
  {
   "cell_type": "code",
   "execution_count": 45,
   "id": "4130a057",
   "metadata": {},
   "outputs": [],
   "source": [
    "# Remember, these are standardized values. \n",
    "\n",
    "comparison = pd.DataFrame()\n",
    "\n",
    "comparison['actual'] = scaler.inverse_transform([test_target]).flatten()\n",
    "comparison['predicted'] = scaler.inverse_transform(y_pred).flatten()"
   ]
  },
  {
   "cell_type": "code",
   "execution_count": 46,
   "id": "141a4539",
   "metadata": {},
   "outputs": [
    {
     "data": {
      "text/html": [
       "<div>\n",
       "<style scoped>\n",
       "    .dataframe tbody tr th:only-of-type {\n",
       "        vertical-align: middle;\n",
       "    }\n",
       "\n",
       "    .dataframe tbody tr th {\n",
       "        vertical-align: top;\n",
       "    }\n",
       "\n",
       "    .dataframe thead th {\n",
       "        text-align: right;\n",
       "    }\n",
       "</style>\n",
       "<table border=\"1\" class=\"dataframe\">\n",
       "  <thead>\n",
       "    <tr style=\"text-align: right;\">\n",
       "      <th></th>\n",
       "      <th>actual</th>\n",
       "      <th>predicted</th>\n",
       "    </tr>\n",
       "  </thead>\n",
       "  <tbody>\n",
       "    <tr>\n",
       "      <th>0</th>\n",
       "      <td>185.059998</td>\n",
       "      <td>183.760193</td>\n",
       "    </tr>\n",
       "    <tr>\n",
       "      <th>1</th>\n",
       "      <td>123.150002</td>\n",
       "      <td>164.078796</td>\n",
       "    </tr>\n",
       "    <tr>\n",
       "      <th>2</th>\n",
       "      <td>202.070007</td>\n",
       "      <td>183.664612</td>\n",
       "    </tr>\n",
       "  </tbody>\n",
       "</table>\n",
       "</div>"
      ],
      "text/plain": [
       "       actual   predicted\n",
       "0  185.059998  183.760193\n",
       "1  123.150002  164.078796\n",
       "2  202.070007  183.664612"
      ]
     },
     "execution_count": 46,
     "metadata": {},
     "output_type": "execute_result"
    }
   ],
   "source": [
    "comparison"
   ]
  },
  {
   "cell_type": "code",
   "execution_count": 47,
   "id": "84eb9d94",
   "metadata": {},
   "outputs": [
    {
     "data": {
      "text/plain": [
       "671.8714250625625"
      ]
     },
     "execution_count": 47,
     "metadata": {},
     "output_type": "execute_result"
    }
   ],
   "source": [
    "mean_squared_error(comparison['actual'], comparison['predicted'])"
   ]
  },
  {
   "cell_type": "code",
   "execution_count": 104,
   "id": "6034b13d",
   "metadata": {},
   "outputs": [
    {
     "data": {
      "image/png": "[encoded data removed]",
      "text/plain": [
       "<Figure size 640x480 with 1 Axes>"
      ]
     },
     "metadata": {},
     "output_type": "display_data"
    }
   ],
   "source": [
    "plt.plot(comparison['actual'], label = 'actual')\n",
    "plt.plot(comparison['predicted'], label = 'predicted')\n",
    "\n",
    "plt.legend()\n",
    "\n",
    "nn=plt.show()"
   ]
  },
  {
   "cell_type": "markdown",
   "id": "cbf70717",
   "metadata": {},
   "source": [
    "## Simple RNN"
   ]
  },
  {
   "cell_type": "code",
   "execution_count": 49,
   "id": "ab190bb0",
   "metadata": {},
   "outputs": [],
   "source": [
    "model = keras.models.Sequential([\n",
    "    keras.layers.SimpleRNN(32, activation='relu', input_shape=[9, 1]),\n",
    "    keras.layers.Dense(1, activation=None)\n",
    "])"
   ]
  },
  {
   "cell_type": "code",
   "execution_count": 50,
   "id": "5e12012c",
   "metadata": {},
   "outputs": [
    {
     "name": "stdout",
     "output_type": "stream",
     "text": [
      "Epoch 1/30\n",
      "1/1 [==============================] - 1s 740ms/step - loss: 0.5696\n",
      "Epoch 2/30\n",
      "1/1 [==============================] - 0s 6ms/step - loss: 0.5134\n",
      "Epoch 3/30\n",
      "1/1 [==============================] - 0s 7ms/step - loss: 0.4668\n",
      "Epoch 4/30\n",
      "1/1 [==============================] - 0s 6ms/step - loss: 0.4244\n",
      "Epoch 5/30\n",
      "1/1 [==============================] - 0s 6ms/step - loss: 0.3847\n",
      "Epoch 6/30\n",
      "1/1 [==============================] - 0s 5ms/step - loss: 0.3465\n",
      "Epoch 7/30\n",
      "1/1 [==============================] - 0s 6ms/step - loss: 0.3121\n",
      "Epoch 8/30\n",
      "1/1 [==============================] - 0s 5ms/step - loss: 0.2826\n",
      "Epoch 9/30\n",
      "1/1 [==============================] - 0s 7ms/step - loss: 0.2553\n",
      "Epoch 10/30\n",
      "1/1 [==============================] - 0s 8ms/step - loss: 0.2309\n",
      "Epoch 11/30\n",
      "1/1 [==============================] - 0s 7ms/step - loss: 0.2090\n",
      "Epoch 12/30\n",
      "1/1 [==============================] - 0s 8ms/step - loss: 0.1890\n",
      "Epoch 13/30\n",
      "1/1 [==============================] - 0s 8ms/step - loss: 0.1708\n",
      "Epoch 14/30\n",
      "1/1 [==============================] - 0s 8ms/step - loss: 0.1550\n",
      "Epoch 15/30\n",
      "1/1 [==============================] - 0s 7ms/step - loss: 0.1415\n",
      "Epoch 16/30\n",
      "1/1 [==============================] - 0s 6ms/step - loss: 0.1307\n",
      "Epoch 17/30\n",
      "1/1 [==============================] - 0s 8ms/step - loss: 0.1218\n",
      "Epoch 18/30\n",
      "1/1 [==============================] - 0s 10ms/step - loss: 0.1145\n",
      "Epoch 19/30\n",
      "1/1 [==============================] - 0s 7ms/step - loss: 0.1084\n",
      "Epoch 20/30\n",
      "1/1 [==============================] - 0s 8ms/step - loss: 0.1035\n",
      "Epoch 21/30\n",
      "1/1 [==============================] - 0s 7ms/step - loss: 0.0995\n",
      "Epoch 22/30\n",
      "1/1 [==============================] - 0s 7ms/step - loss: 0.0960\n",
      "Epoch 23/30\n",
      "1/1 [==============================] - 0s 7ms/step - loss: 0.0925\n",
      "Epoch 24/30\n",
      "1/1 [==============================] - 0s 7ms/step - loss: 0.0887\n",
      "Epoch 25/30\n",
      "1/1 [==============================] - 0s 7ms/step - loss: 0.0847\n",
      "Epoch 26/30\n",
      "1/1 [==============================] - 0s 6ms/step - loss: 0.0804\n",
      "Epoch 27/30\n",
      "1/1 [==============================] - 0s 7ms/step - loss: 0.0761\n",
      "Epoch 28/30\n",
      "1/1 [==============================] - 0s 5ms/step - loss: 0.0717\n",
      "Epoch 29/30\n",
      "1/1 [==============================] - 0s 5ms/step - loss: 0.0675\n",
      "Epoch 30/30\n",
      "1/1 [==============================] - 0s 7ms/step - loss: 0.0639\n"
     ]
    }
   ],
   "source": [
    "np.random.seed(42)\n",
    "tf.random.set_seed(42)\n",
    "\n",
    "model.compile(loss=\"mse\", optimizer='Adam')\n",
    "\n",
    "history = model.fit(train_x, train_target, epochs=30)"
   ]
  },
  {
   "cell_type": "markdown",
   "id": "4d503149",
   "metadata": {},
   "source": [
    "### Predictions"
   ]
  },
  {
   "cell_type": "code",
   "execution_count": 51,
   "id": "1d65c95c",
   "metadata": {},
   "outputs": [
    {
     "name": "stdout",
     "output_type": "stream",
     "text": [
      "1/1 [==============================] - 0s 131ms/step\n"
     ]
    }
   ],
   "source": [
    "#Predict:\n",
    "y_pred = model.predict(test_x)"
   ]
  },
  {
   "cell_type": "code",
   "execution_count": 52,
   "id": "08e4390b",
   "metadata": {},
   "outputs": [],
   "source": [
    "#Remember, these are standardized values. \n",
    "\n",
    "comparison = pd.DataFrame()\n",
    "\n",
    "comparison['actual'] = scaler.inverse_transform([test_target]).flatten()\n",
    "comparison['predicted'] = scaler.inverse_transform(y_pred).flatten()"
   ]
  },
  {
   "cell_type": "code",
   "execution_count": 53,
   "id": "5a32febf",
   "metadata": {},
   "outputs": [
    {
     "data": {
      "text/html": [
       "<div>\n",
       "<style scoped>\n",
       "    .dataframe tbody tr th:only-of-type {\n",
       "        vertical-align: middle;\n",
       "    }\n",
       "\n",
       "    .dataframe tbody tr th {\n",
       "        vertical-align: top;\n",
       "    }\n",
       "\n",
       "    .dataframe thead th {\n",
       "        text-align: right;\n",
       "    }\n",
       "</style>\n",
       "<table border=\"1\" class=\"dataframe\">\n",
       "  <thead>\n",
       "    <tr style=\"text-align: right;\">\n",
       "      <th></th>\n",
       "      <th>actual</th>\n",
       "      <th>predicted</th>\n",
       "    </tr>\n",
       "  </thead>\n",
       "  <tbody>\n",
       "    <tr>\n",
       "      <th>0</th>\n",
       "      <td>185.059998</td>\n",
       "      <td>183.321259</td>\n",
       "    </tr>\n",
       "    <tr>\n",
       "      <th>1</th>\n",
       "      <td>123.150002</td>\n",
       "      <td>136.302536</td>\n",
       "    </tr>\n",
       "    <tr>\n",
       "      <th>2</th>\n",
       "      <td>202.070007</td>\n",
       "      <td>190.288116</td>\n",
       "    </tr>\n",
       "  </tbody>\n",
       "</table>\n",
       "</div>"
      ],
      "text/plain": [
       "       actual   predicted\n",
       "0  185.059998  183.321259\n",
       "1  123.150002  136.302536\n",
       "2  202.070007  190.288116"
      ]
     },
     "execution_count": 53,
     "metadata": {},
     "output_type": "execute_result"
    }
   ],
   "source": [
    "comparison"
   ]
  },
  {
   "cell_type": "code",
   "execution_count": 54,
   "id": "a1a6750d",
   "metadata": {},
   "outputs": [
    {
     "data": {
      "text/plain": [
       "104.94177020296497"
      ]
     },
     "execution_count": 54,
     "metadata": {},
     "output_type": "execute_result"
    }
   ],
   "source": [
    "mean_squared_error(comparison['actual'], comparison['predicted'])"
   ]
  },
  {
   "cell_type": "code",
   "execution_count": 91,
   "id": "d7e61a86",
   "metadata": {},
   "outputs": [
    {
     "data": {
      "image/png": "[encoded data removed]",
      "text/plain": [
       "<Figure size 640x480 with 1 Axes>"
      ]
     },
     "metadata": {},
     "output_type": "display_data"
    }
   ],
   "source": [
    "plt.plot(comparison['actual'], label = 'actual')\n",
    "plt.plot(comparison['predicted'], label = 'predicted')\n",
    "\n",
    "plt.legend()\n",
    "\n",
    "rnn=plt.show()"
   ]
  },
  {
   "cell_type": "markdown",
   "id": "182e26e1",
   "metadata": {},
   "source": [
    "##  Simple RNN with more layers"
   ]
  },
  {
   "cell_type": "code",
   "execution_count": 56,
   "id": "e158e439",
   "metadata": {},
   "outputs": [],
   "source": [
    "model = keras.models.Sequential([\n",
    "    keras.layers.SimpleRNN(32, activation='relu', return_sequences=True, input_shape=[9, 1]),\n",
    "    keras.layers.SimpleRNN(32, activation='relu', return_sequences=False),\n",
    "    keras.layers.Dense(1, activation=None)\n",
    "])"
   ]
  },
  {
   "cell_type": "code",
   "execution_count": 57,
   "id": "b7f531b9",
   "metadata": {},
   "outputs": [
    {
     "name": "stdout",
     "output_type": "stream",
     "text": [
      "Epoch 1/30\n",
      "1/1 [==============================] - 1s 1s/step - loss: 0.7156\n",
      "Epoch 2/30\n",
      "1/1 [==============================] - 0s 8ms/step - loss: 0.6556\n",
      "Epoch 3/30\n",
      "1/1 [==============================] - 0s 9ms/step - loss: 0.6021\n",
      "Epoch 4/30\n",
      "1/1 [==============================] - 0s 10ms/step - loss: 0.5505\n",
      "Epoch 5/30\n",
      "1/1 [==============================] - 0s 9ms/step - loss: 0.5069\n",
      "Epoch 6/30\n",
      "1/1 [==============================] - 0s 10ms/step - loss: 0.4658\n",
      "Epoch 7/30\n",
      "1/1 [==============================] - 0s 8ms/step - loss: 0.4289\n",
      "Epoch 8/30\n",
      "1/1 [==============================] - 0s 7ms/step - loss: 0.3953\n",
      "Epoch 9/30\n",
      "1/1 [==============================] - 0s 9ms/step - loss: 0.3639\n",
      "Epoch 10/30\n",
      "1/1 [==============================] - 0s 10ms/step - loss: 0.3327\n",
      "Epoch 11/30\n",
      "1/1 [==============================] - 0s 7ms/step - loss: 0.3015\n",
      "Epoch 12/30\n",
      "1/1 [==============================] - 0s 8ms/step - loss: 0.2718\n",
      "Epoch 13/30\n",
      "1/1 [==============================] - 0s 9ms/step - loss: 0.2439\n",
      "Epoch 14/30\n",
      "1/1 [==============================] - 0s 7ms/step - loss: 0.2180\n",
      "Epoch 15/30\n",
      "1/1 [==============================] - 0s 10ms/step - loss: 0.1957\n",
      "Epoch 16/30\n",
      "1/1 [==============================] - 0s 9ms/step - loss: 0.1760\n",
      "Epoch 17/30\n",
      "1/1 [==============================] - 0s 7ms/step - loss: 0.1597\n",
      "Epoch 18/30\n",
      "1/1 [==============================] - 0s 9ms/step - loss: 0.1473\n",
      "Epoch 19/30\n",
      "1/1 [==============================] - 0s 8ms/step - loss: 0.1381\n",
      "Epoch 20/30\n",
      "1/1 [==============================] - 0s 9ms/step - loss: 0.1316\n",
      "Epoch 21/30\n",
      "1/1 [==============================] - 0s 11ms/step - loss: 0.1271\n",
      "Epoch 22/30\n",
      "1/1 [==============================] - 0s 11ms/step - loss: 0.1233\n",
      "Epoch 23/30\n",
      "1/1 [==============================] - 0s 10ms/step - loss: 0.1194\n",
      "Epoch 24/30\n",
      "1/1 [==============================] - 0s 9ms/step - loss: 0.1145\n",
      "Epoch 25/30\n",
      "1/1 [==============================] - 0s 2ms/step - loss: 0.1082\n",
      "Epoch 26/30\n",
      "1/1 [==============================] - 0s 18ms/step - loss: 0.1010\n",
      "Epoch 27/30\n",
      "1/1 [==============================] - 0s 10ms/step - loss: 0.0936\n",
      "Epoch 28/30\n",
      "1/1 [==============================] - 0s 8ms/step - loss: 0.0864\n",
      "Epoch 29/30\n",
      "1/1 [==============================] - 0s 8ms/step - loss: 0.0798\n",
      "Epoch 30/30\n",
      "1/1 [==============================] - 0s 7ms/step - loss: 0.0741\n"
     ]
    }
   ],
   "source": [
    "np.random.seed(42)\n",
    "tf.random.set_seed(42)\n",
    "\n",
    "model.compile(loss=\"mse\", optimizer='Adam')\n",
    "\n",
    "history = model.fit(train_x, train_target, epochs=30)"
   ]
  },
  {
   "cell_type": "code",
   "execution_count": 58,
   "id": "3c9bbe09",
   "metadata": {},
   "outputs": [
    {
     "name": "stdout",
     "output_type": "stream",
     "text": [
      "1/1 [==============================] - 0s 269ms/step\n"
     ]
    }
   ],
   "source": [
    "#Predict:\n",
    "y_pred = model.predict(test_x)"
   ]
  },
  {
   "cell_type": "code",
   "execution_count": 59,
   "id": "91d8f30f",
   "metadata": {},
   "outputs": [],
   "source": [
    "#Remember, these are standardized values. \n",
    "\n",
    "comparison = pd.DataFrame()\n",
    "\n",
    "comparison['actual'] = scaler.inverse_transform([test_target]).flatten()\n",
    "comparison['predicted'] = scaler.inverse_transform(y_pred).flatten()"
   ]
  },
  {
   "cell_type": "code",
   "execution_count": 60,
   "id": "b33dd2b7",
   "metadata": {},
   "outputs": [
    {
     "data": {
      "text/html": [
       "<div>\n",
       "<style scoped>\n",
       "    .dataframe tbody tr th:only-of-type {\n",
       "        vertical-align: middle;\n",
       "    }\n",
       "\n",
       "    .dataframe tbody tr th {\n",
       "        vertical-align: top;\n",
       "    }\n",
       "\n",
       "    .dataframe thead th {\n",
       "        text-align: right;\n",
       "    }\n",
       "</style>\n",
       "<table border=\"1\" class=\"dataframe\">\n",
       "  <thead>\n",
       "    <tr style=\"text-align: right;\">\n",
       "      <th></th>\n",
       "      <th>actual</th>\n",
       "      <th>predicted</th>\n",
       "    </tr>\n",
       "  </thead>\n",
       "  <tbody>\n",
       "    <tr>\n",
       "      <th>0</th>\n",
       "      <td>185.059998</td>\n",
       "      <td>178.764664</td>\n",
       "    </tr>\n",
       "    <tr>\n",
       "      <th>1</th>\n",
       "      <td>123.150002</td>\n",
       "      <td>140.472488</td>\n",
       "    </tr>\n",
       "    <tr>\n",
       "      <th>2</th>\n",
       "      <td>202.070007</td>\n",
       "      <td>182.837296</td>\n",
       "    </tr>\n",
       "  </tbody>\n",
       "</table>\n",
       "</div>"
      ],
      "text/plain": [
       "       actual   predicted\n",
       "0  185.059998  178.764664\n",
       "1  123.150002  140.472488\n",
       "2  202.070007  182.837296"
      ]
     },
     "execution_count": 60,
     "metadata": {},
     "output_type": "execute_result"
    }
   ],
   "source": [
    "comparison"
   ]
  },
  {
   "cell_type": "code",
   "execution_count": 61,
   "id": "a5316804",
   "metadata": {},
   "outputs": [
    {
     "data": {
      "text/plain": [
       "236.53231986377364"
      ]
     },
     "execution_count": 61,
     "metadata": {},
     "output_type": "execute_result"
    }
   ],
   "source": [
    "mean_squared_error(comparison['actual'], comparison['predicted'])"
   ]
  },
  {
   "cell_type": "code",
   "execution_count": 93,
   "id": "6462f12a",
   "metadata": {},
   "outputs": [
    {
     "data": {
      "image/png": "[encoded data removed]",
      "text/plain": [
       "<Figure size 640x480 with 1 Axes>"
      ]
     },
     "metadata": {},
     "output_type": "display_data"
    }
   ],
   "source": [
    "plt.plot(comparison['actual'], label = 'actual')\n",
    "plt.plot(comparison['predicted'], label = 'predicted')\n",
    "\n",
    "plt.legend()\n",
    "\n",
    "rnn_layers =plt.show()"
   ]
  },
  {
   "cell_type": "markdown",
   "id": "c62d66fb",
   "metadata": {},
   "source": [
    "# LSTM with one layer"
   ]
  },
  {
   "cell_type": "code",
   "execution_count": 63,
   "id": "272121cc",
   "metadata": {},
   "outputs": [],
   "source": [
    "model = keras.models.Sequential([\n",
    "    keras.layers.LSTM(32, activation='relu', input_shape=[9, 1]),\n",
    "    keras.layers.Dense(1, activation=None)\n",
    "])"
   ]
  },
  {
   "cell_type": "code",
   "execution_count": 64,
   "id": "c858c3ab",
   "metadata": {},
   "outputs": [
    {
     "name": "stdout",
     "output_type": "stream",
     "text": [
      "Epoch 1/30\n",
      "1/1 [==============================] - 1s 1s/step - loss: 1.0297\n",
      "Epoch 2/30\n",
      "1/1 [==============================] - 0s 6ms/step - loss: 0.9925\n",
      "Epoch 3/30\n",
      "1/1 [==============================] - 0s 22ms/step - loss: 0.9575\n",
      "Epoch 4/30\n",
      "1/1 [==============================] - 0s 23ms/step - loss: 0.9244\n",
      "Epoch 5/30\n",
      "1/1 [==============================] - 0s 14ms/step - loss: 0.8936\n",
      "Epoch 6/30\n",
      "1/1 [==============================] - 0s 9ms/step - loss: 0.8644\n",
      "Epoch 7/30\n",
      "1/1 [==============================] - 0s 11ms/step - loss: 0.8365\n",
      "Epoch 8/30\n",
      "1/1 [==============================] - 0s 18ms/step - loss: 0.8095\n",
      "Epoch 9/30\n",
      "1/1 [==============================] - 0s 9ms/step - loss: 0.7833\n",
      "Epoch 10/30\n",
      "1/1 [==============================] - 0s 14ms/step - loss: 0.7579\n",
      "Epoch 11/30\n",
      "1/1 [==============================] - 0s 9ms/step - loss: 0.7332\n",
      "Epoch 12/30\n",
      "1/1 [==============================] - 0s 9ms/step - loss: 0.7093\n",
      "Epoch 13/30\n",
      "1/1 [==============================] - 0s 8ms/step - loss: 0.6859\n",
      "Epoch 14/30\n",
      "1/1 [==============================] - 0s 16ms/step - loss: 0.6630\n",
      "Epoch 15/30\n",
      "1/1 [==============================] - 0s 8ms/step - loss: 0.6406\n",
      "Epoch 16/30\n",
      "1/1 [==============================] - 0s 9ms/step - loss: 0.6186\n",
      "Epoch 17/30\n",
      "1/1 [==============================] - 0s 12ms/step - loss: 0.5970\n",
      "Epoch 18/30\n",
      "1/1 [==============================] - 0s 9ms/step - loss: 0.5757\n",
      "Epoch 19/30\n",
      "1/1 [==============================] - 0s 9ms/step - loss: 0.5547\n",
      "Epoch 20/30\n",
      "1/1 [==============================] - 0s 9ms/step - loss: 0.5341\n",
      "Epoch 21/30\n",
      "1/1 [==============================] - 0s 11ms/step - loss: 0.5138\n",
      "Epoch 22/30\n",
      "1/1 [==============================] - 0s 8ms/step - loss: 0.4938\n",
      "Epoch 23/30\n",
      "1/1 [==============================] - 0s 8ms/step - loss: 0.4741\n",
      "Epoch 24/30\n",
      "1/1 [==============================] - 0s 11ms/step - loss: 0.4547\n",
      "Epoch 25/30\n",
      "1/1 [==============================] - 0s 9ms/step - loss: 0.4357\n",
      "Epoch 26/30\n",
      "1/1 [==============================] - 0s 9ms/step - loss: 0.4169\n",
      "Epoch 27/30\n",
      "1/1 [==============================] - 0s 8ms/step - loss: 0.3984\n",
      "Epoch 28/30\n",
      "1/1 [==============================] - 0s 8ms/step - loss: 0.3802\n",
      "Epoch 29/30\n",
      "1/1 [==============================] - 0s 8ms/step - loss: 0.3623\n",
      "Epoch 30/30\n",
      "1/1 [==============================] - 0s 9ms/step - loss: 0.3446\n"
     ]
    }
   ],
   "source": [
    "np.random.seed(42)\n",
    "tf.random.set_seed(42)\n",
    "\n",
    "model.compile(loss=\"mse\", optimizer='Adam')\n",
    "\n",
    "history = model.fit(train_x, train_target, epochs=30)"
   ]
  },
  {
   "cell_type": "markdown",
   "id": "ad30ec17",
   "metadata": {},
   "source": [
    "### Predict"
   ]
  },
  {
   "cell_type": "code",
   "execution_count": 65,
   "id": "32828043",
   "metadata": {},
   "outputs": [
    {
     "name": "stdout",
     "output_type": "stream",
     "text": [
      "1/1 [==============================] - 0s 158ms/step\n"
     ]
    }
   ],
   "source": [
    "#Predict:\n",
    "y_pred = model.predict(test_x)"
   ]
  },
  {
   "cell_type": "code",
   "execution_count": 66,
   "id": "a27da450",
   "metadata": {},
   "outputs": [],
   "source": [
    "#Remember, these are standardized values. \n",
    "\n",
    "comparison = pd.DataFrame()\n",
    "\n",
    "comparison['actual'] = scaler.inverse_transform([test_target]).flatten()\n",
    "comparison['predicted'] = scaler.inverse_transform(y_pred).flatten()"
   ]
  },
  {
   "cell_type": "code",
   "execution_count": 67,
   "id": "d5748fee",
   "metadata": {},
   "outputs": [
    {
     "data": {
      "text/html": [
       "<div>\n",
       "<style scoped>\n",
       "    .dataframe tbody tr th:only-of-type {\n",
       "        vertical-align: middle;\n",
       "    }\n",
       "\n",
       "    .dataframe tbody tr th {\n",
       "        vertical-align: top;\n",
       "    }\n",
       "\n",
       "    .dataframe thead th {\n",
       "        text-align: right;\n",
       "    }\n",
       "</style>\n",
       "<table border=\"1\" class=\"dataframe\">\n",
       "  <thead>\n",
       "    <tr style=\"text-align: right;\">\n",
       "      <th></th>\n",
       "      <th>actual</th>\n",
       "      <th>predicted</th>\n",
       "    </tr>\n",
       "  </thead>\n",
       "  <tbody>\n",
       "    <tr>\n",
       "      <th>0</th>\n",
       "      <td>185.059998</td>\n",
       "      <td>176.390686</td>\n",
       "    </tr>\n",
       "    <tr>\n",
       "      <th>1</th>\n",
       "      <td>123.150002</td>\n",
       "      <td>160.406158</td>\n",
       "    </tr>\n",
       "    <tr>\n",
       "      <th>2</th>\n",
       "      <td>202.070007</td>\n",
       "      <td>178.653137</td>\n",
       "    </tr>\n",
       "  </tbody>\n",
       "</table>\n",
       "</div>"
      ],
      "text/plain": [
       "       actual   predicted\n",
       "0  185.059998  176.390686\n",
       "1  123.150002  160.406158\n",
       "2  202.070007  178.653137"
      ]
     },
     "execution_count": 67,
     "metadata": {},
     "output_type": "execute_result"
    }
   ],
   "source": [
    "comparison"
   ]
  },
  {
   "cell_type": "code",
   "execution_count": 68,
   "id": "464abbaa",
   "metadata": {},
   "outputs": [
    {
     "data": {
      "text/plain": [
       "670.5093180225892"
      ]
     },
     "execution_count": 68,
     "metadata": {},
     "output_type": "execute_result"
    }
   ],
   "source": [
    "mean_squared_error(comparison['actual'], comparison['predicted'])"
   ]
  },
  {
   "cell_type": "code",
   "execution_count": 69,
   "id": "bd6560e7",
   "metadata": {},
   "outputs": [
    {
     "data": {
      "image/png": "[encoded data removed]",
      "text/plain": [
       "<Figure size 640x480 with 1 Axes>"
      ]
     },
     "metadata": {},
     "output_type": "display_data"
    }
   ],
   "source": [
    "plt.plot(comparison['actual'], label = 'actual')\n",
    "plt.plot(comparison['predicted'], label = 'predicted')\n",
    "\n",
    "plt.legend()\n",
    "\n",
    "plt.show()"
   ]
  },
  {
   "cell_type": "markdown",
   "id": "316fb971",
   "metadata": {},
   "source": [
    "### LSTM with more layers"
   ]
  },
  {
   "cell_type": "code",
   "execution_count": 70,
   "id": "27c569a4",
   "metadata": {},
   "outputs": [],
   "source": [
    "model = keras.models.Sequential([\n",
    "    keras.layers.LSTM(32, activation='tanh', return_sequences=True, input_shape=[9, 1]),\n",
    "    keras.layers.LSTM(32, activation='tanh', return_sequences=False),\n",
    "    keras.layers.Dense(1, activation=None)\n",
    "])"
   ]
  },
  {
   "cell_type": "code",
   "execution_count": 71,
   "id": "88618221",
   "metadata": {},
   "outputs": [
    {
     "name": "stdout",
     "output_type": "stream",
     "text": [
      "Epoch 1/30\n",
      "1/1 [==============================] - 3s 3s/step - loss: 0.5974\n",
      "Epoch 2/30\n",
      "1/1 [==============================] - 0s 12ms/step - loss: 0.5421\n",
      "Epoch 3/30\n",
      "1/1 [==============================] - 0s 13ms/step - loss: 0.4903\n",
      "Epoch 4/30\n",
      "1/1 [==============================] - 0s 13ms/step - loss: 0.4423\n",
      "Epoch 5/30\n",
      "1/1 [==============================] - 0s 15ms/step - loss: 0.3982\n",
      "Epoch 6/30\n",
      "1/1 [==============================] - 0s 15ms/step - loss: 0.3584\n",
      "Epoch 7/30\n",
      "1/1 [==============================] - 0s 14ms/step - loss: 0.3233\n",
      "Epoch 8/30\n",
      "1/1 [==============================] - 0s 71ms/step - loss: 0.2933\n",
      "Epoch 9/30\n",
      "1/1 [==============================] - 0s 17ms/step - loss: 0.2689\n",
      "Epoch 10/30\n",
      "1/1 [==============================] - 0s 22ms/step - loss: 0.2503\n",
      "Epoch 11/30\n",
      "1/1 [==============================] - 0s 15ms/step - loss: 0.2378\n",
      "Epoch 12/30\n",
      "1/1 [==============================] - 0s 15ms/step - loss: 0.2312\n",
      "Epoch 13/30\n",
      "1/1 [==============================] - 0s 14ms/step - loss: 0.2297\n",
      "Epoch 14/30\n",
      "1/1 [==============================] - 0s 16ms/step - loss: 0.2318\n",
      "Epoch 15/30\n",
      "1/1 [==============================] - 0s 17ms/step - loss: 0.2355\n",
      "Epoch 16/30\n",
      "1/1 [==============================] - 0s 17ms/step - loss: 0.2386\n",
      "Epoch 17/30\n",
      "1/1 [==============================] - 0s 27ms/step - loss: 0.2397\n",
      "Epoch 18/30\n",
      "1/1 [==============================] - 0s 15ms/step - loss: 0.2379\n",
      "Epoch 19/30\n",
      "1/1 [==============================] - 0s 14ms/step - loss: 0.2336\n",
      "Epoch 20/30\n",
      "1/1 [==============================] - 0s 15ms/step - loss: 0.2275\n",
      "Epoch 21/30\n",
      "1/1 [==============================] - 0s 14ms/step - loss: 0.2206\n",
      "Epoch 22/30\n",
      "1/1 [==============================] - 0s 13ms/step - loss: 0.2139\n",
      "Epoch 23/30\n",
      "1/1 [==============================] - 0s 13ms/step - loss: 0.2080\n",
      "Epoch 24/30\n",
      "1/1 [==============================] - 0s 15ms/step - loss: 0.2033\n",
      "Epoch 25/30\n",
      "1/1 [==============================] - 0s 15ms/step - loss: 0.1999\n",
      "Epoch 26/30\n",
      "1/1 [==============================] - 0s 16ms/step - loss: 0.1977\n",
      "Epoch 27/30\n",
      "1/1 [==============================] - 0s 14ms/step - loss: 0.1963\n",
      "Epoch 28/30\n",
      "1/1 [==============================] - 0s 13ms/step - loss: 0.1954\n",
      "Epoch 29/30\n",
      "1/1 [==============================] - 0s 13ms/step - loss: 0.1946\n",
      "Epoch 30/30\n",
      "1/1 [==============================] - 0s 12ms/step - loss: 0.1935\n"
     ]
    }
   ],
   "source": [
    "np.random.seed(42)\n",
    "tf.random.set_seed(42)\n",
    "\n",
    "model.compile(loss=\"mse\", optimizer='Adam')\n",
    "\n",
    "history = model.fit(train_x, train_target, epochs=30)"
   ]
  },
  {
   "cell_type": "markdown",
   "id": "0d3352c4",
   "metadata": {},
   "source": [
    "### Predcitions"
   ]
  },
  {
   "cell_type": "code",
   "execution_count": 72,
   "id": "89ca273e",
   "metadata": {},
   "outputs": [
    {
     "name": "stdout",
     "output_type": "stream",
     "text": [
      "WARNING:tensorflow:5 out of the last 5 calls to <function Model.make_predict_function.<locals>.predict_function at 0x0000029E76376670> triggered tf.function retracing. Tracing is expensive and the excessive number of tracings could be due to (1) creating @tf.function repeatedly in a loop, (2) passing tensors with different shapes, (3) passing Python objects instead of tensors. For (1), please define your @tf.function outside of the loop. For (2), @tf.function has reduce_retracing=True option that can avoid unnecessary retracing. For (3), please refer to https://www.tensorflow.org/guide/function#controlling_retracing and https://www.tensorflow.org/api_docs/python/tf/function for  more details.\n",
      "1/1 [==============================] - 1s 725ms/step\n"
     ]
    }
   ],
   "source": [
    "#Predict:\n",
    "y_pred = model.predict(test_x)"
   ]
  },
  {
   "cell_type": "code",
   "execution_count": 73,
   "id": "c908ff88",
   "metadata": {},
   "outputs": [],
   "source": [
    "#Remember, these are standardized values. \n",
    "\n",
    "comparison = pd.DataFrame()\n",
    "\n",
    "comparison['actual'] = scaler.inverse_transform([test_target]).flatten()\n",
    "comparison['predicted'] = scaler.inverse_transform(y_pred).flatten()"
   ]
  },
  {
   "cell_type": "code",
   "execution_count": 74,
   "id": "19839e1a",
   "metadata": {},
   "outputs": [
    {
     "data": {
      "text/html": [
       "<div>\n",
       "<style scoped>\n",
       "    .dataframe tbody tr th:only-of-type {\n",
       "        vertical-align: middle;\n",
       "    }\n",
       "\n",
       "    .dataframe tbody tr th {\n",
       "        vertical-align: top;\n",
       "    }\n",
       "\n",
       "    .dataframe thead th {\n",
       "        text-align: right;\n",
       "    }\n",
       "</style>\n",
       "<table border=\"1\" class=\"dataframe\">\n",
       "  <thead>\n",
       "    <tr style=\"text-align: right;\">\n",
       "      <th></th>\n",
       "      <th>actual</th>\n",
       "      <th>predicted</th>\n",
       "    </tr>\n",
       "  </thead>\n",
       "  <tbody>\n",
       "    <tr>\n",
       "      <th>0</th>\n",
       "      <td>185.059998</td>\n",
       "      <td>185.327255</td>\n",
       "    </tr>\n",
       "    <tr>\n",
       "      <th>1</th>\n",
       "      <td>123.150002</td>\n",
       "      <td>159.970215</td>\n",
       "    </tr>\n",
       "    <tr>\n",
       "      <th>2</th>\n",
       "      <td>202.070007</td>\n",
       "      <td>187.752625</td>\n",
       "    </tr>\n",
       "  </tbody>\n",
       "</table>\n",
       "</div>"
      ],
      "text/plain": [
       "       actual   predicted\n",
       "0  185.059998  185.327255\n",
       "1  123.150002  159.970215\n",
       "2  202.070007  187.752625"
      ]
     },
     "execution_count": 74,
     "metadata": {},
     "output_type": "execute_result"
    }
   ],
   "source": [
    "comparison"
   ]
  },
  {
   "cell_type": "code",
   "execution_count": 75,
   "id": "2c6bbe47",
   "metadata": {},
   "outputs": [
    {
     "data": {
      "text/plain": [
       "520.2623138706502"
      ]
     },
     "execution_count": 75,
     "metadata": {},
     "output_type": "execute_result"
    }
   ],
   "source": [
    "mean_squared_error(comparison['actual'], comparison['predicted'])"
   ]
  },
  {
   "cell_type": "code",
   "execution_count": 76,
   "id": "8273ce0f",
   "metadata": {},
   "outputs": [
    {
     "data": {
      "image/png": "[encoded data removed]",
      "text/plain": [
       "<Figure size 640x480 with 1 Axes>"
      ]
     },
     "metadata": {},
     "output_type": "display_data"
    }
   ],
   "source": [
    "plt.plot(comparison['actual'], label = 'actual')\n",
    "plt.plot(comparison['predicted'], label = 'predicted')\n",
    "\n",
    "plt.legend()\n",
    "\n",
    "plt.show()"
   ]
  },
  {
   "cell_type": "markdown",
   "id": "b0e20964",
   "metadata": {},
   "source": [
    "### GRU (with more layers)"
   ]
  },
  {
   "cell_type": "code",
   "execution_count": 77,
   "id": "0c2ac6dd",
   "metadata": {},
   "outputs": [],
   "source": [
    "model = keras.models.Sequential([\n",
    "    keras.layers.GRU(32, activation='relu', return_sequences=True, input_shape=[9, 1]),\n",
    "    keras.layers.GRU(32, activation='relu', return_sequences=False),\n",
    "    keras.layers.Dense(1, activation=None)\n",
    "])"
   ]
  },
  {
   "cell_type": "code",
   "execution_count": 78,
   "id": "feb12eb3",
   "metadata": {},
   "outputs": [
    {
     "name": "stdout",
     "output_type": "stream",
     "text": [
      "Epoch 1/30\n",
      "1/1 [==============================] - 2s 2s/step - loss: 0.7704\n",
      "Epoch 2/30\n",
      "1/1 [==============================] - 0s 9ms/step - loss: 0.7111\n",
      "Epoch 3/30\n",
      "1/1 [==============================] - 0s 14ms/step - loss: 0.6714\n",
      "Epoch 4/30\n",
      "1/1 [==============================] - 0s 11ms/step - loss: 0.6413\n",
      "Epoch 5/30\n",
      "1/1 [==============================] - 0s 13ms/step - loss: 0.6171\n",
      "Epoch 6/30\n",
      "1/1 [==============================] - 0s 15ms/step - loss: 0.5910\n",
      "Epoch 7/30\n",
      "1/1 [==============================] - 0s 14ms/step - loss: 0.5662\n",
      "Epoch 8/30\n",
      "1/1 [==============================] - 0s 17ms/step - loss: 0.5434\n",
      "Epoch 9/30\n",
      "1/1 [==============================] - 0s 14ms/step - loss: 0.5228\n",
      "Epoch 10/30\n",
      "1/1 [==============================] - 0s 16ms/step - loss: 0.5013\n",
      "Epoch 11/30\n",
      "1/1 [==============================] - 0s 14ms/step - loss: 0.4810\n",
      "Epoch 12/30\n",
      "1/1 [==============================] - 0s 18ms/step - loss: 0.4610\n",
      "Epoch 13/30\n",
      "1/1 [==============================] - 0s 17ms/step - loss: 0.4412\n",
      "Epoch 14/30\n",
      "1/1 [==============================] - 0s 16ms/step - loss: 0.4215\n",
      "Epoch 15/30\n",
      "1/1 [==============================] - 0s 16ms/step - loss: 0.4026\n",
      "Epoch 16/30\n",
      "1/1 [==============================] - 0s 17ms/step - loss: 0.3833\n",
      "Epoch 17/30\n",
      "1/1 [==============================] - 0s 13ms/step - loss: 0.3648\n",
      "Epoch 18/30\n",
      "1/1 [==============================] - 0s 13ms/step - loss: 0.3468\n",
      "Epoch 19/30\n",
      "1/1 [==============================] - 0s 15ms/step - loss: 0.3287\n",
      "Epoch 20/30\n",
      "1/1 [==============================] - 0s 14ms/step - loss: 0.3111\n",
      "Epoch 21/30\n",
      "1/1 [==============================] - 0s 14ms/step - loss: 0.2941\n",
      "Epoch 22/30\n",
      "1/1 [==============================] - 0s 14ms/step - loss: 0.2779\n",
      "Epoch 23/30\n",
      "1/1 [==============================] - 0s 16ms/step - loss: 0.2619\n",
      "Epoch 24/30\n",
      "1/1 [==============================] - 0s 25ms/step - loss: 0.2466\n",
      "Epoch 25/30\n",
      "1/1 [==============================] - 0s 16ms/step - loss: 0.2321\n",
      "Epoch 26/30\n",
      "1/1 [==============================] - 0s 14ms/step - loss: 0.2185\n",
      "Epoch 27/30\n",
      "1/1 [==============================] - 0s 14ms/step - loss: 0.2057\n",
      "Epoch 28/30\n",
      "1/1 [==============================] - 0s 15ms/step - loss: 0.1939\n",
      "Epoch 29/30\n",
      "1/1 [==============================] - 0s 15ms/step - loss: 0.1832\n",
      "Epoch 30/30\n",
      "1/1 [==============================] - 0s 14ms/step - loss: 0.1734\n"
     ]
    }
   ],
   "source": [
    "np.random.seed(42)\n",
    "tf.random.set_seed(42)\n",
    "\n",
    "model.compile(loss=\"mse\", optimizer='RMSprop')\n",
    "\n",
    "history = model.fit(train_x, train_target, epochs=30)"
   ]
  },
  {
   "cell_type": "markdown",
   "id": "4c6e4927",
   "metadata": {},
   "source": [
    "### Predictions"
   ]
  },
  {
   "cell_type": "code",
   "execution_count": 79,
   "id": "a37c0868",
   "metadata": {},
   "outputs": [
    {
     "name": "stdout",
     "output_type": "stream",
     "text": [
      "WARNING:tensorflow:6 out of the last 6 calls to <function Model.make_predict_function.<locals>.predict_function at 0x0000029E7FE4E4C0> triggered tf.function retracing. Tracing is expensive and the excessive number of tracings could be due to (1) creating @tf.function repeatedly in a loop, (2) passing tensors with different shapes, (3) passing Python objects instead of tensors. For (1), please define your @tf.function outside of the loop. For (2), @tf.function has reduce_retracing=True option that can avoid unnecessary retracing. For (3), please refer to https://www.tensorflow.org/guide/function#controlling_retracing and https://www.tensorflow.org/api_docs/python/tf/function for  more details.\n",
      "1/1 [==============================] - 0s 285ms/step\n"
     ]
    }
   ],
   "source": [
    "#Predict:\n",
    "y_pred = model.predict(test_x)"
   ]
  },
  {
   "cell_type": "code",
   "execution_count": 80,
   "id": "400475c9",
   "metadata": {},
   "outputs": [],
   "source": [
    "#Remember, these are standardized values. \n",
    "\n",
    "comparison = pd.DataFrame()\n",
    "\n",
    "comparison['actual'] = scaler.inverse_transform([test_target]).flatten()\n",
    "comparison['predicted'] = scaler.inverse_transform(y_pred).flatten()"
   ]
  },
  {
   "cell_type": "code",
   "execution_count": 81,
   "id": "dd47f819",
   "metadata": {},
   "outputs": [
    {
     "data": {
      "text/html": [
       "<div>\n",
       "<style scoped>\n",
       "    .dataframe tbody tr th:only-of-type {\n",
       "        vertical-align: middle;\n",
       "    }\n",
       "\n",
       "    .dataframe tbody tr th {\n",
       "        vertical-align: top;\n",
       "    }\n",
       "\n",
       "    .dataframe thead th {\n",
       "        text-align: right;\n",
       "    }\n",
       "</style>\n",
       "<table border=\"1\" class=\"dataframe\">\n",
       "  <thead>\n",
       "    <tr style=\"text-align: right;\">\n",
       "      <th></th>\n",
       "      <th>actual</th>\n",
       "      <th>predicted</th>\n",
       "    </tr>\n",
       "  </thead>\n",
       "  <tbody>\n",
       "    <tr>\n",
       "      <th>0</th>\n",
       "      <td>185.059998</td>\n",
       "      <td>179.823563</td>\n",
       "    </tr>\n",
       "    <tr>\n",
       "      <th>1</th>\n",
       "      <td>123.150002</td>\n",
       "      <td>148.716461</td>\n",
       "    </tr>\n",
       "    <tr>\n",
       "      <th>2</th>\n",
       "      <td>202.070007</td>\n",
       "      <td>181.790756</td>\n",
       "    </tr>\n",
       "  </tbody>\n",
       "</table>\n",
       "</div>"
      ],
      "text/plain": [
       "       actual   predicted\n",
       "0  185.059998  179.823563\n",
       "1  123.150002  148.716461\n",
       "2  202.070007  181.790756"
      ]
     },
     "execution_count": 81,
     "metadata": {},
     "output_type": "execute_result"
    }
   ],
   "source": [
    "comparison"
   ]
  },
  {
   "cell_type": "code",
   "execution_count": 82,
   "id": "e9643551",
   "metadata": {},
   "outputs": [
    {
     "data": {
      "text/plain": [
       "364.10403417510116"
      ]
     },
     "execution_count": 82,
     "metadata": {},
     "output_type": "execute_result"
    }
   ],
   "source": [
    "mean_squared_error(comparison['actual'], comparison['predicted'])"
   ]
  },
  {
   "cell_type": "code",
   "execution_count": 83,
   "id": "b5a5606f",
   "metadata": {},
   "outputs": [
    {
     "data": {
      "image/png": "[encoded data removed]",
      "text/plain": [
       "<Figure size 640x480 with 1 Axes>"
      ]
     },
     "metadata": {},
     "output_type": "display_data"
    }
   ],
   "source": [
    "plt.plot(comparison['actual'], label = 'actual')\n",
    "plt.plot(comparison['predicted'], label = 'predicted')\n",
    "\n",
    "plt.legend()\n",
    "\n",
    "plt.show()"
   ]
  },
  {
   "cell_type": "markdown",
   "id": "10314f64",
   "metadata": {},
   "source": [
    "### Conv1D"
   ]
  },
  {
   "cell_type": "code",
   "execution_count": 84,
   "id": "b8bf6211",
   "metadata": {},
   "outputs": [],
   "source": [
    "model = keras.models.Sequential([\n",
    "    keras.layers.Conv1D(filters=20, kernel_size=3, strides=1, padding=\"valid\", input_shape=[9, 1]),\n",
    "    keras.layers.GRU(32, activation='relu', return_sequences=True),\n",
    "    keras.layers.GRU(32, activation='relu', return_sequences=False),\n",
    "    keras.layers.Dense(1, activation=None)\n",
    "])"
   ]
  },
  {
   "cell_type": "code",
   "execution_count": 85,
   "id": "afbbd800",
   "metadata": {},
   "outputs": [
    {
     "name": "stdout",
     "output_type": "stream",
     "text": [
      "Epoch 1/30\n",
      "1/1 [==============================] - 3s 3s/step - loss: 0.7298\n",
      "Epoch 2/30\n",
      "1/1 [==============================] - 0s 9ms/step - loss: 0.6967\n",
      "Epoch 3/30\n",
      "1/1 [==============================] - 0s 11ms/step - loss: 0.6667\n",
      "Epoch 4/30\n",
      "1/1 [==============================] - 0s 13ms/step - loss: 0.6398\n",
      "Epoch 5/30\n",
      "1/1 [==============================] - 0s 13ms/step - loss: 0.6161\n",
      "Epoch 6/30\n",
      "1/1 [==============================] - 0s 17ms/step - loss: 0.5934\n",
      "Epoch 7/30\n",
      "1/1 [==============================] - 0s 16ms/step - loss: 0.5703\n",
      "Epoch 8/30\n",
      "1/1 [==============================] - 0s 13ms/step - loss: 0.5469\n",
      "Epoch 9/30\n",
      "1/1 [==============================] - 0s 18ms/step - loss: 0.5230\n",
      "Epoch 10/30\n",
      "1/1 [==============================] - 0s 15ms/step - loss: 0.4990\n",
      "Epoch 11/30\n",
      "1/1 [==============================] - 0s 22ms/step - loss: 0.4746\n",
      "Epoch 12/30\n",
      "1/1 [==============================] - 0s 17ms/step - loss: 0.4498\n",
      "Epoch 13/30\n",
      "1/1 [==============================] - 0s 14ms/step - loss: 0.4247\n",
      "Epoch 14/30\n",
      "1/1 [==============================] - 0s 16ms/step - loss: 0.3993\n",
      "Epoch 15/30\n",
      "1/1 [==============================] - 0s 23ms/step - loss: 0.3736\n",
      "Epoch 16/30\n",
      "1/1 [==============================] - 0s 29ms/step - loss: 0.3481\n",
      "Epoch 17/30\n",
      "1/1 [==============================] - 0s 16ms/step - loss: 0.3230\n",
      "Epoch 18/30\n",
      "1/1 [==============================] - 0s 15ms/step - loss: 0.2983\n",
      "Epoch 19/30\n",
      "1/1 [==============================] - 0s 15ms/step - loss: 0.2742\n",
      "Epoch 20/30\n",
      "1/1 [==============================] - 0s 16ms/step - loss: 0.2509\n",
      "Epoch 21/30\n",
      "1/1 [==============================] - 0s 20ms/step - loss: 0.2287\n",
      "Epoch 22/30\n",
      "1/1 [==============================] - 0s 15ms/step - loss: 0.2079\n",
      "Epoch 23/30\n",
      "1/1 [==============================] - 0s 19ms/step - loss: 0.1889\n",
      "Epoch 24/30\n",
      "1/1 [==============================] - 0s 15ms/step - loss: 0.1719\n",
      "Epoch 25/30\n",
      "1/1 [==============================] - 0s 15ms/step - loss: 0.1576\n",
      "Epoch 26/30\n",
      "1/1 [==============================] - 0s 16ms/step - loss: 0.1467\n",
      "Epoch 27/30\n",
      "1/1 [==============================] - 0s 15ms/step - loss: 0.1394\n",
      "Epoch 28/30\n",
      "1/1 [==============================] - 0s 15ms/step - loss: 0.1362\n",
      "Epoch 29/30\n",
      "1/1 [==============================] - 0s 36ms/step - loss: 0.1367\n",
      "Epoch 30/30\n",
      "1/1 [==============================] - 0s 14ms/step - loss: 0.1394\n"
     ]
    }
   ],
   "source": [
    "np.random.seed(42)\n",
    "tf.random.set_seed(42)\n",
    "\n",
    "model.compile(loss=\"mse\", optimizer='Adam')\n",
    "\n",
    "history = model.fit(train_x, train_target, epochs=30)"
   ]
  },
  {
   "cell_type": "markdown",
   "id": "4c093153",
   "metadata": {},
   "source": [
    "### Predictions"
   ]
  },
  {
   "cell_type": "code",
   "execution_count": 86,
   "id": "c3680419",
   "metadata": {},
   "outputs": [
    {
     "name": "stdout",
     "output_type": "stream",
     "text": [
      "1/1 [==============================] - 0s 281ms/step\n"
     ]
    }
   ],
   "source": [
    "#Predict:\n",
    "y_pred = model.predict(test_x)"
   ]
  },
  {
   "cell_type": "code",
   "execution_count": 87,
   "id": "b05b3df0",
   "metadata": {},
   "outputs": [],
   "source": [
    "#Remember, these are standardized values. \n",
    "\n",
    "comparison = pd.DataFrame()\n",
    "\n",
    "comparison['actual'] = scaler.inverse_transform([test_target]).flatten()\n",
    "comparison['predicted'] = scaler.inverse_transform(y_pred).flatten()"
   ]
  },
  {
   "cell_type": "code",
   "execution_count": 88,
   "id": "0c11c830",
   "metadata": {},
   "outputs": [
    {
     "data": {
      "text/html": [
       "<div>\n",
       "<style scoped>\n",
       "    .dataframe tbody tr th:only-of-type {\n",
       "        vertical-align: middle;\n",
       "    }\n",
       "\n",
       "    .dataframe tbody tr th {\n",
       "        vertical-align: top;\n",
       "    }\n",
       "\n",
       "    .dataframe thead th {\n",
       "        text-align: right;\n",
       "    }\n",
       "</style>\n",
       "<table border=\"1\" class=\"dataframe\">\n",
       "  <thead>\n",
       "    <tr style=\"text-align: right;\">\n",
       "      <th></th>\n",
       "      <th>actual</th>\n",
       "      <th>predicted</th>\n",
       "    </tr>\n",
       "  </thead>\n",
       "  <tbody>\n",
       "    <tr>\n",
       "      <th>0</th>\n",
       "      <td>185.059998</td>\n",
       "      <td>186.948044</td>\n",
       "    </tr>\n",
       "    <tr>\n",
       "      <th>1</th>\n",
       "      <td>123.150002</td>\n",
       "      <td>144.794586</td>\n",
       "    </tr>\n",
       "    <tr>\n",
       "      <th>2</th>\n",
       "      <td>202.070007</td>\n",
       "      <td>191.778061</td>\n",
       "    </tr>\n",
       "  </tbody>\n",
       "</table>\n",
       "</div>"
      ],
      "text/plain": [
       "       actual   predicted\n",
       "0  185.059998  186.948044\n",
       "1  123.150002  144.794586\n",
       "2  202.070007  191.778061"
      ]
     },
     "execution_count": 88,
     "metadata": {},
     "output_type": "execute_result"
    }
   ],
   "source": [
    "comparison"
   ]
  },
  {
   "cell_type": "code",
   "execution_count": 89,
   "id": "13a4c337",
   "metadata": {},
   "outputs": [
    {
     "data": {
      "text/plain": [
       "192.6589652275785"
      ]
     },
     "execution_count": 89,
     "metadata": {},
     "output_type": "execute_result"
    }
   ],
   "source": [
    "mean_squared_error(comparison['actual'], comparison['predicted'])"
   ]
  },
  {
   "cell_type": "markdown",
   "id": "a2650709",
   "metadata": {},
   "source": [
    "### In this case Simple RNN  performed better than other models with less rmse value"
   ]
  },
  {
   "attachments": {},
   "cell_type": "markdown",
   "id": "7582dedb",
   "metadata": {},
   "source": [
    "* Normal NN\t                671.8714251\n",
    "* Simple RNN\t            104.9417702\n",
    "* Simple RNN-More layers\t236.5323199\n",
    "* LTSM with 1 layer\t        670.509318\n",
    "* LTSM with more layers\t    520.2623139\n",
    "* GRU with more layers\t    364.1040342\n",
    "* Conv1D\t                192.6589652\n"
   ]
  },
  {
   "attachments": {},
   "cell_type": "markdown",
   "id": "9bfddc6a",
   "metadata": {},
   "source": [
    "The following may be inferred from the study above.\n",
    "\n",
    "-> The best RMSE value in the group is 104.9417702 for Simple RNN.\n",
    "\n",
    "-> RNNs with a single layer have outperformed RNNs with many layers.\n",
    "\n",
    "-> The RMSE of the LSTM model with a single layer is 670.509318, and when more layers are added, the RMSE decreases to 520.2623139. This shows that the LSTM handled the provided data successfully while using many layers.\n",
    "\n",
    "-> The RMSE values for normal NN are much higher, at 671.8714251.\n",
    "\n",
    "\n"
   ]
  },
  {
   "cell_type": "markdown",
   "id": "4416703f",
   "metadata": {},
   "source": []
  }
 ],
 "metadata": {
  "kernelspec": {
   "display_name": "Python 3 (ipykernel)",
   "language": "python",
   "name": "python3"
  },
  "language_info": {
   "codemirror_mode": {
    "name": "ipython",
    "version": 3
   },
   "file_extension": ".py",
   "mimetype": "text/x-python",
   "name": "python",
   "nbconvert_exporter": "python",
   "pygments_lexer": "ipython3",
   "version": "3.9.16"
  }
 },
 "nbformat": 4,
 "nbformat_minor": 5
}
