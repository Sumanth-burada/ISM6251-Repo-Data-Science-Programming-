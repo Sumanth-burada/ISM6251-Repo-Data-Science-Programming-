{
 "cells": [
  {
   "cell_type": "markdown",
   "id": "664ead62-ffb7-4f14-b334-805cf7058211",
   "metadata": {},
   "source": [
    "# AirBNB Data Preparation (Target = price_gte_150)\n",
    "\n",
    "In this notebook we focus on the data loading, basic exploring, and prepatation.\n",
    "\n",
    "This notebook follows closely the previous data cleaning toturial from last week. We will be using the same input dataset and producing the same output with one small change - instead of the target being the continuous variable price, we will select the target price_category - and we will be using a logistic regression model instead of a linear regression model to identify where price_gte_150 is true.\n"
   ]
  },
  {
   "cell_type": "markdown",
   "id": "63a60607-056a-49d4-95ea-b5cac6a2eb8b",
   "metadata": {},
   "source": [
    "## 1.0 Setup\n"
   ]
  },
  {
   "cell_type": "code",
   "execution_count": 15,
   "id": "bb4cfecf-f3d8-4c88-8cd6-7df3b4309f73",
   "metadata": {},
   "outputs": [],
   "source": [
    "# import numpy and pandas libraries\n",
    "import numpy as np\n",
    "import pandas as pd\n",
    "from sklearn.preprocessing import LabelEncoder\n",
    "from sklearn.model_selection import train_test_split\n",
    "from sklearn import preprocessing\n",
    "from sklearn.impute import SimpleImputer\n",
    "# set random seed to ensure that results are repeatable\n",
    "np.random.seed(1)"
   ]
  },
  {
   "cell_type": "markdown",
   "id": "9604d2de-d716-430e-83d0-636c607428b5",
   "metadata": {},
   "source": [
    "## 2.0 Load data "
   ]
  },
  {
   "cell_type": "code",
   "execution_count": 16,
   "id": "50ef1025-b7c9-49b1-95be-065a5d5fcd0f",
   "metadata": {},
   "outputs": [
    {
     "data": {
      "text/html": [
       "<div>\n",
       "<style scoped>\n",
       "    .dataframe tbody tr th:only-of-type {\n",
       "        vertical-align: middle;\n",
       "    }\n",
       "\n",
       "    .dataframe tbody tr th {\n",
       "        vertical-align: top;\n",
       "    }\n",
       "\n",
       "    .dataframe thead th {\n",
       "        text-align: right;\n",
       "    }\n",
       "</style>\n",
       "<table border=\"1\" class=\"dataframe\">\n",
       "  <thead>\n",
       "    <tr style=\"text-align: right;\">\n",
       "      <th></th>\n",
       "      <th>host_is_superhost</th>\n",
       "      <th>host_identity_verified</th>\n",
       "      <th>neighbourhood_cleansed</th>\n",
       "      <th>latitude</th>\n",
       "      <th>longitude</th>\n",
       "      <th>property_type</th>\n",
       "      <th>room_type</th>\n",
       "      <th>accommodates</th>\n",
       "      <th>bathrooms</th>\n",
       "      <th>bedrooms</th>\n",
       "      <th>...</th>\n",
       "      <th>guests_included</th>\n",
       "      <th>price_per_extra_person</th>\n",
       "      <th>minimum_nights</th>\n",
       "      <th>number_of_reviews</th>\n",
       "      <th>number_days_btw_first_last_review</th>\n",
       "      <th>review_scores_rating</th>\n",
       "      <th>cancellation_policy</th>\n",
       "      <th>price</th>\n",
       "      <th>price_gte_150</th>\n",
       "      <th>price_category</th>\n",
       "    </tr>\n",
       "  </thead>\n",
       "  <tbody>\n",
       "    <tr>\n",
       "      <th>0</th>\n",
       "      <td>0</td>\n",
       "      <td>0</td>\n",
       "      <td>Roslindale</td>\n",
       "      <td>42.282619</td>\n",
       "      <td>-71.133068</td>\n",
       "      <td>House</td>\n",
       "      <td>Entire home/apt</td>\n",
       "      <td>4</td>\n",
       "      <td>1.5</td>\n",
       "      <td>2.0</td>\n",
       "      <td>...</td>\n",
       "      <td>1</td>\n",
       "      <td>0</td>\n",
       "      <td>2</td>\n",
       "      <td>0</td>\n",
       "      <td>0</td>\n",
       "      <td>NaN</td>\n",
       "      <td>moderate</td>\n",
       "      <td>250</td>\n",
       "      <td>1</td>\n",
       "      <td>gte_226</td>\n",
       "    </tr>\n",
       "    <tr>\n",
       "      <th>1</th>\n",
       "      <td>0</td>\n",
       "      <td>1</td>\n",
       "      <td>Roslindale</td>\n",
       "      <td>42.286241</td>\n",
       "      <td>-71.134374</td>\n",
       "      <td>Apartment</td>\n",
       "      <td>Private room</td>\n",
       "      <td>2</td>\n",
       "      <td>1.0</td>\n",
       "      <td>1.0</td>\n",
       "      <td>...</td>\n",
       "      <td>0</td>\n",
       "      <td>0</td>\n",
       "      <td>2</td>\n",
       "      <td>36</td>\n",
       "      <td>804</td>\n",
       "      <td>94.0</td>\n",
       "      <td>moderate</td>\n",
       "      <td>65</td>\n",
       "      <td>0</td>\n",
       "      <td>lte_$75</td>\n",
       "    </tr>\n",
       "    <tr>\n",
       "      <th>2</th>\n",
       "      <td>1</td>\n",
       "      <td>1</td>\n",
       "      <td>Roslindale</td>\n",
       "      <td>42.292438</td>\n",
       "      <td>-71.135765</td>\n",
       "      <td>Apartment</td>\n",
       "      <td>Private room</td>\n",
       "      <td>2</td>\n",
       "      <td>1.0</td>\n",
       "      <td>1.0</td>\n",
       "      <td>...</td>\n",
       "      <td>1</td>\n",
       "      <td>20</td>\n",
       "      <td>3</td>\n",
       "      <td>41</td>\n",
       "      <td>2574</td>\n",
       "      <td>98.0</td>\n",
       "      <td>moderate</td>\n",
       "      <td>65</td>\n",
       "      <td>0</td>\n",
       "      <td>lte_$75</td>\n",
       "    </tr>\n",
       "  </tbody>\n",
       "</table>\n",
       "<p>3 rows × 23 columns</p>\n",
       "</div>"
      ],
      "text/plain": [
       "   host_is_superhost  host_identity_verified neighbourhood_cleansed  \\\n",
       "0                  0                       0             Roslindale   \n",
       "1                  0                       1             Roslindale   \n",
       "2                  1                       1             Roslindale   \n",
       "\n",
       "    latitude  longitude property_type        room_type  accommodates  \\\n",
       "0  42.282619 -71.133068         House  Entire home/apt             4   \n",
       "1  42.286241 -71.134374     Apartment     Private room             2   \n",
       "2  42.292438 -71.135765     Apartment     Private room             2   \n",
       "\n",
       "   bathrooms  bedrooms  ...  guests_included price_per_extra_person  \\\n",
       "0        1.5       2.0  ...                1                      0   \n",
       "1        1.0       1.0  ...                0                      0   \n",
       "2        1.0       1.0  ...                1                     20   \n",
       "\n",
       "   minimum_nights  number_of_reviews  number_days_btw_first_last_review  \\\n",
       "0               2                  0                                  0   \n",
       "1               2                 36                                804   \n",
       "2               3                 41                               2574   \n",
       "\n",
       "   review_scores_rating  cancellation_policy  price  price_gte_150  \\\n",
       "0                   NaN             moderate    250              1   \n",
       "1                  94.0             moderate     65              0   \n",
       "2                  98.0             moderate     65              0   \n",
       "\n",
       "  price_category  \n",
       "0        gte_226  \n",
       "1        lte_$75  \n",
       "2        lte_$75  \n",
       "\n",
       "[3 rows x 23 columns]"
      ]
     },
     "execution_count": 16,
     "metadata": {},
     "output_type": "execute_result"
    }
   ],
   "source": [
    "# load data\n",
    "airbnb = pd.read_csv(\"C:/Users/suman/DspData/data/airbnb.csv\")\n",
    "\n",
    "airbnb.head(3)"
   ]
  },
  {
   "cell_type": "markdown",
   "id": "028111f0-bded-4b5d-a991-797e71b83071",
   "metadata": {},
   "source": [
    "## 3.0 Conduct initial exploration of the data"
   ]
  },
  {
   "cell_type": "markdown",
   "id": "64588d20-9963-44ee-8dc5-4d0ef9c22e39",
   "metadata": {},
   "source": [
    "We have a number of input variables and one target variable. For this analysis, the target variable is price.\n",
    "\n",
    "First, our initial exploration of the data should answer the following questions:\n",
    "1. How many rows and columns\n",
    "2. How much of a problem do we have with na's?\n",
    "3. What types of data are there?\n",
    "4. What types of data are stored in columns\n",
    "    1. identify which variables are numeric and may need to be standardized later\n",
    "    2. identify which variables are categorical and may need to be transformed using and encoders such as one-hot-encoder.\n",
    "5. Identify errors in the data - this is a common problem with categorical vars where the category is mispelled or spelled differently in some instances.\n",
    " "
   ]
  },
  {
   "cell_type": "code",
   "execution_count": 17,
   "id": "01263410-4ad7-430c-914a-651a11cd683b",
   "metadata": {},
   "outputs": [
    {
     "data": {
      "text/html": [
       "<div>\n",
       "<style scoped>\n",
       "    .dataframe tbody tr th:only-of-type {\n",
       "        vertical-align: middle;\n",
       "    }\n",
       "\n",
       "    .dataframe tbody tr th {\n",
       "        vertical-align: top;\n",
       "    }\n",
       "\n",
       "    .dataframe thead th {\n",
       "        text-align: right;\n",
       "    }\n",
       "</style>\n",
       "<table border=\"1\" class=\"dataframe\">\n",
       "  <thead>\n",
       "    <tr style=\"text-align: right;\">\n",
       "      <th></th>\n",
       "      <th>host_is_superhost</th>\n",
       "      <th>host_identity_verified</th>\n",
       "      <th>neighbourhood_cleansed</th>\n",
       "      <th>latitude</th>\n",
       "      <th>longitude</th>\n",
       "      <th>property_type</th>\n",
       "      <th>room_type</th>\n",
       "      <th>accommodates</th>\n",
       "      <th>bathrooms</th>\n",
       "      <th>bedrooms</th>\n",
       "      <th>...</th>\n",
       "      <th>guests_included</th>\n",
       "      <th>price_per_extra_person</th>\n",
       "      <th>minimum_nights</th>\n",
       "      <th>number_of_reviews</th>\n",
       "      <th>number_days_btw_first_last_review</th>\n",
       "      <th>review_scores_rating</th>\n",
       "      <th>cancellation_policy</th>\n",
       "      <th>price</th>\n",
       "      <th>price_gte_150</th>\n",
       "      <th>price_category</th>\n",
       "    </tr>\n",
       "  </thead>\n",
       "  <tbody>\n",
       "    <tr>\n",
       "      <th>0</th>\n",
       "      <td>0</td>\n",
       "      <td>0</td>\n",
       "      <td>Roslindale</td>\n",
       "      <td>42.282619</td>\n",
       "      <td>-71.133068</td>\n",
       "      <td>House</td>\n",
       "      <td>Entire home/apt</td>\n",
       "      <td>4</td>\n",
       "      <td>1.5</td>\n",
       "      <td>2.0</td>\n",
       "      <td>...</td>\n",
       "      <td>1</td>\n",
       "      <td>0</td>\n",
       "      <td>2</td>\n",
       "      <td>0</td>\n",
       "      <td>0</td>\n",
       "      <td>NaN</td>\n",
       "      <td>moderate</td>\n",
       "      <td>250</td>\n",
       "      <td>1</td>\n",
       "      <td>gte_226</td>\n",
       "    </tr>\n",
       "    <tr>\n",
       "      <th>1</th>\n",
       "      <td>0</td>\n",
       "      <td>1</td>\n",
       "      <td>Roslindale</td>\n",
       "      <td>42.286241</td>\n",
       "      <td>-71.134374</td>\n",
       "      <td>Apartment</td>\n",
       "      <td>Private room</td>\n",
       "      <td>2</td>\n",
       "      <td>1.0</td>\n",
       "      <td>1.0</td>\n",
       "      <td>...</td>\n",
       "      <td>0</td>\n",
       "      <td>0</td>\n",
       "      <td>2</td>\n",
       "      <td>36</td>\n",
       "      <td>804</td>\n",
       "      <td>94.0</td>\n",
       "      <td>moderate</td>\n",
       "      <td>65</td>\n",
       "      <td>0</td>\n",
       "      <td>lte_$75</td>\n",
       "    </tr>\n",
       "    <tr>\n",
       "      <th>2</th>\n",
       "      <td>1</td>\n",
       "      <td>1</td>\n",
       "      <td>Roslindale</td>\n",
       "      <td>42.292438</td>\n",
       "      <td>-71.135765</td>\n",
       "      <td>Apartment</td>\n",
       "      <td>Private room</td>\n",
       "      <td>2</td>\n",
       "      <td>1.0</td>\n",
       "      <td>1.0</td>\n",
       "      <td>...</td>\n",
       "      <td>1</td>\n",
       "      <td>20</td>\n",
       "      <td>3</td>\n",
       "      <td>41</td>\n",
       "      <td>2574</td>\n",
       "      <td>98.0</td>\n",
       "      <td>moderate</td>\n",
       "      <td>65</td>\n",
       "      <td>0</td>\n",
       "      <td>lte_$75</td>\n",
       "    </tr>\n",
       "  </tbody>\n",
       "</table>\n",
       "<p>3 rows × 23 columns</p>\n",
       "</div>"
      ],
      "text/plain": [
       "   host_is_superhost  host_identity_verified neighbourhood_cleansed  \\\n",
       "0                  0                       0             Roslindale   \n",
       "1                  0                       1             Roslindale   \n",
       "2                  1                       1             Roslindale   \n",
       "\n",
       "    latitude  longitude property_type        room_type  accommodates  \\\n",
       "0  42.282619 -71.133068         House  Entire home/apt             4   \n",
       "1  42.286241 -71.134374     Apartment     Private room             2   \n",
       "2  42.292438 -71.135765     Apartment     Private room             2   \n",
       "\n",
       "   bathrooms  bedrooms  ...  guests_included price_per_extra_person  \\\n",
       "0        1.5       2.0  ...                1                      0   \n",
       "1        1.0       1.0  ...                0                      0   \n",
       "2        1.0       1.0  ...                1                     20   \n",
       "\n",
       "   minimum_nights  number_of_reviews  number_days_btw_first_last_review  \\\n",
       "0               2                  0                                  0   \n",
       "1               2                 36                                804   \n",
       "2               3                 41                               2574   \n",
       "\n",
       "   review_scores_rating  cancellation_policy  price  price_gte_150  \\\n",
       "0                   NaN             moderate    250              1   \n",
       "1                  94.0             moderate     65              0   \n",
       "2                  98.0             moderate     65              0   \n",
       "\n",
       "  price_category  \n",
       "0        gte_226  \n",
       "1        lte_$75  \n",
       "2        lte_$75  \n",
       "\n",
       "[3 rows x 23 columns]"
      ]
     },
     "execution_count": 17,
     "metadata": {},
     "output_type": "execute_result"
    }
   ],
   "source": [
    "# look at the data\n",
    "airbnb.head(3) # note that we don't want to dump all the data to the screen"
   ]
  },
  {
   "cell_type": "code",
   "execution_count": 18,
   "id": "c059083d-9a87-48f7-8906-c6dd698b84c5",
   "metadata": {},
   "outputs": [
    {
     "name": "stdout",
     "output_type": "stream",
     "text": [
      "<class 'pandas.core.frame.DataFrame'>\n",
      "RangeIndex: 3555 entries, 0 to 3554\n",
      "Data columns (total 23 columns):\n",
      " #   Column                             Non-Null Count  Dtype  \n",
      "---  ------                             --------------  -----  \n",
      " 0   host_is_superhost                  3555 non-null   int64  \n",
      " 1   host_identity_verified             3555 non-null   int64  \n",
      " 2   neighbourhood_cleansed             3555 non-null   object \n",
      " 3   latitude                           3555 non-null   float64\n",
      " 4   longitude                          3555 non-null   float64\n",
      " 5   property_type                      3552 non-null   object \n",
      " 6   room_type                          3555 non-null   object \n",
      " 7   accommodates                       3555 non-null   int64  \n",
      " 8   bathrooms                          3541 non-null   float64\n",
      " 9   bedrooms                           3545 non-null   float64\n",
      " 10  beds                               3546 non-null   float64\n",
      " 11  bed_type                           3555 non-null   object \n",
      " 12  Number of amenities                3555 non-null   int64  \n",
      " 13  guests_included                    3555 non-null   int64  \n",
      " 14  price_per_extra_person             3555 non-null   int64  \n",
      " 15  minimum_nights                     3555 non-null   int64  \n",
      " 16  number_of_reviews                  3555 non-null   int64  \n",
      " 17  number_days_btw_first_last_review  3555 non-null   int64  \n",
      " 18  review_scores_rating               2755 non-null   float64\n",
      " 19  cancellation_policy                3555 non-null   object \n",
      " 20  price                              3555 non-null   int64  \n",
      " 21  price_gte_150                      3555 non-null   int64  \n",
      " 22  price_category                     3555 non-null   object \n",
      "dtypes: float64(6), int64(11), object(6)\n",
      "memory usage: 638.9+ KB\n"
     ]
    }
   ],
   "source": [
    "# generate a basic summary of the data\n",
    "airbnb.info()"
   ]
  },
  {
   "cell_type": "code",
   "execution_count": 19,
   "id": "62674cd9-8a59-4c20-b3c9-479d7e8530d4",
   "metadata": {},
   "outputs": [
    {
     "data": {
      "text/html": [
       "<div>\n",
       "<style scoped>\n",
       "    .dataframe tbody tr th:only-of-type {\n",
       "        vertical-align: middle;\n",
       "    }\n",
       "\n",
       "    .dataframe tbody tr th {\n",
       "        vertical-align: top;\n",
       "    }\n",
       "\n",
       "    .dataframe thead th {\n",
       "        text-align: right;\n",
       "    }\n",
       "</style>\n",
       "<table border=\"1\" class=\"dataframe\">\n",
       "  <thead>\n",
       "    <tr style=\"text-align: right;\">\n",
       "      <th></th>\n",
       "      <th>host_is_superhost</th>\n",
       "      <th>host_identity_verified</th>\n",
       "      <th>latitude</th>\n",
       "      <th>longitude</th>\n",
       "      <th>accommodates</th>\n",
       "      <th>bathrooms</th>\n",
       "      <th>bedrooms</th>\n",
       "      <th>beds</th>\n",
       "      <th>Number of amenities</th>\n",
       "      <th>guests_included</th>\n",
       "      <th>price_per_extra_person</th>\n",
       "      <th>minimum_nights</th>\n",
       "      <th>number_of_reviews</th>\n",
       "      <th>number_days_btw_first_last_review</th>\n",
       "      <th>review_scores_rating</th>\n",
       "      <th>price</th>\n",
       "      <th>price_gte_150</th>\n",
       "    </tr>\n",
       "  </thead>\n",
       "  <tbody>\n",
       "    <tr>\n",
       "      <th>count</th>\n",
       "      <td>3555.000000</td>\n",
       "      <td>3555.000000</td>\n",
       "      <td>3555.000000</td>\n",
       "      <td>3555.000000</td>\n",
       "      <td>3555.000000</td>\n",
       "      <td>3541.000000</td>\n",
       "      <td>3545.000000</td>\n",
       "      <td>3546.000000</td>\n",
       "      <td>3555.00000</td>\n",
       "      <td>3555.000000</td>\n",
       "      <td>3555.000000</td>\n",
       "      <td>3555.000000</td>\n",
       "      <td>3555.000000</td>\n",
       "      <td>3555.000000</td>\n",
       "      <td>2755.000000</td>\n",
       "      <td>3555.000000</td>\n",
       "      <td>3555.000000</td>\n",
       "    </tr>\n",
       "    <tr>\n",
       "      <th>mean</th>\n",
       "      <td>0.113080</td>\n",
       "      <td>0.727989</td>\n",
       "      <td>42.339973</td>\n",
       "      <td>-71.084874</td>\n",
       "      <td>3.023629</td>\n",
       "      <td>1.215899</td>\n",
       "      <td>1.246544</td>\n",
       "      <td>1.597293</td>\n",
       "      <td>14.85879</td>\n",
       "      <td>1.427004</td>\n",
       "      <td>10.886639</td>\n",
       "      <td>3.116737</td>\n",
       "      <td>19.126582</td>\n",
       "      <td>279.052602</td>\n",
       "      <td>91.891470</td>\n",
       "      <td>166.060478</td>\n",
       "      <td>0.500422</td>\n",
       "    </tr>\n",
       "    <tr>\n",
       "      <th>std</th>\n",
       "      <td>0.316735</td>\n",
       "      <td>0.445058</td>\n",
       "      <td>0.024464</td>\n",
       "      <td>0.031614</td>\n",
       "      <td>1.754808</td>\n",
       "      <td>0.492656</td>\n",
       "      <td>0.738440</td>\n",
       "      <td>0.995467</td>\n",
       "      <td>4.82126</td>\n",
       "      <td>1.050204</td>\n",
       "      <td>19.092755</td>\n",
       "      <td>8.273949</td>\n",
       "      <td>35.666178</td>\n",
       "      <td>408.686952</td>\n",
       "      <td>9.548381</td>\n",
       "      <td>103.378456</td>\n",
       "      <td>0.500070</td>\n",
       "    </tr>\n",
       "    <tr>\n",
       "      <th>min</th>\n",
       "      <td>0.000000</td>\n",
       "      <td>0.000000</td>\n",
       "      <td>42.235942</td>\n",
       "      <td>-71.171789</td>\n",
       "      <td>1.000000</td>\n",
       "      <td>0.000000</td>\n",
       "      <td>0.000000</td>\n",
       "      <td>0.000000</td>\n",
       "      <td>0.00000</td>\n",
       "      <td>0.000000</td>\n",
       "      <td>0.000000</td>\n",
       "      <td>1.000000</td>\n",
       "      <td>0.000000</td>\n",
       "      <td>0.000000</td>\n",
       "      <td>20.000000</td>\n",
       "      <td>10.000000</td>\n",
       "      <td>0.000000</td>\n",
       "    </tr>\n",
       "    <tr>\n",
       "      <th>25%</th>\n",
       "      <td>0.000000</td>\n",
       "      <td>0.000000</td>\n",
       "      <td>42.329875</td>\n",
       "      <td>-71.105183</td>\n",
       "      <td>2.000000</td>\n",
       "      <td>1.000000</td>\n",
       "      <td>1.000000</td>\n",
       "      <td>1.000000</td>\n",
       "      <td>12.00000</td>\n",
       "      <td>1.000000</td>\n",
       "      <td>0.000000</td>\n",
       "      <td>1.000000</td>\n",
       "      <td>1.000000</td>\n",
       "      <td>0.000000</td>\n",
       "      <td>89.000000</td>\n",
       "      <td>85.000000</td>\n",
       "      <td>0.000000</td>\n",
       "    </tr>\n",
       "    <tr>\n",
       "      <th>50%</th>\n",
       "      <td>0.000000</td>\n",
       "      <td>1.000000</td>\n",
       "      <td>42.345191</td>\n",
       "      <td>-71.078487</td>\n",
       "      <td>2.000000</td>\n",
       "      <td>1.000000</td>\n",
       "      <td>1.000000</td>\n",
       "      <td>1.000000</td>\n",
       "      <td>15.00000</td>\n",
       "      <td>1.000000</td>\n",
       "      <td>0.000000</td>\n",
       "      <td>2.000000</td>\n",
       "      <td>5.000000</td>\n",
       "      <td>92.000000</td>\n",
       "      <td>94.000000</td>\n",
       "      <td>150.000000</td>\n",
       "      <td>1.000000</td>\n",
       "    </tr>\n",
       "    <tr>\n",
       "      <th>75%</th>\n",
       "      <td>0.000000</td>\n",
       "      <td>1.000000</td>\n",
       "      <td>42.354672</td>\n",
       "      <td>-71.062142</td>\n",
       "      <td>4.000000</td>\n",
       "      <td>1.000000</td>\n",
       "      <td>2.000000</td>\n",
       "      <td>2.000000</td>\n",
       "      <td>18.00000</td>\n",
       "      <td>1.000000</td>\n",
       "      <td>20.000000</td>\n",
       "      <td>3.000000</td>\n",
       "      <td>21.000000</td>\n",
       "      <td>402.000000</td>\n",
       "      <td>98.000000</td>\n",
       "      <td>219.000000</td>\n",
       "      <td>1.000000</td>\n",
       "    </tr>\n",
       "    <tr>\n",
       "      <th>max</th>\n",
       "      <td>1.000000</td>\n",
       "      <td>1.000000</td>\n",
       "      <td>42.389982</td>\n",
       "      <td>-71.000100</td>\n",
       "      <td>16.000000</td>\n",
       "      <td>6.000000</td>\n",
       "      <td>5.000000</td>\n",
       "      <td>16.000000</td>\n",
       "      <td>30.00000</td>\n",
       "      <td>14.000000</td>\n",
       "      <td>200.000000</td>\n",
       "      <td>300.000000</td>\n",
       "      <td>404.000000</td>\n",
       "      <td>2680.000000</td>\n",
       "      <td>100.000000</td>\n",
       "      <td>650.000000</td>\n",
       "      <td>1.000000</td>\n",
       "    </tr>\n",
       "  </tbody>\n",
       "</table>\n",
       "</div>"
      ],
      "text/plain": [
       "       host_is_superhost  host_identity_verified     latitude    longitude  \\\n",
       "count        3555.000000             3555.000000  3555.000000  3555.000000   \n",
       "mean            0.113080                0.727989    42.339973   -71.084874   \n",
       "std             0.316735                0.445058     0.024464     0.031614   \n",
       "min             0.000000                0.000000    42.235942   -71.171789   \n",
       "25%             0.000000                0.000000    42.329875   -71.105183   \n",
       "50%             0.000000                1.000000    42.345191   -71.078487   \n",
       "75%             0.000000                1.000000    42.354672   -71.062142   \n",
       "max             1.000000                1.000000    42.389982   -71.000100   \n",
       "\n",
       "       accommodates    bathrooms     bedrooms         beds  \\\n",
       "count   3555.000000  3541.000000  3545.000000  3546.000000   \n",
       "mean       3.023629     1.215899     1.246544     1.597293   \n",
       "std        1.754808     0.492656     0.738440     0.995467   \n",
       "min        1.000000     0.000000     0.000000     0.000000   \n",
       "25%        2.000000     1.000000     1.000000     1.000000   \n",
       "50%        2.000000     1.000000     1.000000     1.000000   \n",
       "75%        4.000000     1.000000     2.000000     2.000000   \n",
       "max       16.000000     6.000000     5.000000    16.000000   \n",
       "\n",
       "       Number of amenities  guests_included  price_per_extra_person  \\\n",
       "count           3555.00000      3555.000000             3555.000000   \n",
       "mean              14.85879         1.427004               10.886639   \n",
       "std                4.82126         1.050204               19.092755   \n",
       "min                0.00000         0.000000                0.000000   \n",
       "25%               12.00000         1.000000                0.000000   \n",
       "50%               15.00000         1.000000                0.000000   \n",
       "75%               18.00000         1.000000               20.000000   \n",
       "max               30.00000        14.000000              200.000000   \n",
       "\n",
       "       minimum_nights  number_of_reviews  number_days_btw_first_last_review  \\\n",
       "count     3555.000000        3555.000000                        3555.000000   \n",
       "mean         3.116737          19.126582                         279.052602   \n",
       "std          8.273949          35.666178                         408.686952   \n",
       "min          1.000000           0.000000                           0.000000   \n",
       "25%          1.000000           1.000000                           0.000000   \n",
       "50%          2.000000           5.000000                          92.000000   \n",
       "75%          3.000000          21.000000                         402.000000   \n",
       "max        300.000000         404.000000                        2680.000000   \n",
       "\n",
       "       review_scores_rating        price  price_gte_150  \n",
       "count           2755.000000  3555.000000    3555.000000  \n",
       "mean              91.891470   166.060478       0.500422  \n",
       "std                9.548381   103.378456       0.500070  \n",
       "min               20.000000    10.000000       0.000000  \n",
       "25%               89.000000    85.000000       0.000000  \n",
       "50%               94.000000   150.000000       1.000000  \n",
       "75%               98.000000   219.000000       1.000000  \n",
       "max              100.000000   650.000000       1.000000  "
      ]
     },
     "execution_count": 19,
     "metadata": {},
     "output_type": "execute_result"
    }
   ],
   "source": [
    "# generate a statistical summary of the numeric value in the data\n",
    "airbnb.describe()"
   ]
  },
  {
   "cell_type": "code",
   "execution_count": 20,
   "id": "279f5f88-675a-4c22-bfe3-cc420db093c8",
   "metadata": {},
   "outputs": [
    {
     "data": {
      "text/plain": [
       "host_is_superhost                      0\n",
       "host_identity_verified                 0\n",
       "neighbourhood_cleansed                 0\n",
       "latitude                               0\n",
       "longitude                              0\n",
       "property_type                          3\n",
       "room_type                              0\n",
       "accommodates                           0\n",
       "bathrooms                             14\n",
       "bedrooms                              10\n",
       "beds                                   9\n",
       "bed_type                               0\n",
       "Number of amenities                    0\n",
       "guests_included                        0\n",
       "price_per_extra_person                 0\n",
       "minimum_nights                         0\n",
       "number_of_reviews                      0\n",
       "number_days_btw_first_last_review      0\n",
       "review_scores_rating                 800\n",
       "cancellation_policy                    0\n",
       "price                                  0\n",
       "price_gte_150                          0\n",
       "price_category                         0\n",
       "dtype: int64"
      ]
     },
     "execution_count": 20,
     "metadata": {},
     "output_type": "execute_result"
    }
   ],
   "source": [
    "# Check the missing values by summing the total na's for each variable\n",
    "airbnb.isna().sum()"
   ]
  },
  {
   "cell_type": "code",
   "execution_count": 21,
   "id": "fc20cbd6-9291-43d2-81c4-1caf642cdb29",
   "metadata": {},
   "outputs": [
    {
     "data": {
      "text/plain": [
       "['neighbourhood_cleansed',\n",
       " 'property_type',\n",
       " 'room_type',\n",
       " 'bed_type',\n",
       " 'cancellation_policy',\n",
       " 'price_category']"
      ]
     },
     "execution_count": 21,
     "metadata": {},
     "output_type": "execute_result"
    }
   ],
   "source": [
    "# create a list of these catagorical variables\n",
    "category_var_list = list(airbnb.select_dtypes(include='object').columns)\n",
    "category_var_list"
   ]
  },
  {
   "cell_type": "code",
   "execution_count": 22,
   "id": "956f415f-0939-4ecf-9d55-60be1eee1682",
   "metadata": {},
   "outputs": [
    {
     "name": "stdout",
     "output_type": "stream",
     "text": [
      "Category: neighbourhood_cleansed Values: ['Roslindale' 'Jamaica Plain' 'Mission Hill' 'Longwood Medical Area'\n",
      " 'Bay Village' 'Leather District' 'Chinatown' 'North End' 'Roxbury'\n",
      " 'South End' 'Back Bay' 'East Boston' 'Charlestown' 'West End'\n",
      " 'Beacon Hill' 'Downtown' 'Fenway' 'Brighton' 'West Roxbury' 'Hyde Park'\n",
      " 'Mattapan' 'Dorchester' 'South Boston Waterfront' 'South Boston'\n",
      " 'Allston']\n",
      "Category: property_type Values: ['House' 'Apartment' 'Condominium' 'Villa' 'Bed & Breakfast' 'Townhouse'\n",
      " 'Entire Floor' 'Loft' 'Guesthouse' 'Boat' 'Dorm' 'Other' nan 'Camper/RV']\n",
      "Category: room_type Values: ['Entire home/apt' 'Private room' 'Shared room']\n",
      "Category: bed_type Values: ['Real Bed' 'Pull-out Sofa' 'Futon' 'Airbed' 'Couch']\n",
      "Category: cancellation_policy Values: ['moderate' 'flexible' 'strict' 'super_strict_30']\n",
      "Category: price_category Values: ['gte_226' 'lte_$75' 'btw_$75-$150' 'btw_$151-$225']\n"
     ]
    }
   ],
   "source": [
    "# explore the categorical variable values - often there are typos here that need to be fixed.\n",
    "for cat in category_var_list: # generally, we want to avoid for loops and use a functional style (i.e. list comprehension)\n",
    "    print(f\"Category: {cat} Values: {airbnb[cat].unique()}\")"
   ]
  },
  {
   "cell_type": "markdown",
   "id": "21ee0636-9440-4c0a-85c1-3422af0b3025",
   "metadata": {},
   "source": [
    "### Summary the findings from our initial evaluation of the data\n",
    "\n",
    "* We have 6 categorical variables\n",
    "* We have 3 variables that have missing values\n",
    "* There doesn't seem to be a problem with the catogorical class names."
   ]
  },
  {
   "cell_type": "markdown",
   "id": "32c1ce40-81eb-428e-81b3-1d9f820997fb",
   "metadata": {
    "tags": []
   },
   "source": [
    "## 4.0 Process the data\n",
    "\n",
    "* Conduct any data prepartion that should be done *BEFORE* the data split.\n",
    "* Split the data.\n",
    "* Conduct any data preparation that should be done *AFTER* the data split."
   ]
  },
  {
   "cell_type": "markdown",
   "id": "8ff8f7e0-0b6b-41f2-a8ce-01a0e9d860ed",
   "metadata": {},
   "source": [
    "### 4.1  Conduct any data prepartion that should be done *BEFORE* the data split\n",
    "\n",
    "Tasks at this stage include:\n",
    "1. Drop any columns/features \n",
    "2. Decide if you with to exclude any observations (rows) due to missing na's.\n",
    "2. Conduct proper encoding of categorical variables\n",
    "    1. You can transform them using dummy variable encoding, one-hot-encoding, or label encoding. "
   ]
  },
  {
   "cell_type": "markdown",
   "id": "ab61a427-52a7-4a99-bc0c-358ec0c85ce8",
   "metadata": {},
   "source": [
    "#### Drop any columns/variables we will not be using"
   ]
  },
  {
   "cell_type": "code",
   "execution_count": 23,
   "id": "20f90ae4-7070-4c19-b807-611ca50a3230",
   "metadata": {},
   "outputs": [],
   "source": [
    "# Our target is price; but there are three related price variableds - price, price_gte_150, \n",
    "# and price_category. We need to drop price_gte_150, and price_category\n",
    "airbnb.drop(['price', 'price_category'], axis=1, inplace = True) # keep price_gte_150 for our target"
   ]
  },
  {
   "cell_type": "markdown",
   "id": "2cf2baf8-81aa-4b27-b2ee-f18861a56bb5",
   "metadata": {},
   "source": [
    "#### Drop observations with too many NA's"
   ]
  },
  {
   "cell_type": "markdown",
   "id": "884e7f81-d603-4181-816b-3a750de111f2",
   "metadata": {
    "tags": []
   },
   "source": [
    "If we want to remove the rows with NA's use the following code that is commented out. For this exercise - we will not drop rows with NA's "
   ]
  },
  {
   "cell_type": "markdown",
   "id": "6892d818-c9b8-40ef-9735-2efc8130185f",
   "metadata": {},
   "source": [
    "#### Encode our categorical variables"
   ]
  },
  {
   "cell_type": "markdown",
   "id": "557b5404-94ea-4f82-9e64-5295aa903f3f",
   "metadata": {},
   "source": [
    "Categorical variables usually have strings for their values. Many machine learning algorithms do not support string values for the input variables. Therefore, we need to replace these string values with numbers. This process is called categorical variable encoding.\n",
    "\n",
    "In a previous step we identified 5 catagorical variables and found no indication of typos in the class names. Our focus is now on encoding the variables. \n",
    "\n",
    "We have three main approaches to encoding variables (these will be discussed in greater detail in class)\n",
    "* One-Hot-Encoding\n",
    "* Dummy Encoding\n",
    "* Label Encoding\n",
    "\n",
    "In this exercise; we will dummy encode neighbourhood_cleansed, property_type using dummy encoding, and room_type, bed_type and cancelation policy using label encoding. (we will have more discussion on these choices in class)."
   ]
  },
  {
   "cell_type": "markdown",
   "id": "d62671d5-a54e-43db-b90d-054741561894",
   "metadata": {},
   "source": [
    "Before we do our encoding, we must identify if any of our categorical variables have a missing value. We will replace any missing values with the term 'unkown'."
   ]
  },
  {
   "cell_type": "code",
   "execution_count": 24,
   "id": "c49a24b6-85f1-4916-807a-567ede658be1",
   "metadata": {},
   "outputs": [
    {
     "data": {
      "text/plain": [
       "3"
      ]
     },
     "execution_count": 24,
     "metadata": {},
     "output_type": "execute_result"
    }
   ],
   "source": [
    "airbnb['property_type'].isna().sum() # check for missing values in this variable/column - we can see there are three for this variable"
   ]
  },
  {
   "cell_type": "code",
   "execution_count": 25,
   "id": "22bc9f9e-a971-4dcc-baee-fc3c876b2d72",
   "metadata": {},
   "outputs": [],
   "source": [
    "airbnb[\"property_type\"].fillna(\"unkown\", inplace = True)"
   ]
  },
  {
   "cell_type": "code",
   "execution_count": 26,
   "id": "3a59ca9c-b9e0-4f8c-b90b-3adf63c656a7",
   "metadata": {},
   "outputs": [
    {
     "data": {
      "text/plain": [
       "0"
      ]
     },
     "execution_count": 26,
     "metadata": {},
     "output_type": "execute_result"
    }
   ],
   "source": [
    "airbnb['neighbourhood_cleansed'].isna().sum() "
   ]
  },
  {
   "cell_type": "code",
   "execution_count": 27,
   "id": "9d39726b-fdd0-4026-b36c-3ee32f309332",
   "metadata": {},
   "outputs": [
    {
     "data": {
      "text/plain": [
       "0"
      ]
     },
     "execution_count": 27,
     "metadata": {},
     "output_type": "execute_result"
    }
   ],
   "source": [
    "airbnb['room_type'].isna().sum() # can see by the results below, no missing values"
   ]
  },
  {
   "cell_type": "code",
   "execution_count": 28,
   "id": "1ce43dea-6f0f-41a2-9890-390eac2bb2d3",
   "metadata": {},
   "outputs": [
    {
     "data": {
      "text/plain": [
       "0"
      ]
     },
     "execution_count": 28,
     "metadata": {},
     "output_type": "execute_result"
    }
   ],
   "source": [
    "airbnb['bed_type'].isna().sum() # can see by the results below, no missing values"
   ]
  },
  {
   "cell_type": "code",
   "execution_count": 29,
   "id": "30fce99b-6234-4e21-9861-5aa528d4cf75",
   "metadata": {},
   "outputs": [
    {
     "data": {
      "text/plain": [
       "0"
      ]
     },
     "execution_count": 29,
     "metadata": {},
     "output_type": "execute_result"
    }
   ],
   "source": [
    "airbnb['cancellation_policy'].isna().sum() # can see by the results below, no missing values"
   ]
  },
  {
   "cell_type": "markdown",
   "id": "149bbd25-2b72-4aa1-942c-4b87f056309a",
   "metadata": {
    "tags": []
   },
   "source": [
    "Now, let's encode neighborhood_cleansed and property_type as dummy variables and room_type, bed_type and cancelation_policy labeled (numeric)"
   ]
  },
  {
   "cell_type": "code",
   "execution_count": 30,
   "id": "7f6783bd-081c-4e34-98fa-0bfa748c52bd",
   "metadata": {},
   "outputs": [],
   "source": [
    "dummies_df = pd.get_dummies(airbnb['neighbourhood_cleansed'], prefix='neighbourhood_cleansed', drop_first=True)"
   ]
  },
  {
   "cell_type": "code",
   "execution_count": 31,
   "id": "c9ba54f6-acca-4d2d-a009-f9545b66ed47",
   "metadata": {},
   "outputs": [],
   "source": [
    "airbnb = airbnb.join(dummies_df)\n",
    "airbnb.drop('neighbourhood_cleansed', axis=1, inplace = True)"
   ]
  },
  {
   "cell_type": "code",
   "execution_count": 32,
   "id": "4a7b1bb5-214f-433d-afeb-74f13afb9b1c",
   "metadata": {},
   "outputs": [],
   "source": [
    "airbnb = airbnb.join(pd.get_dummies(airbnb['property_type'], prefix='property_type', drop_first=True))\n",
    "airbnb.drop('property_type', axis=1, inplace = True)"
   ]
  },
  {
   "cell_type": "code",
   "execution_count": 33,
   "id": "2edd2fbb-8922-4f43-b0a5-07dab91b4be4",
   "metadata": {},
   "outputs": [],
   "source": [
    "labelencoder = LabelEncoder()\n",
    "airbnb['room_type'] = labelencoder.fit_transform(airbnb['room_type'])\n",
    "airbnb['bed_type'] = labelencoder.fit_transform(airbnb['bed_type'])\n",
    "airbnb['cancellation_policy'] = labelencoder.fit_transform(airbnb['cancellation_policy'])"
   ]
  },
  {
   "cell_type": "code",
   "execution_count": 34,
   "id": "d9e48dd2-7ca5-4c8b-9a4b-23c78eef4876",
   "metadata": {},
   "outputs": [
    {
     "name": "stdout",
     "output_type": "stream",
     "text": [
      "<class 'pandas.core.frame.DataFrame'>\n",
      "RangeIndex: 3555 entries, 0 to 3554\n",
      "Data columns (total 56 columns):\n",
      " #   Column                                          Non-Null Count  Dtype  \n",
      "---  ------                                          --------------  -----  \n",
      " 0   host_is_superhost                               3555 non-null   int64  \n",
      " 1   host_identity_verified                          3555 non-null   int64  \n",
      " 2   latitude                                        3555 non-null   float64\n",
      " 3   longitude                                       3555 non-null   float64\n",
      " 4   room_type                                       3555 non-null   int32  \n",
      " 5   accommodates                                    3555 non-null   int64  \n",
      " 6   bathrooms                                       3541 non-null   float64\n",
      " 7   bedrooms                                        3545 non-null   float64\n",
      " 8   beds                                            3546 non-null   float64\n",
      " 9   bed_type                                        3555 non-null   int32  \n",
      " 10  Number of amenities                             3555 non-null   int64  \n",
      " 11  guests_included                                 3555 non-null   int64  \n",
      " 12  price_per_extra_person                          3555 non-null   int64  \n",
      " 13  minimum_nights                                  3555 non-null   int64  \n",
      " 14  number_of_reviews                               3555 non-null   int64  \n",
      " 15  number_days_btw_first_last_review               3555 non-null   int64  \n",
      " 16  review_scores_rating                            2755 non-null   float64\n",
      " 17  cancellation_policy                             3555 non-null   int32  \n",
      " 18  price_gte_150                                   3555 non-null   int64  \n",
      " 19  neighbourhood_cleansed_Back Bay                 3555 non-null   uint8  \n",
      " 20  neighbourhood_cleansed_Bay Village              3555 non-null   uint8  \n",
      " 21  neighbourhood_cleansed_Beacon Hill              3555 non-null   uint8  \n",
      " 22  neighbourhood_cleansed_Brighton                 3555 non-null   uint8  \n",
      " 23  neighbourhood_cleansed_Charlestown              3555 non-null   uint8  \n",
      " 24  neighbourhood_cleansed_Chinatown                3555 non-null   uint8  \n",
      " 25  neighbourhood_cleansed_Dorchester               3555 non-null   uint8  \n",
      " 26  neighbourhood_cleansed_Downtown                 3555 non-null   uint8  \n",
      " 27  neighbourhood_cleansed_East Boston              3555 non-null   uint8  \n",
      " 28  neighbourhood_cleansed_Fenway                   3555 non-null   uint8  \n",
      " 29  neighbourhood_cleansed_Hyde Park                3555 non-null   uint8  \n",
      " 30  neighbourhood_cleansed_Jamaica Plain            3555 non-null   uint8  \n",
      " 31  neighbourhood_cleansed_Leather District         3555 non-null   uint8  \n",
      " 32  neighbourhood_cleansed_Longwood Medical Area    3555 non-null   uint8  \n",
      " 33  neighbourhood_cleansed_Mattapan                 3555 non-null   uint8  \n",
      " 34  neighbourhood_cleansed_Mission Hill             3555 non-null   uint8  \n",
      " 35  neighbourhood_cleansed_North End                3555 non-null   uint8  \n",
      " 36  neighbourhood_cleansed_Roslindale               3555 non-null   uint8  \n",
      " 37  neighbourhood_cleansed_Roxbury                  3555 non-null   uint8  \n",
      " 38  neighbourhood_cleansed_South Boston             3555 non-null   uint8  \n",
      " 39  neighbourhood_cleansed_South Boston Waterfront  3555 non-null   uint8  \n",
      " 40  neighbourhood_cleansed_South End                3555 non-null   uint8  \n",
      " 41  neighbourhood_cleansed_West End                 3555 non-null   uint8  \n",
      " 42  neighbourhood_cleansed_West Roxbury             3555 non-null   uint8  \n",
      " 43  property_type_Bed & Breakfast                   3555 non-null   uint8  \n",
      " 44  property_type_Boat                              3555 non-null   uint8  \n",
      " 45  property_type_Camper/RV                         3555 non-null   uint8  \n",
      " 46  property_type_Condominium                       3555 non-null   uint8  \n",
      " 47  property_type_Dorm                              3555 non-null   uint8  \n",
      " 48  property_type_Entire Floor                      3555 non-null   uint8  \n",
      " 49  property_type_Guesthouse                        3555 non-null   uint8  \n",
      " 50  property_type_House                             3555 non-null   uint8  \n",
      " 51  property_type_Loft                              3555 non-null   uint8  \n",
      " 52  property_type_Other                             3555 non-null   uint8  \n",
      " 53  property_type_Townhouse                         3555 non-null   uint8  \n",
      " 54  property_type_Villa                             3555 non-null   uint8  \n",
      " 55  property_type_unkown                            3555 non-null   uint8  \n",
      "dtypes: float64(6), int32(3), int64(10), uint8(37)\n",
      "memory usage: 614.6 KB\n"
     ]
    }
   ],
   "source": [
    "# explore the dataframe columns to verify encoding and dropped columns\n",
    "airbnb.info()"
   ]
  },
  {
   "cell_type": "markdown",
   "id": "440ff680-e7ea-4ef9-8315-83acb7359ea5",
   "metadata": {},
   "source": [
    "### Safe the pre-split processed data to a csv file"
   ]
  },
  {
   "cell_type": "code",
   "execution_count": 35,
   "id": "1b5898fa-c7f4-40fe-a458-f0c82be0d4e3",
   "metadata": {},
   "outputs": [],
   "source": [
    "airbnb.to_csv('airbnb_presplit_processed.csv', index=False)"
   ]
  },
  {
   "cell_type": "markdown",
   "id": "64a2b396-c93a-4733-8bb5-4f64e826b98a",
   "metadata": {},
   "source": [
    "### 4.2 Split data (train/test)"
   ]
  },
  {
   "cell_type": "code",
   "execution_count": 36,
   "id": "81e767e5-fee1-4914-a3ef-ebaf0ebb58db",
   "metadata": {},
   "outputs": [],
   "source": [
    "# split the data into validation and training set\n",
    "train_df, test_df = train_test_split(airbnb, test_size=0.3)\n",
    "\n",
    "# to reduce repetition in later code, create variables to represent the columns\n",
    "# that are our predictors and target\n",
    "target = 'price_gte_150'\n",
    "predictors = list(airbnb.columns)\n",
    "predictors.remove(target)"
   ]
  },
  {
   "cell_type": "markdown",
   "id": "92ae34bc-874b-4fe2-80ba-64ad01c6332e",
   "metadata": {},
   "source": [
    "### 4.3  Conduct any data prepartion that should be done *AFTER* the data split\n",
    "\n",
    "We will look at the following:\n",
    "1) imput any missing numeric values using the mean of the variable/column\n",
    "2) remove differences of scale by standardizing the numerica variables"
   ]
  },
  {
   "cell_type": "markdown",
   "id": "9e1c90c2-5146-402c-ae5c-31db18035fb2",
   "metadata": {},
   "source": [
    "#### Impute missing values"
   ]
  },
  {
   "cell_type": "code",
   "execution_count": 37,
   "id": "12f3ed51-e5ae-4d33-a07b-a5c1c201d1e4",
   "metadata": {},
   "outputs": [
    {
     "data": {
      "text/plain": [
       "['bathrooms', 'bedrooms', 'beds', 'review_scores_rating']"
      ]
     },
     "execution_count": 37,
     "metadata": {},
     "output_type": "execute_result"
    }
   ],
   "source": [
    "numeric_cols_with_nas = list(train_df.isna().sum()[train_df.isna().sum() > 0].index)\n",
    "numeric_cols_with_nas"
   ]
  },
  {
   "cell_type": "markdown",
   "id": "61c696a5-43da-4f65-92d3-4c51179f7bfd",
   "metadata": {},
   "source": [
    "We can see from the code above that there are 4 variables (columns) that contain missing numeric values (we've already taken care of any missing values in the catagorical variables earlier)."
   ]
  },
  {
   "cell_type": "code",
   "execution_count": 38,
   "id": "47f5fa4a-1ede-4384-a1c7-6d776d5b78d1",
   "metadata": {},
   "outputs": [],
   "source": [
    "imputer = SimpleImputer(strategy=\"median\")\n",
    "\n",
    "train_df[numeric_cols_with_nas] = imputer.fit_transform(train_df[numeric_cols_with_nas])\n",
    "test_df[numeric_cols_with_nas] = imputer.transform(test_df[numeric_cols_with_nas])"
   ]
  },
  {
   "cell_type": "markdown",
   "id": "23b5720a-72d0-4250-afa3-ec996429a67f",
   "metadata": {},
   "source": [
    "#### Standardize numeric values"
   ]
  },
  {
   "cell_type": "markdown",
   "id": "75bed699-28b3-420e-af80-6d5d69b3a2e6",
   "metadata": {},
   "source": [
    "Now, let's create a common scale between the numberic columns by standardizing each numeric column"
   ]
  },
  {
   "cell_type": "code",
   "execution_count": 39,
   "id": "1dac7515-9dca-4033-be3b-c539d360e37b",
   "metadata": {},
   "outputs": [],
   "source": [
    "# create a standard scaler and fit it to the training set of predictors\n",
    "scaler = preprocessing.StandardScaler()\n",
    "cols_to_stdize = ['latitude', 'longitude', 'accommodates', \n",
    "                   'bathrooms', 'bedrooms', 'beds', 'Number of amenities', \n",
    "                   'guests_included', 'price_per_extra_person', 'minimum_nights', \n",
    "                   'number_of_reviews', 'number_days_btw_first_last_review', \n",
    "                   'review_scores_rating']                \n",
    "               \n",
    "# Transform the predictors of training and validation sets\n",
    "train_df[cols_to_stdize] = scaler.fit_transform(train_df[cols_to_stdize]) # train_predictors is not a numpy array\n",
    "\n",
    "\n",
    "test_df[cols_to_stdize] = scaler.transform(test_df[cols_to_stdize]) # validation_target is now a series object\n"
   ]
  },
  {
   "cell_type": "markdown",
   "id": "c8f7e6c6-8d3e-4d50-be10-796467a89b1e",
   "metadata": {},
   "source": [
    "## 5.0 Save the data"
   ]
  },
  {
   "cell_type": "code",
   "execution_count": 41,
   "id": "fe130536-0b13-4e0d-8a5c-82dcd9084dda",
   "metadata": {},
   "outputs": [
    {
     "ename": "OSError",
     "evalue": "Cannot save file into a non-existent directory: 'data'",
     "output_type": "error",
     "traceback": [
      "\u001b[1;31m---------------------------------------------------------------------------\u001b[0m",
      "\u001b[1;31mOSError\u001b[0m                                   Traceback (most recent call last)",
      "\u001b[1;32m~\\AppData\\Local\\Temp\\ipykernel_20372\\3236614925.py\u001b[0m in \u001b[0;36m<module>\u001b[1;34m\u001b[0m\n\u001b[0;32m      4\u001b[0m \u001b[0mtest_y\u001b[0m \u001b[1;33m=\u001b[0m \u001b[0mtest_df\u001b[0m\u001b[1;33m[\u001b[0m\u001b[0mtarget\u001b[0m\u001b[1;33m]\u001b[0m \u001b[1;31m# validation_target is now a series object\u001b[0m\u001b[1;33m\u001b[0m\u001b[1;33m\u001b[0m\u001b[0m\n\u001b[0;32m      5\u001b[0m \u001b[1;33m\u001b[0m\u001b[0m\n\u001b[1;32m----> 6\u001b[1;33m \u001b[0mtrain_df\u001b[0m\u001b[1;33m.\u001b[0m\u001b[0mto_csv\u001b[0m\u001b[1;33m(\u001b[0m\u001b[1;34m'./data/airbnb_train_df_price_gte_150.csv'\u001b[0m\u001b[1;33m,\u001b[0m \u001b[0mindex\u001b[0m\u001b[1;33m=\u001b[0m\u001b[1;32mFalse\u001b[0m\u001b[1;33m)\u001b[0m\u001b[1;33m\u001b[0m\u001b[1;33m\u001b[0m\u001b[0m\n\u001b[0m\u001b[0;32m      7\u001b[0m \u001b[0mtrain_X\u001b[0m\u001b[1;33m.\u001b[0m\u001b[0mto_csv\u001b[0m\u001b[1;33m(\u001b[0m\u001b[1;34m'./data/airbnb_train_X_price_gte_150.csv'\u001b[0m\u001b[1;33m,\u001b[0m \u001b[0mindex\u001b[0m\u001b[1;33m=\u001b[0m\u001b[1;32mFalse\u001b[0m\u001b[1;33m)\u001b[0m\u001b[1;33m\u001b[0m\u001b[1;33m\u001b[0m\u001b[0m\n\u001b[0;32m      8\u001b[0m \u001b[0mtrain_y\u001b[0m\u001b[1;33m.\u001b[0m\u001b[0mto_csv\u001b[0m\u001b[1;33m(\u001b[0m\u001b[1;34m'./data/airbnb_train_y_price_gte_150.csv'\u001b[0m\u001b[1;33m,\u001b[0m \u001b[0mindex\u001b[0m\u001b[1;33m=\u001b[0m\u001b[1;32mFalse\u001b[0m\u001b[1;33m)\u001b[0m\u001b[1;33m\u001b[0m\u001b[1;33m\u001b[0m\u001b[0m\n",
      "\u001b[1;32mc:\\Users\\suman\\anaconda3\\lib\\site-packages\\pandas\\core\\generic.py\u001b[0m in \u001b[0;36mto_csv\u001b[1;34m(self, path_or_buf, sep, na_rep, float_format, columns, header, index, index_label, mode, encoding, compression, quoting, quotechar, line_terminator, chunksize, date_format, doublequote, escapechar, decimal, errors, storage_options)\u001b[0m\n\u001b[0;32m   3549\u001b[0m         )\n\u001b[0;32m   3550\u001b[0m \u001b[1;33m\u001b[0m\u001b[0m\n\u001b[1;32m-> 3551\u001b[1;33m         return DataFrameRenderer(formatter).to_csv(\n\u001b[0m\u001b[0;32m   3552\u001b[0m             \u001b[0mpath_or_buf\u001b[0m\u001b[1;33m,\u001b[0m\u001b[1;33m\u001b[0m\u001b[1;33m\u001b[0m\u001b[0m\n\u001b[0;32m   3553\u001b[0m             \u001b[0mline_terminator\u001b[0m\u001b[1;33m=\u001b[0m\u001b[0mline_terminator\u001b[0m\u001b[1;33m,\u001b[0m\u001b[1;33m\u001b[0m\u001b[1;33m\u001b[0m\u001b[0m\n",
      "\u001b[1;32mc:\\Users\\suman\\anaconda3\\lib\\site-packages\\pandas\\io\\formats\\format.py\u001b[0m in \u001b[0;36mto_csv\u001b[1;34m(self, path_or_buf, encoding, sep, columns, index_label, mode, compression, quoting, quotechar, line_terminator, chunksize, date_format, doublequote, escapechar, errors, storage_options)\u001b[0m\n\u001b[0;32m   1178\u001b[0m             \u001b[0mformatter\u001b[0m\u001b[1;33m=\u001b[0m\u001b[0mself\u001b[0m\u001b[1;33m.\u001b[0m\u001b[0mfmt\u001b[0m\u001b[1;33m,\u001b[0m\u001b[1;33m\u001b[0m\u001b[1;33m\u001b[0m\u001b[0m\n\u001b[0;32m   1179\u001b[0m         )\n\u001b[1;32m-> 1180\u001b[1;33m         \u001b[0mcsv_formatter\u001b[0m\u001b[1;33m.\u001b[0m\u001b[0msave\u001b[0m\u001b[1;33m(\u001b[0m\u001b[1;33m)\u001b[0m\u001b[1;33m\u001b[0m\u001b[1;33m\u001b[0m\u001b[0m\n\u001b[0m\u001b[0;32m   1181\u001b[0m \u001b[1;33m\u001b[0m\u001b[0m\n\u001b[0;32m   1182\u001b[0m         \u001b[1;32mif\u001b[0m \u001b[0mcreated_buffer\u001b[0m\u001b[1;33m:\u001b[0m\u001b[1;33m\u001b[0m\u001b[1;33m\u001b[0m\u001b[0m\n",
      "\u001b[1;32mc:\\Users\\suman\\anaconda3\\lib\\site-packages\\pandas\\io\\formats\\csvs.py\u001b[0m in \u001b[0;36msave\u001b[1;34m(self)\u001b[0m\n\u001b[0;32m    239\u001b[0m         \"\"\"\n\u001b[0;32m    240\u001b[0m         \u001b[1;31m# apply compression and byte/text conversion\u001b[0m\u001b[1;33m\u001b[0m\u001b[1;33m\u001b[0m\u001b[0m\n\u001b[1;32m--> 241\u001b[1;33m         with get_handle(\n\u001b[0m\u001b[0;32m    242\u001b[0m             \u001b[0mself\u001b[0m\u001b[1;33m.\u001b[0m\u001b[0mfilepath_or_buffer\u001b[0m\u001b[1;33m,\u001b[0m\u001b[1;33m\u001b[0m\u001b[1;33m\u001b[0m\u001b[0m\n\u001b[0;32m    243\u001b[0m             \u001b[0mself\u001b[0m\u001b[1;33m.\u001b[0m\u001b[0mmode\u001b[0m\u001b[1;33m,\u001b[0m\u001b[1;33m\u001b[0m\u001b[1;33m\u001b[0m\u001b[0m\n",
      "\u001b[1;32mc:\\Users\\suman\\anaconda3\\lib\\site-packages\\pandas\\io\\common.py\u001b[0m in \u001b[0;36mget_handle\u001b[1;34m(path_or_buf, mode, encoding, compression, memory_map, is_text, errors, storage_options)\u001b[0m\n\u001b[0;32m    692\u001b[0m     \u001b[1;31m# Only for write methods\u001b[0m\u001b[1;33m\u001b[0m\u001b[1;33m\u001b[0m\u001b[0m\n\u001b[0;32m    693\u001b[0m     \u001b[1;32mif\u001b[0m \u001b[1;34m\"r\"\u001b[0m \u001b[1;32mnot\u001b[0m \u001b[1;32min\u001b[0m \u001b[0mmode\u001b[0m \u001b[1;32mand\u001b[0m \u001b[0mis_path\u001b[0m\u001b[1;33m:\u001b[0m\u001b[1;33m\u001b[0m\u001b[1;33m\u001b[0m\u001b[0m\n\u001b[1;32m--> 694\u001b[1;33m         \u001b[0mcheck_parent_directory\u001b[0m\u001b[1;33m(\u001b[0m\u001b[0mstr\u001b[0m\u001b[1;33m(\u001b[0m\u001b[0mhandle\u001b[0m\u001b[1;33m)\u001b[0m\u001b[1;33m)\u001b[0m\u001b[1;33m\u001b[0m\u001b[1;33m\u001b[0m\u001b[0m\n\u001b[0m\u001b[0;32m    695\u001b[0m \u001b[1;33m\u001b[0m\u001b[0m\n\u001b[0;32m    696\u001b[0m     \u001b[1;32mif\u001b[0m \u001b[0mcompression\u001b[0m\u001b[1;33m:\u001b[0m\u001b[1;33m\u001b[0m\u001b[1;33m\u001b[0m\u001b[0m\n",
      "\u001b[1;32mc:\\Users\\suman\\anaconda3\\lib\\site-packages\\pandas\\io\\common.py\u001b[0m in \u001b[0;36mcheck_parent_directory\u001b[1;34m(path)\u001b[0m\n\u001b[0;32m    566\u001b[0m     \u001b[0mparent\u001b[0m \u001b[1;33m=\u001b[0m \u001b[0mPath\u001b[0m\u001b[1;33m(\u001b[0m\u001b[0mpath\u001b[0m\u001b[1;33m)\u001b[0m\u001b[1;33m.\u001b[0m\u001b[0mparent\u001b[0m\u001b[1;33m\u001b[0m\u001b[1;33m\u001b[0m\u001b[0m\n\u001b[0;32m    567\u001b[0m     \u001b[1;32mif\u001b[0m \u001b[1;32mnot\u001b[0m \u001b[0mparent\u001b[0m\u001b[1;33m.\u001b[0m\u001b[0mis_dir\u001b[0m\u001b[1;33m(\u001b[0m\u001b[1;33m)\u001b[0m\u001b[1;33m:\u001b[0m\u001b[1;33m\u001b[0m\u001b[1;33m\u001b[0m\u001b[0m\n\u001b[1;32m--> 568\u001b[1;33m         \u001b[1;32mraise\u001b[0m \u001b[0mOSError\u001b[0m\u001b[1;33m(\u001b[0m\u001b[1;34mrf\"Cannot save file into a non-existent directory: '{parent}'\"\u001b[0m\u001b[1;33m)\u001b[0m\u001b[1;33m\u001b[0m\u001b[1;33m\u001b[0m\u001b[0m\n\u001b[0m\u001b[0;32m    569\u001b[0m \u001b[1;33m\u001b[0m\u001b[0m\n\u001b[0;32m    570\u001b[0m \u001b[1;33m\u001b[0m\u001b[0m\n",
      "\u001b[1;31mOSError\u001b[0m: Cannot save file into a non-existent directory: 'data'"
     ]
    }
   ],
   "source": [
    "train_X = train_df[predictors]\n",
    "train_y = train_df[target] # train_target is now a series objecttrain_df.to_csv('airbnb_train_df.csv', index=False)\n",
    "test_X = test_df[predictors]\n",
    "test_y = test_df[target] # validation_target is now a series object\n",
    "\n",
    "train_df.to_csv('./data/airbnb_train_df_price_gte_150.csv', index=False)\n",
    "train_X.to_csv('./data/airbnb_train_X_price_gte_150.csv', index=False)\n",
    "train_y.to_csv('./data/airbnb_train_y_price_gte_150.csv', index=False)\n",
    "test_df.to_csv('./data/airbnb_test_df_price_gte_150.csv', index=False)\n",
    "test_X.to_csv('./data/airbnb_test_X_price_gte_150.csv', index=False)\n",
    "test_y.to_csv('./data/airbnb_test_y_price_gte_150.csv', index=False)"
   ]
  },
  {
   "cell_type": "code",
   "execution_count": null,
   "id": "04de3f70-d13b-4368-afbc-b5c4368f3bba",
   "metadata": {},
   "outputs": [],
   "source": []
  },
  {
   "cell_type": "markdown",
   "id": "3fbb5d75-83f2-4e4e-99ae-0cd74390de15",
   "metadata": {},
   "source": [
    "## Loading the price150 data"
   ]
  },
  {
   "cell_type": "code",
   "execution_count": null,
   "id": "35da326a-1ba2-4701-b2c5-f61afba22b2f",
   "metadata": {},
   "outputs": [],
   "source": [
    "X_train = pd.read_csv(\"./data/airbnb_train_X_price_gte_150.csv\")\n",
    "X_test = pd.read_csv(\"./data/airbnb_test_X_price_gte_150.csv\")\n",
    "y_train = pd.read_csv(\"./data/airbnb_train_y_price_gte_150.csv\")\n",
    "y_test = pd.read_csv(\"./data/airbnb_test_y_price_gte_150.csv\")"
   ]
  },
  {
   "cell_type": "markdown",
   "id": "937298fa-0d32-4516-8f50-452546d72021",
   "metadata": {},
   "source": [
    "## 3. Model the data\n",
    "\n",
    "First, we will create a dataframe to hold all the results of our models."
   ]
  },
  {
   "cell_type": "code",
   "execution_count": null,
   "id": "c602373a-f1a7-4376-abb0-ca335beca71e",
   "metadata": {},
   "outputs": [],
   "source": [
    "performance = pd.DataFrame({\"model\": [], \"Accuracy\": [], \"Precision\": [], \"Recall\": [], \"F1\": []})"
   ]
  },
  {
   "cell_type": "markdown",
   "id": "08b5341a-53ad-40ea-afea-7f31251ab50c",
   "metadata": {},
   "source": [
    "### 3.1 Fit and test a Logistic Regression model"
   ]
  },
  {
   "cell_type": "markdown",
   "id": "c98f16e8-f96f-4f44-a6ea-e65b42c2e491",
   "metadata": {},
   "source": [
    "### 3.1 Fit a SVM classification model using linear kernal"
   ]
  },
  {
   "cell_type": "code",
   "execution_count": null,
   "id": "9f037817-455b-4827-ab82-74834916f26c",
   "metadata": {},
   "outputs": [],
   "source": [
    "from sklearn.svm import SVC\n",
    "from sklearn.metrics import confusion_matrix\n",
    "\n"
   ]
  },
  {
   "cell_type": "markdown",
   "id": "b856de44-59bd-43d5-96d1-097a41c2dc2d",
   "metadata": {},
   "source": [
    "### 3.3 Fit a SVM classification model using polynomial kernal"
   ]
  },
  {
   "cell_type": "code",
   "execution_count": null,
   "id": "cd0d5a7f-4073-4468-96fa-b3aa3a9879ff",
   "metadata": {},
   "outputs": [],
   "source": [
    "svm_poly_model = SVC(kernel=\"poly\", degree=3, coef0=1, C=10)\n",
    "_ = svm_poly_model.fit(X_train, np.ravel(y_train))"
   ]
  },
  {
   "cell_type": "code",
   "execution_count": null,
   "id": "e4686fd7-d48c-478c-b354-aaf6ab8106e1",
   "metadata": {},
   "outputs": [],
   "source": [
    "model_preds = svm_poly_model.predict(X_test)\n",
    "c_matrix = confusion_matrix(y_test, model_preds)\n",
    "TP = c_matrix[1][1]\n",
    "TN = c_matrix[0][0]\n",
    "FP = c_matrix[0][1]\n",
    "FN = c_matrix[1][0]\n",
    "performance= pd.concat([performance, pd.DataFrame({'model':\"poly svm\", \n",
    "                                                    'Accuracy': [(TP+TN)/(TP+TN+FP+FN)], \n",
    "                                                    'Precision': [TP/(TP+FP)], \n",
    "                                                    'Recall': [TP/(TP+FN)], \n",
    "                                                    'F1': [2*TP/(2*TP+FP+FN)]\n",
    "                                                     }, index=[0])])"
   ]
  },
  {
   "cell_type": "code",
   "execution_count": null,
   "id": "fe608261-8a6a-4122-98f4-f88d81eebbb0",
   "metadata": {},
   "outputs": [
    {
     "data": {
      "text/html": [
       "<div>\n",
       "<style scoped>\n",
       "    .dataframe tbody tr th:only-of-type {\n",
       "        vertical-align: middle;\n",
       "    }\n",
       "\n",
       "    .dataframe tbody tr th {\n",
       "        vertical-align: top;\n",
       "    }\n",
       "\n",
       "    .dataframe thead th {\n",
       "        text-align: right;\n",
       "    }\n",
       "</style>\n",
       "<table border=\"1\" class=\"dataframe\">\n",
       "  <thead>\n",
       "    <tr style=\"text-align: right;\">\n",
       "      <th></th>\n",
       "      <th>model</th>\n",
       "      <th>Accuracy</th>\n",
       "      <th>Precision</th>\n",
       "      <th>Recall</th>\n",
       "      <th>F1</th>\n",
       "    </tr>\n",
       "  </thead>\n",
       "  <tbody>\n",
       "    <tr>\n",
       "      <th>0</th>\n",
       "      <td>poly svm</td>\n",
       "      <td>0.867854</td>\n",
       "      <td>0.855839</td>\n",
       "      <td>0.883239</td>\n",
       "      <td>0.869323</td>\n",
       "    </tr>\n",
       "  </tbody>\n",
       "</table>\n",
       "</div>"
      ],
      "text/plain": [
       "      model  Accuracy  Precision    Recall        F1\n",
       "0  poly svm  0.867854   0.855839  0.883239  0.869323"
      ]
     },
     "execution_count": 7,
     "metadata": {},
     "output_type": "execute_result"
    }
   ],
   "source": [
    "\n",
    "performance.sort_values(by=['Precision'],ascending= False)"
   ]
  },
  {
   "cell_type": "markdown",
   "id": "b4be6856-f0b5-412a-bed9-e355eeeb271b",
   "metadata": {},
   "source": [
    "## Gridsearch & Decision tree"
   ]
  },
  {
   "cell_type": "code",
   "execution_count": null,
   "id": "4b39c8be-8d76-4f1a-b857-93825225e43c",
   "metadata": {},
   "outputs": [],
   "source": []
  },
  {
   "cell_type": "code",
   "execution_count": null,
   "id": "13c9aa65-2590-477f-b38d-2406eecf7229",
   "metadata": {},
   "outputs": [],
   "source": [
    "from sklearn.tree import DecisionTreeClassifier \n",
    "from matplotlib import pyplot as plt\n",
    "import numpy as np\n",
    "from sklearn.metrics import confusion_matrix\n",
    "from sklearn.model_selection import GridSearchCV, RandomizedSearchCV"
   ]
  },
  {
   "cell_type": "markdown",
   "id": "79f65dfe-ff78-40cb-8205-eb8688461b94",
   "metadata": {},
   "source": [
    "## NOTE: In this next section, GridSearch will use K Fold Cross Validation \n",
    "\n",
    "K-Fold cross validation is used to avoid overfitting. \n",
    "\n",
    "In k-fold cross-validation, the original sample is randomly partitioned into k equal sized subsamples. Of the k subsamples, a single subsample is retained as the validation data for testing the model, and the remaining k − 1 subsamples are used as training data. The cross-validation process is then repeated k times, with each of the k subsamples used exactly once as the validation data. The k results can then be averaged to produce a single estimation. \n",
    "\n",
    "![cross validation diagram](https://scikit-learn.org/stable/_images/grid_search_cross_validation.png)\n"
   ]
  },
  {
   "cell_type": "markdown",
   "id": "bd270d2a-8b33-485b-aec1-21ada9f88e33",
   "metadata": {},
   "source": [
    "## Model the data"
   ]
  },
  {
   "cell_type": "markdown",
   "id": "cf8c514b-2246-4a4e-8d76-3f199c4a05ee",
   "metadata": {},
   "source": [
    "Conduct an initial random search across a wide range of possible parameters."
   ]
  },
  {
   "cell_type": "code",
   "execution_count": null,
   "id": "7253fc17-caa1-4403-843b-21bad80b87c0",
   "metadata": {},
   "outputs": [],
   "source": [
    "score_measure = \"precision\"\n",
    "kfolds = 5\n",
    "\n",
    "param_grid = {\n",
    "    'min_samples_split': np.arange(1,100),  \n",
    "    'min_samples_leaf': np.arange(1,100),\n",
    "    'min_impurity_decrease': np.arange(0.0001, 0.01, 0.0005),\n",
    "    'max_leaf_nodes': np.arange(5, 100), \n",
    "    'max_depth': np.arange(1,50), \n",
    "    'criterion': ['entropy', 'gini'],\n",
    "}\n"
   ]
  },
  {
   "cell_type": "code",
   "execution_count": null,
   "id": "81e80b6e-699f-422a-8805-e717f5e609d0",
   "metadata": {},
   "outputs": [],
   "source": [
    "\n",
    "dtree = DecisionTreeClassifier()\n",
    "rand_search = RandomizedSearchCV(estimator = dtree, param_distributions=param_grid, cv=kfolds, n_iter=300,\n",
    "                           scoring=score_measure, verbose=1, n_jobs=-1,  # n_jobs=-1 will utilize all available CPUs \n",
    "                           return_train_score=True)\n"
   ]
  },
  {
   "cell_type": "code",
   "execution_count": null,
   "id": "afa30947-0291-47f3-b299-2260e5c392ae",
   "metadata": {},
   "outputs": [
    {
     "name": "stdout",
     "output_type": "stream",
     "text": [
      "Fitting 5 folds for each of 300 candidates, totalling 1500 fits\n",
      "The best precision score is 0.8553701168468061\n",
      "... with parameters: {'min_samples_split': 30, 'min_samples_leaf': 23, 'min_impurity_decrease': 0.0021, 'max_leaf_nodes': 91, 'max_depth': 35, 'criterion': 'gini'}\n"
     ]
    },
    {
     "name": "stderr",
     "output_type": "stream",
     "text": [
      "C:\\Users\\Bhargav Lakkireddy\\anaconda3\\lib\\site-packages\\sklearn\\model_selection\\_validation.py:372: FitFailedWarning: \n",
      "5 fits failed out of a total of 1500.\n",
      "The score on these train-test partitions for these parameters will be set to nan.\n",
      "If these failures are not expected, you can try to debug them by setting error_score='raise'.\n",
      "\n",
      "Below are more details about the failures:\n",
      "--------------------------------------------------------------------------------\n",
      "5 fits failed with the following error:\n",
      "Traceback (most recent call last):\n",
      "  File \"C:\\Users\\Bhargav Lakkireddy\\anaconda3\\lib\\site-packages\\sklearn\\model_selection\\_validation.py\", line 680, in _fit_and_score\n",
      "    estimator.fit(X_train, y_train, **fit_params)\n",
      "  File \"C:\\Users\\Bhargav Lakkireddy\\anaconda3\\lib\\site-packages\\sklearn\\tree\\_classes.py\", line 937, in fit\n",
      "    super().fit(\n",
      "  File \"C:\\Users\\Bhargav Lakkireddy\\anaconda3\\lib\\site-packages\\sklearn\\tree\\_classes.py\", line 250, in fit\n",
      "    raise ValueError(\n",
      "ValueError: min_samples_split must be an integer greater than 1 or a float in (0.0, 1.0]; got the integer 1\n",
      "\n",
      "  warnings.warn(some_fits_failed_message, FitFailedWarning)\n",
      "C:\\Users\\Bhargav Lakkireddy\\anaconda3\\lib\\site-packages\\sklearn\\model_selection\\_search.py:969: UserWarning: One or more of the test scores are non-finite: [0.77844887 0.82488631 0.82488631 0.82488631 0.82488631 0.82488631\n",
      " 0.8407057  0.82488631 0.82488631 0.77844887 0.82768187 0.84054652\n",
      " 0.82488631 0.82488631 0.82488631 0.83675493 0.82488631 0.82488631\n",
      " 0.82488631 0.83585906 0.82488631 0.82586846 0.84056766 0.83581309\n",
      " 0.83585906 0.82532953 0.82488631 0.82488631 0.82488631 0.8340141\n",
      " 0.83825509 0.83924658 0.82488631 0.82532953 0.83766907 0.82514459\n",
      " 0.82488631 0.82532953 0.82488631 0.84173701 0.82488631 0.82825672\n",
      " 0.82488631 0.82940688 0.82488631 0.83388074 0.82488631 0.83019972\n",
      " 0.82488631 0.77844887 0.82488631 0.83253161 0.83136413 0.83557214\n",
      " 0.82488631 0.82756901 0.82488631 0.82488631 0.82488631 0.83556602\n",
      " 0.84688479 0.82488631 0.82488631 0.83024761 0.82488631 0.82488631\n",
      " 0.82488631 0.83247073 0.83304336 0.77844887 0.82488631 0.82488631\n",
      " 0.82488631 0.82488631 0.82488631 0.8268126  0.83865213 0.82490463\n",
      " 0.77844887 0.84213849 0.82532953 0.84826248 0.82756901 0.82488631\n",
      " 0.82552271 0.8446265  0.83148979 0.82488631 0.82488631 0.82769013\n",
      " 0.82488631 0.83711882 0.82488631 0.82552271 0.82488631 0.82514459\n",
      " 0.82855513 0.82532953 0.82532953 0.82488631 0.82488631 0.82532953\n",
      " 0.83186859 0.77844887 0.82756901 0.82488631 0.85537012 0.82488631\n",
      " 0.82488631 0.82488631 0.83216431 0.82488631 0.82488631 0.82488631\n",
      " 0.82488631 0.82488631 0.84708677 0.82595586 0.82855513 0.82552271\n",
      " 0.82488631 0.82488631 0.83895825 0.84428996 0.82488631 0.82488631\n",
      " 0.83766907 0.77844887 0.82488631 0.82615474 0.82595586 0.82488631\n",
      " 0.83585906 0.83026191 0.83026191 0.82488631 0.83773101 0.82488631\n",
      " 0.83948565 0.83273566 0.82756901 0.83585906 0.82488631 0.82488631\n",
      " 0.8365337  0.82488631 0.83924658 0.82488631 0.83766907 0.82507291\n",
      " 0.8265185  0.83987605 0.82488631 0.84727065 0.77844887 0.83963035\n",
      " 0.82488631 0.83766907 0.82488631 0.84709762 0.82488631 0.83766907\n",
      " 0.82532953 0.82488631 0.82488631 0.84193488 0.82488631 0.8406849\n",
      " 0.82855513 0.83736319 0.84720734 0.82488631 0.82488631 0.82488631\n",
      " 0.82488631 0.82488631 0.84392919 0.77844887 0.82488631 0.82756901\n",
      " 0.82488631 0.82488631 0.82488631 0.83766907 0.82490463 0.82532953\n",
      " 0.82514459 0.82488631 0.82488631 0.82507291 0.83322158 0.8465842\n",
      " 0.82971325 0.82627955 0.82743759 0.83019972 0.82488631 0.83267695\n",
      " 0.82488631 0.83153266 0.84491204 0.82488631 0.82488631 0.82488631\n",
      " 0.83766907        nan 0.82488631 0.82488631 0.82488631 0.82488631\n",
      " 0.82488631 0.82488631 0.83222366 0.83032083 0.82488631 0.82488631\n",
      " 0.82488631 0.82488631 0.82488631 0.82488631 0.82532953 0.84084038\n",
      " 0.82488631 0.82488631 0.8312966  0.83583312 0.82488631 0.82509452\n",
      " 0.82488631 0.8278815  0.83624489 0.82490463 0.83267695 0.82532953\n",
      " 0.82488631 0.84645164 0.82487201 0.82488631 0.77844887 0.82488631\n",
      " 0.82488631 0.82532953 0.82971325 0.82488631 0.82488631 0.77844887\n",
      " 0.82488631 0.83304336 0.82488631 0.82637624 0.82627955 0.83581309\n",
      " 0.82488631 0.8280068  0.82488631 0.82487201 0.82488631 0.82488631\n",
      " 0.82488631 0.82488631 0.77844887 0.83589091 0.83581309 0.82488631\n",
      " 0.82532953 0.82595586 0.82488631 0.83766907 0.82488631 0.82490421\n",
      " 0.82488631 0.83585906 0.82488631 0.82488631 0.83225259 0.82488631\n",
      " 0.83766907 0.77844887 0.83766907 0.8278815  0.84543013 0.82514459\n",
      " 0.83267695 0.82488631 0.82488631 0.82488631 0.83319848 0.77844887\n",
      " 0.82488631 0.83364647 0.84123466 0.82488631 0.84756415 0.82488631\n",
      " 0.82488631 0.84428996 0.82488631 0.83403766 0.82488631 0.83766907]\n",
      "  warnings.warn(\n",
      "C:\\Users\\Bhargav Lakkireddy\\anaconda3\\lib\\site-packages\\sklearn\\model_selection\\_search.py:969: UserWarning: One or more of the train scores are non-finite: [0.77774902 0.82583601 0.82583601 0.82583601 0.82583601 0.82583601\n",
      " 0.85197904 0.82583601 0.82583601 0.77774902 0.83955617 0.85004907\n",
      " 0.82583601 0.82583601 0.82583601 0.86082265 0.82583601 0.82583601\n",
      " 0.82583601 0.84341642 0.82583601 0.83024509 0.86081172 0.84238417\n",
      " 0.84341642 0.82601598 0.82583601 0.82583601 0.82583601 0.85727965\n",
      " 0.84786933 0.86253741 0.82583601 0.82598391 0.84452029 0.82851932\n",
      " 0.82583601 0.826048   0.82583601 0.84544502 0.82583601 0.8347618\n",
      " 0.82583601 0.8345461  0.82583601 0.87183353 0.82583601 0.83578976\n",
      " 0.82583601 0.77774902 0.82583601 0.84044549 0.91980209 0.86590135\n",
      " 0.82583601 0.83093316 0.82583601 0.82583601 0.82583601 0.8428255\n",
      " 0.86102433 0.82583601 0.82583601 0.83506881 0.82583601 0.82583601\n",
      " 0.82583601 0.83861476 0.84049152 0.77774902 0.82583601 0.82583601\n",
      " 0.82583601 0.82583601 0.82583601 0.83246699 0.86268011 0.8268113\n",
      " 0.77774902 0.85958334 0.82601598 0.86202723 0.83093316 0.82583601\n",
      " 0.82637164 0.85328039 0.86644719 0.82583601 0.82583601 0.83061584\n",
      " 0.82583601 0.84613639 0.82583601 0.82637164 0.82583601 0.82851932\n",
      " 0.83219021 0.826048   0.826048   0.82583601 0.82583601 0.826048\n",
      " 0.86071225 0.77774902 0.83093316 0.82583601 0.86875616 0.82583601\n",
      " 0.82583601 0.82583601 0.84422896 0.82583601 0.82583601 0.82583601\n",
      " 0.82583601 0.82583601 0.85513746 0.82697856 0.83202072 0.82637164\n",
      " 0.82583601 0.82583601 0.86278963 0.84936169 0.82583601 0.82583601\n",
      " 0.84452029 0.77774902 0.82583601 0.83070565 0.82697856 0.82583601\n",
      " 0.84341642 0.83261379 0.83261379 0.82583601 0.84800719 0.82583601\n",
      " 0.85025725 0.85000191 0.83093316 0.84341642 0.82583601 0.82583601\n",
      " 0.83996952 0.82583601 0.86253741 0.82583601 0.84452029 0.83803457\n",
      " 0.89004685 0.84373893 0.82583601 0.86209664 0.77774902 0.84992506\n",
      " 0.82583601 0.84452029 0.82583601 0.86080214 0.82583601 0.84452029\n",
      " 0.826048   0.82583601 0.82583601 0.86488154 0.82583601 0.84862506\n",
      " 0.83202072 0.84882868 0.86477095 0.82583601 0.82583601 0.82583601\n",
      " 0.82583601 0.82583601 0.86359489 0.77774902 0.82583601 0.83093316\n",
      " 0.82583601 0.82583601 0.82583601 0.84452029 0.8268113  0.826048\n",
      " 0.82848866 0.82583601 0.82583601 0.83803457 0.87611791 0.86729866\n",
      " 0.83512085 0.83082791 0.84486453 0.83578976 0.82583601 0.84031158\n",
      " 0.82583601 0.83690262 0.85280786 0.82583601 0.82583601 0.82583601\n",
      " 0.84452029        nan 0.82583601 0.82583601 0.82583601 0.82583601\n",
      " 0.82583601 0.82583601 0.83905609 0.83544251 0.82583601 0.82583601\n",
      " 0.82583601 0.82583601 0.82583601 0.82583601 0.826048   0.86727895\n",
      " 0.82583601 0.82583601 0.83504222 0.84419188 0.82583601 0.84688781\n",
      " 0.82583601 0.83301112 0.85949689 0.8268113  0.84031158 0.826048\n",
      " 0.82583601 0.87617147 0.82814917 0.82583601 0.77774902 0.82583601\n",
      " 0.82583601 0.826048   0.83512085 0.82583601 0.82583601 0.77774902\n",
      " 0.82583601 0.84049152 0.82583601 0.84381152 0.83082791 0.84238417\n",
      " 0.82583601 0.83272552 0.82583601 0.82814917 0.82583601 0.82583601\n",
      " 0.82583601 0.82583601 0.77774902 0.85435129 0.84238417 0.82583601\n",
      " 0.82601598 0.82697856 0.82583601 0.84452029 0.82583601 0.84761819\n",
      " 0.82583601 0.84341642 0.82583601 0.82583601 0.83899004 0.82583601\n",
      " 0.84452029 0.77774902 0.84452029 0.83301112 0.86407617 0.82851932\n",
      " 0.84031158 0.82583601 0.82583601 0.82583601 0.85232215 0.77774902\n",
      " 0.82583601 0.83978321 0.85036837 0.82583601 0.86683291 0.82583601\n",
      " 0.82583601 0.84936169 0.82583601 0.85809007 0.82583601 0.84452029]\n",
      "  warnings.warn(\n"
     ]
    }
   ],
   "source": [
    "\n",
    "_ = rand_search.fit(X_train, y_train)\n",
    "\n",
    "print(f\"The best {score_measure} score is {rand_search.best_score_}\")\n",
    "print(f\"... with parameters: {rand_search.best_params_}\")\n",
    "\n",
    "bestRecallTree = rand_search.best_estimator_"
   ]
  },
  {
   "cell_type": "code",
   "execution_count": null,
   "id": "cf4db06b-ead3-41f1-ac00-0eca2002aafa",
   "metadata": {},
   "outputs": [
    {
     "name": "stdout",
     "output_type": "stream",
     "text": [
      "Accuracy=0.8397376 Precision=0.8202847 Recall=0.8681733 F1=0.8435499\n"
     ]
    }
   ],
   "source": [
    "c_matrix = confusion_matrix(y_test, rand_search.predict(X_test))\n",
    "TP = c_matrix[1][1]\n",
    "TN = c_matrix[0][0]\n",
    "FP = c_matrix[0][1]\n",
    "FN = c_matrix[1][0]\n",
    "print(f\"Accuracy={(TP+TN)/(TP+TN+FP+FN):.7f} Precision={TP/(TP+FP):.7f} Recall={TP/(TP+FN):.7f} F1={2*TP/(2*TP+FP+FN):.7f}\")"
   ]
  },
  {
   "cell_type": "markdown",
   "id": "50ba37b6-fc3b-4211-9d2c-94ef177a1e1e",
   "metadata": {},
   "source": [
    "Conduct an exhaustive search across a smaller range of parameters around the parameters found in the initial random search."
   ]
  },
  {
   "cell_type": "code",
   "execution_count": null,
   "id": "81e3c48d-b4c7-47cf-bb9a-0c0ddd06e387",
   "metadata": {},
   "outputs": [
    {
     "name": "stdout",
     "output_type": "stream",
     "text": [
      "Fitting 5 folds for each of 6912 candidates, totalling 34560 fits\n",
      "The best precision score is 0.8584728930092839\n",
      "... with parameters: {'criterion': 'gini', 'max_depth': 32, 'max_leaf_nodes': 88, 'min_impurity_decrease': 0.0021999999999999997, 'min_samples_leaf': 20, 'min_samples_split': 28}\n"
     ]
    }
   ],
   "source": [
    "score_measure = \"precision\"\n",
    "kfolds = 5\n",
    "\n",
    "param_grid = {\n",
    "    'min_samples_split': np.arange(28,32),  \n",
    "    'min_samples_leaf': np.arange(20,26),\n",
    "    'min_impurity_decrease': np.arange(0.0020, 0.0026, 0.0001),\n",
    "    'max_leaf_nodes': np.arange(88,96), \n",
    "    'max_depth': np.arange(32,38), \n",
    "    'criterion': ['gini'],\n",
    "}\n",
    "\n",
    "dtree = DecisionTreeClassifier()\n",
    "grid_search = GridSearchCV(estimator = dtree, param_grid=param_grid, cv=kfolds, \n",
    "                           scoring=score_measure, verbose=1, n_jobs=-1,  # n_jobs=-1 will utilize all available CPUs \n",
    "                           return_train_score=True)\n",
    "\n",
    "_ = grid_search.fit(X_train, y_train)\n",
    "\n",
    "print(f\"The best {score_measure} score is {grid_search.best_score_}\")\n",
    "print(f\"... with parameters: {grid_search.best_params_}\")\n",
    "\n",
    "bestRecallTree = grid_search.best_estimator_"
   ]
  },
  {
   "cell_type": "code",
   "execution_count": null,
   "id": "490fdba7-01ec-4ad1-8ea6-6f4b82c622d1",
   "metadata": {},
   "outputs": [
    {
     "name": "stdout",
     "output_type": "stream",
     "text": [
      "Accuracy=0.8462980 Precision=0.8379374 Recall=0.8568738 F1=0.8472998\n"
     ]
    }
   ],
   "source": [
    "c_matrix = confusion_matrix(y_test, grid_search.predict(X_test))\n",
    "TP = c_matrix[1][1]\n",
    "TN = c_matrix[0][0]\n",
    "FP = c_matrix[0][1]\n",
    "FN = c_matrix[1][0]\n",
    "print(f\"Accuracy={(TP+TN)/(TP+TN+FP+FN):.7f} Precision={TP/(TP+FP):.7f} Recall={TP/(TP+FN):.7f} F1={2*TP/(2*TP+FP+FN):.7f}\")"
   ]
  },
  {
   "cell_type": "markdown",
   "id": "7c26fa31-a07f-4614-82e1-1b3c299f5b1e",
   "metadata": {},
   "source": [
    "## 5.0 Importance of features"
   ]
  },
  {
   "cell_type": "code",
   "execution_count": null,
   "id": "22837350-5796-4aff-975f-1ce0be8c5ec0",
   "metadata": {},
   "outputs": [
    {
     "data": {
      "text/plain": [
       "array([0.  , 0.  , 0.06, 0.1 , 0.71, 0.01, 0.02, 0.07, 0.  , 0.  , 0.  ,\n",
       "       0.  , 0.  , 0.  , 0.  , 0.  , 0.  , 0.  , 0.  , 0.  , 0.  , 0.  ,\n",
       "       0.  , 0.  , 0.  , 0.  , 0.03, 0.  , 0.  , 0.  , 0.  , 0.  , 0.  ,\n",
       "       0.  , 0.01, 0.  , 0.  , 0.  , 0.  , 0.  , 0.  , 0.  , 0.  , 0.  ,\n",
       "       0.  , 0.  , 0.  , 0.  , 0.  , 0.  , 0.  , 0.  , 0.  , 0.  , 0.  ])"
      ]
     },
     "execution_count": 20,
     "metadata": {},
     "output_type": "execute_result"
    }
   ],
   "source": [
    "np.round(grid_search.best_estimator_.feature_importances_,2)"
   ]
  },
  {
   "cell_type": "markdown",
   "id": "793666a5-a4af-4c2e-90aa-a8a1253cfbe1",
   "metadata": {},
   "source": [
    "## 6.0 Diagrams of DTrees"
   ]
  },
  {
   "cell_type": "code",
   "execution_count": null,
   "id": "bc55cd69-f3e0-4baf-952d-b06c2c1ae986",
   "metadata": {},
   "outputs": [
    {
     "ename": "NameError",
     "evalue": "name 'grid_search' is not defined",
     "output_type": "error",
     "traceback": [
      "\u001b[1;31m---------------------------------------------------------------------------\u001b[0m",
      "\u001b[1;31mNameError\u001b[0m                                 Traceback (most recent call last)",
      "\u001b[1;32m~\\AppData\\Local\\Temp\\ipykernel_20372\\4155426033.py\u001b[0m in \u001b[0;36m<module>\u001b[1;34m\u001b[0m\n\u001b[0;32m      3\u001b[0m \u001b[1;33m\u001b[0m\u001b[0m\n\u001b[0;32m      4\u001b[0m \u001b[0mplt\u001b[0m\u001b[1;33m.\u001b[0m\u001b[0mfigure\u001b[0m\u001b[1;33m(\u001b[0m\u001b[0mfigsize\u001b[0m\u001b[1;33m=\u001b[0m\u001b[1;33m(\u001b[0m\u001b[1;36m100\u001b[0m\u001b[1;33m,\u001b[0m\u001b[1;36m75\u001b[0m\u001b[1;33m)\u001b[0m\u001b[1;33m)\u001b[0m\u001b[1;33m\u001b[0m\u001b[1;33m\u001b[0m\u001b[0m\n\u001b[1;32m----> 5\u001b[1;33m tree = plot_tree(grid_search.best_estimator_, \n\u001b[0m\u001b[0;32m      6\u001b[0m               \u001b[1;31m#feature_names=train_inputs.columns.values, # our feature names are stripped from the data set\u001b[0m\u001b[1;33m\u001b[0m\u001b[1;33m\u001b[0m\u001b[0m\n\u001b[0;32m      7\u001b[0m               \u001b[0mclass_names\u001b[0m\u001b[1;33m=\u001b[0m\u001b[1;33m[\u001b[0m\u001b[1;34m'lt 150'\u001b[0m\u001b[1;33m,\u001b[0m \u001b[1;34m'gte 150'\u001b[0m\u001b[1;33m]\u001b[0m\u001b[1;33m,\u001b[0m\u001b[1;33m\u001b[0m\u001b[1;33m\u001b[0m\u001b[0m\n",
      "\u001b[1;31mNameError\u001b[0m: name 'grid_search' is not defined"
     ]
    },
    {
     "data": {
      "text/plain": [
       "<Figure size 10000x7500 with 0 Axes>"
      ]
     },
     "metadata": {},
     "output_type": "display_data"
    }
   ],
   "source": [
    "from sklearn.tree import plot_tree\n",
    "import matplotlib.pyplot as plt\n",
    "\n",
    "plt.figure(figsize=(100,75))\n",
    "tree = plot_tree(grid_search.best_estimator_, \n",
    "              #feature_names=train_inputs.columns.values, # our feature names are stripped from the data set\n",
    "              class_names=['lt 150', 'gte 150'], \n",
    "              filled=True, \n",
    "              rounded=True, \n",
    "              fontsize=14)"
   ]
  },
  {
   "cell_type": "code",
   "execution_count": null,
   "id": "c6aba06f",
   "metadata": {},
   "outputs": [],
   "source": []
  }
 ],
 "metadata": {
  "kernelspec": {
   "display_name": "base",
   "language": "python",
   "name": "python3"
  },
  "language_info": {
   "codemirror_mode": {
    "name": "ipython",
    "version": 3
   },
   "file_extension": ".py",
   "mimetype": "text/x-python",
   "name": "python",
   "nbconvert_exporter": "python",
   "pygments_lexer": "ipython3",
   "version": "3.9.13"
  },
  "vscode": {
   "interpreter": {
    "hash": "e96e05547831992589e1a8106d24904ebfa50804b2cdf51140b2cf1090245c9c"
   }
  }
 },
 "nbformat": 4,
 "nbformat_minor": 5
}
