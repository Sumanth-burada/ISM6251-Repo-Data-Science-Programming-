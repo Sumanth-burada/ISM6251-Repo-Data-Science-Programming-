{
 "cells": [
  {
   "cell_type": "markdown",
   "id": "66d01c8a-f0cd-42af-aff9-8ba0bbd3c47e",
   "metadata": {
    "slideshow": {
     "slide_type": "slide"
    },
    "tags": []
   },
   "source": [
    "# Predictive Modeling Example"
   ]
  },
  {
   "cell_type": "markdown",
   "id": "049ea964-ba9d-46aa-af88-d13550f27638",
   "metadata": {
    "slideshow": {
     "slide_type": "slide"
    },
    "tags": []
   },
   "source": [
    "## Initial setup"
   ]
  },
  {
   "cell_type": "markdown",
   "id": "9b9796cd-8b03-4aa7-bf6e-fee2340a189e",
   "metadata": {
    "slideshow": {
     "slide_type": "fragment"
    },
    "tags": []
   },
   "source": [
    "Let's import a number of libraries that we expect to use"
   ]
  },
  {
   "cell_type": "code",
   "execution_count": 1,
   "id": "cca96620-674f-43be-9633-3546127c263b",
   "metadata": {
    "slideshow": {
     "slide_type": "fragment"
    },
    "tags": []
   },
   "outputs": [],
   "source": [
    "import matplotlib.pyplot as plt\n",
    "import numpy as np\n",
    "import pandas as pd\n",
    "\n",
    "np.random.seed(1) # set this to ensure the results are repeatable. \n",
    "\n",
    "sample_size = 2000"
   ]
  },
  {
   "cell_type": "markdown",
   "id": "bcc3ce3b-c9bd-4631-a2ae-c02ebcd2879b",
   "metadata": {
    "slideshow": {
     "slide_type": "subslide"
    },
    "tags": []
   },
   "source": [
    "### Let's define a hidden linear relationship/model\n",
    "\n",
    "First let's define our relationship (normally, this is hidden, but since we are creating the data, we will need to identify this)"
   ]
  },
  {
   "cell_type": "code",
   "execution_count": 2,
   "id": "73a337be-a2a5-46ab-9cfe-e92239ccc80f",
   "metadata": {
    "slideshow": {
     "slide_type": "fragment"
    },
    "tags": []
   },
   "outputs": [],
   "source": [
    "# we will define a linear model with the following parameter values (arguements)\n",
    "b2 = 1.5 # slope for x^2\n",
    "b1 = 3.5 # slope for x\n",
    "b0 = 1 # intercept"
   ]
  },
  {
   "cell_type": "code",
   "execution_count": 3,
   "id": "8cfdff81-d71e-422d-ad78-676716656a67",
   "metadata": {
    "slideshow": {
     "slide_type": "fragment"
    },
    "tags": []
   },
   "outputs": [],
   "source": [
    "# we will generate the x data using a normal distribution\n",
    "x_mean = 0\n",
    "x_stdev = 10\n",
    "X = np.round(np.random.normal(x_mean, x_stdev, sample_size),2)\n",
    "\n",
    "# we will generate the y data using our 'hidden function' and the x data\n",
    "y = b0 + b1 * X + b2 * X**2 \n",
    "#y = b0 * X**0 + b1 * X**1 + b2 * X**2 # NOTE: It's more useful to think of a polynomial like this... it's the same as the one above, but says more\n",
    "\n",
    "# we will add some noise to the y data\n",
    "e_mean = 0\n",
    "e_stdev = 125\n",
    "e = np.round(np.random.normal(e_mean, e_stdev, sample_size), 2)\n",
    "y = y + e"
   ]
  },
  {
   "cell_type": "markdown",
   "id": "82e031c0-87a9-4015-938a-0bf1eb51898b",
   "metadata": {
    "slideshow": {
     "slide_type": "fragment"
    },
    "tags": []
   },
   "source": [
    "Let's plot this sample data using a scatter plot"
   ]
  },
  {
   "cell_type": "code",
   "execution_count": 4,
   "id": "c792dab9-889d-4eca-9d7f-5d10df52da3c",
   "metadata": {
    "slideshow": {
     "slide_type": "subslide"
    },
    "tags": []
   },
   "outputs": [
    {
     "data": {
      "image/png": "[encoded data removed]",
      "text/plain": [
       "<Figure size 640x480 with 1 Axes>"
      ]
     },
     "metadata": {},
     "output_type": "display_data"
    }
   ],
   "source": [
    "fig = plt.figure()\n",
    "ax = fig.add_subplot()\n",
    "\n",
    "ax.scatter(X, y, color='red')\n",
    "\n",
    "ax.set_xlabel('input')\n",
    "ax.set_ylabel('target')\n",
    "plt.tight_layout()\n",
    "plt.show()"
   ]
  },
  {
   "cell_type": "code",
   "execution_count": 5,
   "id": "3519defd",
   "metadata": {},
   "outputs": [
    {
     "data": {
      "text/html": [
       "<div>\n",
       "<style scoped>\n",
       "    .dataframe tbody tr th:only-of-type {\n",
       "        vertical-align: middle;\n",
       "    }\n",
       "\n",
       "    .dataframe tbody tr th {\n",
       "        vertical-align: top;\n",
       "    }\n",
       "\n",
       "    .dataframe thead th {\n",
       "        text-align: right;\n",
       "    }\n",
       "</style>\n",
       "<table border=\"1\" class=\"dataframe\">\n",
       "  <thead>\n",
       "    <tr style=\"text-align: right;\">\n",
       "      <th></th>\n",
       "      <th>X</th>\n",
       "      <th>y</th>\n",
       "    </tr>\n",
       "  </thead>\n",
       "  <tbody>\n",
       "    <tr>\n",
       "      <th>0</th>\n",
       "      <td>16.24</td>\n",
       "      <td>514.6364</td>\n",
       "    </tr>\n",
       "    <tr>\n",
       "      <th>1</th>\n",
       "      <td>-6.12</td>\n",
       "      <td>65.6116</td>\n",
       "    </tr>\n",
       "    <tr>\n",
       "      <th>2</th>\n",
       "      <td>-5.28</td>\n",
       "      <td>-31.6724</td>\n",
       "    </tr>\n",
       "  </tbody>\n",
       "</table>\n",
       "</div>"
      ],
      "text/plain": [
       "       X         y\n",
       "0  16.24  514.6364\n",
       "1  -6.12   65.6116\n",
       "2  -5.28  -31.6724"
      ]
     },
     "execution_count": 5,
     "metadata": {},
     "output_type": "execute_result"
    }
   ],
   "source": [
    "df = pd.DataFrame({'X': X, 'y': y})\n",
    "df.head(3)"
   ]
  },
  {
   "cell_type": "code",
   "execution_count": 6,
   "id": "bedb0d18-e61b-49e3-93ac-c0756abae6f7",
   "metadata": {},
   "outputs": [],
   "source": [
    "df.to_csv('./inc_noise.csv', index=False)"
   ]
  },
  {
   "cell_type": "code",
   "execution_count": null,
   "id": "04accf63",
   "metadata": {},
   "outputs": [],
   "source": []
  },
  {
   "cell_type": "code",
   "execution_count": null,
   "id": "ba5aa55b",
   "metadata": {},
   "outputs": [],
   "source": []
  }
 ],
 "metadata": {
  "kernelspec": {
   "display_name": "base",
   "language": "python",
   "name": "python3"
  },
  "language_info": {
   "codemirror_mode": {
    "name": "ipython",
    "version": 3
   },
   "file_extension": ".py",
   "mimetype": "text/x-python",
   "name": "python",
   "nbconvert_exporter": "python",
   "pygments_lexer": "ipython3",
   "version": "3.9.13"
  },
  "vscode": {
   "interpreter": {
    "hash": "e96e05547831992589e1a8106d24904ebfa50804b2cdf51140b2cf1090245c9c"
   }
  }
 },
 "nbformat": 4,
 "nbformat_minor": 5
}
